{
 "cells": [
  {
   "cell_type": "markdown",
   "metadata": {},
   "source": [
    "# Homework 1"
   ]
  },
  {
   "cell_type": "markdown",
   "metadata": {},
   "source": [
    "In this homework, you will get a chance to do some exercises with Numpy, Pandas, and Matplotlib to show us your understanding with this libraries. \n",
    "\n",
    "If you have questions, Google! Additionally you can ask your peers questions on Piazza and/or go to Office Hours.\n",
    "\n",
    "This homework is due **Thursday Feb. 8th, 2018 at 11:59 PM**. Please upload your .ipynb to your private repo on Github. Additionally, submit a pdf on bCourses and in the comment section include a link to your private repo.\n",
    "\n",
    "This homework is long, please start early!"
   ]
  },
  {
   "cell_type": "code",
   "execution_count": 44,
   "metadata": {},
   "outputs": [],
   "source": [
    "import numpy as np\n",
    "import pandas as pd\n",
    "import matplotlib.pyplot as plt\n",
    "\n",
    "%matplotlib inline"
   ]
  },
  {
   "cell_type": "markdown",
   "metadata": {},
   "source": [
    "## NumPy Basics"
   ]
  },
  {
   "cell_type": "markdown",
   "metadata": {},
   "source": [
    "Create two numpy arrays (`a` and `b`). `a` should be all integers between 10-19 (inclusive), and `b` should be ten evenly spaced numbers between 1-7. Print the results below."
   ]
  },
  {
   "cell_type": "code",
   "execution_count": 45,
   "metadata": {},
   "outputs": [
    {
     "name": "stdout",
     "output_type": "stream",
     "text": [
      "a:  [10 11 12 13 14 15 16 17 18 19]\n",
      "b:  [ 1.          1.66666667  2.33333333  3.          3.66666667  4.33333333\n",
      "  5.          5.66666667  6.33333333  7.        ]\n"
     ]
    }
   ],
   "source": [
    "a = np.array(range(10,20))\n",
    "b = np.linspace(1,7,10)\n",
    "\n",
    "print(\"a: \", a)\n",
    "print(\"b: \", b)"
   ]
  },
  {
   "cell_type": "markdown",
   "metadata": {},
   "source": [
    "For `a` and `b` above do the follow and print out the results.\n",
    "\n",
    "1. Square all the elements in both arrays (element-wise).  \n",
    "2. Add both the squared arrays (e.g. [1,2] + [3,4] = [4,6]).  \n",
    "3. Sum the elements with even indices of the added array.  \n",
    "4. Take the square root of the added array (element-wise square root)."
   ]
  },
  {
   "cell_type": "code",
   "execution_count": 46,
   "metadata": {},
   "outputs": [
    {
     "name": "stdout",
     "output_type": "stream",
     "text": [
      "1.  [100 121 144 169 196 225 256 289 324 361] \n",
      " [  1.           2.77777778   5.44444444   9.          13.44444444\n",
      "  18.77777778  25.          32.11111111  40.11111111  49.        ]\n",
      "2.  [ 101.          123.77777778  149.44444444  178.          209.44444444\n",
      "  243.77777778  281.          321.11111111  364.11111111  410.        ]\n",
      "3.  [ 101.          149.44444444  209.44444444  281.          364.11111111]\n",
      "4.  [ 10.04987562  11.12554618  12.22474721  13.34166406  14.47219556\n",
      "  15.61338457  16.76305461  17.91957341  19.08169571  20.24845673]\n"
     ]
    }
   ],
   "source": [
    "a = np.square(a) \n",
    "b = np.square(b)\n",
    "c = a + b\n",
    "d = c[::2]\n",
    "e = np.sqrt(c)\n",
    "print(\"1. \",a,\"\\n\", b)\n",
    "print(\"2. \", c)\n",
    "print(\"3. \", d)\n",
    "print(\"4. \", e)"
   ]
  },
  {
   "cell_type": "markdown",
   "metadata": {},
   "source": [
    "Append `b` to `a`. Reshape the appended array so that it is a 5x4, 2D-array and store the results in a variable called `m`. Print `m`."
   ]
  },
  {
   "cell_type": "code",
   "execution_count": 47,
   "metadata": {},
   "outputs": [
    {
     "name": "stdout",
     "output_type": "stream",
     "text": [
      "m:  [[ 100.          121.          144.          169.        ]\n",
      " [ 196.          225.          256.          289.        ]\n",
      " [ 324.          361.            1.            2.77777778]\n",
      " [   5.44444444    9.           13.44444444   18.77777778]\n",
      " [  25.           32.11111111   40.11111111   49.        ]]\n"
     ]
    }
   ],
   "source": [
    "m = np.append(a,b).reshape(5,4)\n",
    "\n",
    "print(\"m: \", m)"
   ]
  },
  {
   "cell_type": "markdown",
   "metadata": {},
   "source": [
    "Extract the second and the third column of the matrix `m`. Store the resulting 5x2 matrix in a new variable called `m2`. Print `m2`."
   ]
  },
  {
   "cell_type": "code",
   "execution_count": 48,
   "metadata": {},
   "outputs": [
    {
     "name": "stdout",
     "output_type": "stream",
     "text": [
      "m2:  [[ 121.          144.        ]\n",
      " [ 225.          256.        ]\n",
      " [ 361.            1.        ]\n",
      " [   9.           13.44444444]\n",
      " [  32.11111111   40.11111111]]\n"
     ]
    }
   ],
   "source": [
    "m2 = m[:,1:3].reshape(5,2)\n",
    "\n",
    "print(\"m2: \", m2)"
   ]
  },
  {
   "cell_type": "markdown",
   "metadata": {},
   "source": [
    "Take the dot product of `m2` and `m` store the results in a matrix called `m3`. Print `m3`.\n",
    "Note that dot product of two matrices $A\\cdot B = A^T B$"
   ]
  },
  {
   "cell_type": "code",
   "execution_count": 49,
   "metadata": {},
   "outputs": [
    {
     "name": "stdout",
     "output_type": "stream",
     "text": [
      "m3:  [[ 174015.77777778  196699.12345679   76794.01234568   88219.22222222]\n",
      " [  65975.97530864   76794.01234568   88062.65432099  100540.67901235]]\n"
     ]
    }
   ],
   "source": [
    "m3 = np.transpose(m2).dot(m)\n",
    "\n",
    "print(\"m3: \", m3)"
   ]
  },
  {
   "cell_type": "markdown",
   "metadata": {},
   "source": [
    "Round the `m3` matrix to two decimal points. Store the result in place and print the new `m3`."
   ]
  },
  {
   "cell_type": "code",
   "execution_count": 50,
   "metadata": {},
   "outputs": [
    {
     "name": "stdout",
     "output_type": "stream",
     "text": [
      "m3:  [[ 174015.78  196699.12   76794.01   88219.22]\n",
      " [  65975.98   76794.01   88062.65  100540.68]]\n"
     ]
    }
   ],
   "source": [
    "m3 = np.round(m3, decimals=2)\n",
    "\n",
    "print(\"m3: \", m3)"
   ]
  },
  {
   "cell_type": "markdown",
   "metadata": {},
   "source": [
    "Sort the `m3` array so that the highest value is at the top left, the next highest value to the right of the highest, and the lowest value is at the bottom right. Print the sorted `m3` array."
   ]
  },
  {
   "cell_type": "code",
   "execution_count": 51,
   "metadata": {},
   "outputs": [
    {
     "name": "stdout",
     "output_type": "stream",
     "text": [
      "sorted m3:  [[ 196699.12  174015.78   88219.22   76794.01]\n",
      " [ 100540.68   88062.65   76794.01   65975.98]]\n"
     ]
    }
   ],
   "source": [
    "sorted_m3 = np.sort(m3, axis= 0,)\n",
    "sorted_m3 = -np.sort(-m3)\n",
    "print(\"sorted m3: \", sorted_m3)"
   ]
  },
  {
   "cell_type": "markdown",
   "metadata": {},
   "source": [
    "## NumPy and Masks"
   ]
  },
  {
   "cell_type": "markdown",
   "metadata": {},
   "source": [
    "Create an array called `f` where there are 100 equally-spaced values from 0 to pi, inclusive.\n",
    "Take the sin of the array `f` (element-wise) and store that in place. Print `f`."
   ]
  },
  {
   "cell_type": "code",
   "execution_count": 63,
   "metadata": {},
   "outputs": [
    {
     "name": "stdout",
     "output_type": "stream",
     "text": [
      "f:  [  0.00000000e+00   3.17279335e-02   6.34239197e-02   9.50560433e-02\n",
      "   1.26592454e-01   1.58001396e-01   1.89251244e-01   2.20310533e-01\n",
      "   2.51147987e-01   2.81732557e-01   3.12033446e-01   3.42020143e-01\n",
      "   3.71662456e-01   4.00930535e-01   4.29794912e-01   4.58226522e-01\n",
      "   4.86196736e-01   5.13677392e-01   5.40640817e-01   5.67059864e-01\n",
      "   5.92907929e-01   6.18158986e-01   6.42787610e-01   6.66769001e-01\n",
      "   6.90079011e-01   7.12694171e-01   7.34591709e-01   7.55749574e-01\n",
      "   7.76146464e-01   7.95761841e-01   8.14575952e-01   8.32569855e-01\n",
      "   8.49725430e-01   8.66025404e-01   8.81453363e-01   8.95993774e-01\n",
      "   9.09631995e-01   9.22354294e-01   9.34147860e-01   9.45000819e-01\n",
      "   9.54902241e-01   9.63842159e-01   9.71811568e-01   9.78802446e-01\n",
      "   9.84807753e-01   9.89821442e-01   9.93838464e-01   9.96854776e-01\n",
      "   9.98867339e-01   9.99874128e-01   9.99874128e-01   9.98867339e-01\n",
      "   9.96854776e-01   9.93838464e-01   9.89821442e-01   9.84807753e-01\n",
      "   9.78802446e-01   9.71811568e-01   9.63842159e-01   9.54902241e-01\n",
      "   9.45000819e-01   9.34147860e-01   9.22354294e-01   9.09631995e-01\n",
      "   8.95993774e-01   8.81453363e-01   8.66025404e-01   8.49725430e-01\n",
      "   8.32569855e-01   8.14575952e-01   7.95761841e-01   7.76146464e-01\n",
      "   7.55749574e-01   7.34591709e-01   7.12694171e-01   6.90079011e-01\n",
      "   6.66769001e-01   6.42787610e-01   6.18158986e-01   5.92907929e-01\n",
      "   5.67059864e-01   5.40640817e-01   5.13677392e-01   4.86196736e-01\n",
      "   4.58226522e-01   4.29794912e-01   4.00930535e-01   3.71662456e-01\n",
      "   3.42020143e-01   3.12033446e-01   2.81732557e-01   2.51147987e-01\n",
      "   2.20310533e-01   1.89251244e-01   1.58001396e-01   1.26592454e-01\n",
      "   9.50560433e-02   6.34239197e-02   3.17279335e-02   1.22464680e-16]\n"
     ]
    }
   ],
   "source": [
    "f = np.linspace(0,np.pi,100)\n",
    "f = np.sin(f)\n",
    "print(\"f: \", f)"
   ]
  },
  {
   "cell_type": "markdown",
   "metadata": {},
   "source": [
    "Use a 'mask' and print an array that is True when `f` >= 1/2 and False when `f` < 1/2.\n",
    "Print an array sequence that has only those values where `f` >= 1/2."
   ]
  },
  {
   "cell_type": "code",
   "execution_count": 64,
   "metadata": {},
   "outputs": [
    {
     "name": "stdout",
     "output_type": "stream",
     "text": [
      "0.513677391573\n",
      "0.540640817456\n",
      "0.567059863863\n",
      "0.592907929055\n",
      "0.618158986221\n",
      "0.642787609687\n",
      "0.666769000516\n",
      "0.690079011482\n",
      "0.712694171379\n",
      "0.734591708658\n",
      "0.755749574354\n",
      "0.776146464292\n",
      "0.795761840531\n",
      "0.81457595205\n",
      "0.832569854635\n",
      "0.84972542995\n",
      "0.866025403784\n",
      "0.881453363448\n",
      "0.895993774291\n",
      "0.909631995355\n",
      "0.922354294105\n",
      "0.934147860265\n",
      "0.945000818715\n",
      "0.954902241444\n",
      "0.96384215856\n",
      "0.971811568324\n",
      "0.978802446215\n",
      "0.984807753012\n",
      "0.989821441881\n",
      "0.993838464461\n",
      "0.996854775952\n",
      "0.998867339183\n",
      "0.999874127674\n",
      "0.999874127674\n",
      "0.998867339183\n",
      "0.996854775952\n",
      "0.993838464461\n",
      "0.989821441881\n",
      "0.984807753012\n",
      "0.978802446215\n",
      "0.971811568324\n",
      "0.96384215856\n",
      "0.954902241444\n",
      "0.945000818715\n",
      "0.934147860265\n",
      "0.922354294105\n",
      "0.909631995355\n",
      "0.895993774291\n",
      "0.881453363448\n",
      "0.866025403784\n",
      "0.84972542995\n",
      "0.832569854635\n",
      "0.81457595205\n",
      "0.795761840531\n",
      "0.776146464292\n",
      "0.755749574354\n",
      "0.734591708658\n",
      "0.712694171379\n",
      "0.690079011482\n",
      "0.666769000516\n",
      "0.642787609687\n",
      "0.618158986221\n",
      "0.592907929055\n",
      "0.567059863863\n",
      "0.540640817456\n",
      "0.513677391573\n"
     ]
    }
   ],
   "source": [
    "mask = (f >= 1/2)\n",
    "for i in range(len(mask)):\n",
    "    if mask[i]:\n",
    "        print(f[i])"
   ]
  },
  {
   "cell_type": "markdown",
   "metadata": {
    "collapsed": true
   },
   "source": [
    "## NumPy and 2 Variable Prediction"
   ]
  },
  {
   "cell_type": "markdown",
   "metadata": {},
   "source": [
    "Let `x` be the number of miles a person drives per day and `y` be the dollars spent on buying car fuel per day.\n",
    "  \n",
    "We have created 2 numpy arrays each of size 100 that represent `x` and `y`.  \n",
    "`x` (number of miles) ranges from 1 to 10 with a uniform noise of (0, 1/2).  \n",
    "`y` (money spent in dollars) will be from 1 to 20 with a uniform noise (0, 1). \n",
    "\n",
    "Run the cell below."
   ]
  },
  {
   "cell_type": "code",
   "execution_count": 65,
   "metadata": {},
   "outputs": [],
   "source": [
    "# seed the random number generator with a fixed value\n",
    "np.random.seed(500)\n",
    "\n",
    "x=np.linspace(1,10,100)+ np.random.uniform(low=0,high=.5,size=100) \n",
    "y=np.linspace(1,20,100)+ np.random.uniform(low=0,high=1,size=100)\n",
    "# print ('x = ',x)\n",
    "# print ('y= ',y)"
   ]
  },
  {
   "cell_type": "markdown",
   "metadata": {},
   "source": [
    "Find the expected value of `x` and the expected value of `y`."
   ]
  },
  {
   "cell_type": "code",
   "execution_count": 66,
   "metadata": {},
   "outputs": [
    {
     "name": "stdout",
     "output_type": "stream",
     "text": [
      "mean for x and y: 5.78253254159 11.0129816833\n"
     ]
    }
   ],
   "source": [
    "mean_x = np.mean(x)\n",
    "mean_y = np.mean(y)\n",
    "print(\"mean for x and y:\", mean_x, mean_y)"
   ]
  },
  {
   "cell_type": "markdown",
   "metadata": {},
   "source": [
    "Find the variance for `x` and `y`."
   ]
  },
  {
   "cell_type": "code",
   "execution_count": 67,
   "metadata": {},
   "outputs": [
    {
     "name": "stdout",
     "output_type": "stream",
     "text": [
      "variance for x and y: 7.03332752948 30.1139035755\n"
     ]
    }
   ],
   "source": [
    "var_x = np.var(x)\n",
    "var_y = np.var(y)\n",
    "# you can set the axis, for matrix, axis = 0, variance across the row\n",
    "print(\"variance for x and y:\", var_x, var_y)"
   ]
  },
  {
   "cell_type": "markdown",
   "metadata": {},
   "source": [
    "Find the co-variance of `x` and `y`."
   ]
  },
  {
   "cell_type": "code",
   "execution_count": 68,
   "metadata": {},
   "outputs": [
    {
     "name": "stdout",
     "output_type": "stream",
     "text": [
      "Covriance: [[  7.10437124  14.65774383]\n",
      " [ 14.65774383  30.41808442]]\n"
     ]
    }
   ],
   "source": [
    "cov = np.cov(x,y)\n",
    "print(\"Covriance:\", cov)\n",
    "# why the cov(x) is different from var(x)"
   ]
  },
  {
   "cell_type": "markdown",
   "metadata": {},
   "source": [
    "Assume that the number of dollars spent on car fuel is only linearly dependent on the miles driven.\n",
    "Write code that uses a linear predictor to calculate a predicted value of `y` for each `x`.  \n",
    "\n",
    "i.e. $y_{predicted} = f(x) = mx + b.$"
   ]
  },
  {
   "cell_type": "code",
   "execution_count": 69,
   "metadata": {},
   "outputs": [],
   "source": [
    "m = cov[0][1]/var_x\n",
    "n =mean_y - mean_x*m\n",
    "def f(x):\n",
    "    return m*x+n\n",
    "\n",
    "y_predicted = f(x)\n"
   ]
  },
  {
   "cell_type": "markdown",
   "metadata": {},
   "source": [
    "Predict `y` for each value in `x`, put the error into an array called $y_{error}$."
   ]
  },
  {
   "cell_type": "code",
   "execution_count": 70,
   "metadata": {},
   "outputs": [],
   "source": [
    "y_error = (y - y_predicted)**2\n"
   ]
  },
  {
   "cell_type": "markdown",
   "metadata": {},
   "source": [
    "Write code that calculates the root mean square error (RMSE)."
   ]
  },
  {
   "cell_type": "code",
   "execution_count": 71,
   "metadata": {},
   "outputs": [
    {
     "name": "stdout",
     "output_type": "stream",
     "text": [
      "0.0709399504515\n"
     ]
    }
   ],
   "source": [
    "rmse = np.mean(y_error**2)\n",
    "print(rmse)"
   ]
  },
  {
   "cell_type": "markdown",
   "metadata": {},
   "source": [
    "## Pandas"
   ]
  },
  {
   "cell_type": "markdown",
   "metadata": {},
   "source": [
    "### Reading a File"
   ]
  },
  {
   "cell_type": "markdown",
   "metadata": {},
   "source": [
    "Read in a CSV file called 'data3.csv' into a dataframe called df.\n",
    "\n",
    "Data description\n",
    "* Data source: http://www.fao.org/nr/water/aquastat/data/query/index.html\n",
    "* Data, units\n",
    "    * GDP, current USD (CPI adjusted)\n",
    "    * NRI, mm/yr\n",
    "    * Population density, inhab/km^2\n",
    "    * Total area of the country, 1000 ha = 10km^2\n",
    "    * Total Population, unit 1000 inhabitants\n",
    "\n",
    "Display the first 10 lines of the dataframe."
   ]
  },
  {
   "cell_type": "code",
   "execution_count": 72,
   "metadata": {},
   "outputs": [
    {
     "data": {
      "text/html": [
       "<div>\n",
       "<style scoped>\n",
       "    .dataframe tbody tr th:only-of-type {\n",
       "        vertical-align: middle;\n",
       "    }\n",
       "\n",
       "    .dataframe tbody tr th {\n",
       "        vertical-align: top;\n",
       "    }\n",
       "\n",
       "    .dataframe thead th {\n",
       "        text-align: right;\n",
       "    }\n",
       "</style>\n",
       "<table border=\"1\" class=\"dataframe\">\n",
       "  <thead>\n",
       "    <tr style=\"text-align: right;\">\n",
       "      <th></th>\n",
       "      <th>Area</th>\n",
       "      <th>Area Id</th>\n",
       "      <th>Variable Name</th>\n",
       "      <th>Variable Id</th>\n",
       "      <th>Year</th>\n",
       "      <th>Value</th>\n",
       "      <th>Symbol</th>\n",
       "      <th>Md</th>\n",
       "    </tr>\n",
       "  </thead>\n",
       "  <tbody>\n",
       "    <tr>\n",
       "      <th>388</th>\n",
       "      <td>United States of America</td>\n",
       "      <td>231.0</td>\n",
       "      <td>National Rainfall Index (NRI)</td>\n",
       "      <td>4472.0</td>\n",
       "      <td>1996.0</td>\n",
       "      <td>1005.0</td>\n",
       "      <td>E</td>\n",
       "      <td>NaN</td>\n",
       "    </tr>\n",
       "    <tr>\n",
       "      <th>389</th>\n",
       "      <td>United States of America</td>\n",
       "      <td>231.0</td>\n",
       "      <td>National Rainfall Index (NRI)</td>\n",
       "      <td>4472.0</td>\n",
       "      <td>2002.0</td>\n",
       "      <td>938.7</td>\n",
       "      <td>E</td>\n",
       "      <td>NaN</td>\n",
       "    </tr>\n",
       "    <tr>\n",
       "      <th>390</th>\n",
       "      <td>NaN</td>\n",
       "      <td>NaN</td>\n",
       "      <td>NaN</td>\n",
       "      <td>NaN</td>\n",
       "      <td>NaN</td>\n",
       "      <td>NaN</td>\n",
       "      <td>NaN</td>\n",
       "      <td>NaN</td>\n",
       "    </tr>\n",
       "    <tr>\n",
       "      <th>391</th>\n",
       "      <td>E - External data</td>\n",
       "      <td>NaN</td>\n",
       "      <td>NaN</td>\n",
       "      <td>NaN</td>\n",
       "      <td>NaN</td>\n",
       "      <td>NaN</td>\n",
       "      <td>NaN</td>\n",
       "      <td>NaN</td>\n",
       "    </tr>\n",
       "    <tr>\n",
       "      <th>392</th>\n",
       "      <td>I - AQUASTAT estimate</td>\n",
       "      <td>NaN</td>\n",
       "      <td>NaN</td>\n",
       "      <td>NaN</td>\n",
       "      <td>NaN</td>\n",
       "      <td>NaN</td>\n",
       "      <td>NaN</td>\n",
       "      <td>NaN</td>\n",
       "    </tr>\n",
       "    <tr>\n",
       "      <th>393</th>\n",
       "      <td>K - Aggregate data</td>\n",
       "      <td>NaN</td>\n",
       "      <td>NaN</td>\n",
       "      <td>NaN</td>\n",
       "      <td>NaN</td>\n",
       "      <td>NaN</td>\n",
       "      <td>NaN</td>\n",
       "      <td>NaN</td>\n",
       "    </tr>\n",
       "    <tr>\n",
       "      <th>394</th>\n",
       "      <td>L - Modelled data</td>\n",
       "      <td>NaN</td>\n",
       "      <td>NaN</td>\n",
       "      <td>NaN</td>\n",
       "      <td>NaN</td>\n",
       "      <td>NaN</td>\n",
       "      <td>NaN</td>\n",
       "      <td>NaN</td>\n",
       "    </tr>\n",
       "    <tr>\n",
       "      <th>395</th>\n",
       "      <td>(c)  FAO of the UN</td>\n",
       "      <td>NaN</td>\n",
       "      <td>NaN</td>\n",
       "      <td>NaN</td>\n",
       "      <td>NaN</td>\n",
       "      <td>NaN</td>\n",
       "      <td>NaN</td>\n",
       "      <td>NaN</td>\n",
       "    </tr>\n",
       "    <tr>\n",
       "      <th>396</th>\n",
       "      <td>The information contained in AQUASTAT is provi...</td>\n",
       "      <td>NaN</td>\n",
       "      <td>NaN</td>\n",
       "      <td>NaN</td>\n",
       "      <td>NaN</td>\n",
       "      <td>NaN</td>\n",
       "      <td>NaN</td>\n",
       "      <td>NaN</td>\n",
       "    </tr>\n",
       "    <tr>\n",
       "      <th>397</th>\n",
       "      <td>FAO. 2016. AQUASTAT Main Database - Food and A...</td>\n",
       "      <td>NaN</td>\n",
       "      <td>NaN</td>\n",
       "      <td>NaN</td>\n",
       "      <td>NaN</td>\n",
       "      <td>NaN</td>\n",
       "      <td>NaN</td>\n",
       "      <td>NaN</td>\n",
       "    </tr>\n",
       "  </tbody>\n",
       "</table>\n",
       "</div>"
      ],
      "text/plain": [
       "                                                  Area  Area Id  \\\n",
       "388                           United States of America    231.0   \n",
       "389                           United States of America    231.0   \n",
       "390                                                NaN      NaN   \n",
       "391                                  E - External data      NaN   \n",
       "392                              I - AQUASTAT estimate      NaN   \n",
       "393                                 K - Aggregate data      NaN   \n",
       "394                                  L - Modelled data      NaN   \n",
       "395                                 (c)  FAO of the UN      NaN   \n",
       "396  The information contained in AQUASTAT is provi...      NaN   \n",
       "397  FAO. 2016. AQUASTAT Main Database - Food and A...      NaN   \n",
       "\n",
       "                     Variable Name  Variable Id    Year   Value Symbol  Md  \n",
       "388  National Rainfall Index (NRI)       4472.0  1996.0  1005.0      E NaN  \n",
       "389  National Rainfall Index (NRI)       4472.0  2002.0   938.7      E NaN  \n",
       "390                            NaN          NaN     NaN     NaN    NaN NaN  \n",
       "391                            NaN          NaN     NaN     NaN    NaN NaN  \n",
       "392                            NaN          NaN     NaN     NaN    NaN NaN  \n",
       "393                            NaN          NaN     NaN     NaN    NaN NaN  \n",
       "394                            NaN          NaN     NaN     NaN    NaN NaN  \n",
       "395                            NaN          NaN     NaN     NaN    NaN NaN  \n",
       "396                            NaN          NaN     NaN     NaN    NaN NaN  \n",
       "397                            NaN          NaN     NaN     NaN    NaN NaN  "
      ]
     },
     "execution_count": 72,
     "metadata": {},
     "output_type": "execute_result"
    }
   ],
   "source": [
    "df = pd.read_csv(\"data3.csv\")\n",
    "df.tail(10)"
   ]
  },
  {
   "cell_type": "markdown",
   "metadata": {},
   "source": [
    "Display the column names."
   ]
  },
  {
   "cell_type": "code",
   "execution_count": 73,
   "metadata": {},
   "outputs": [
    {
     "data": {
      "text/plain": [
       "array(['Area', 'Area Id', 'Variable Name', 'Variable Id', 'Year', 'Value',\n",
       "       'Symbol', 'Md'], dtype=object)"
      ]
     },
     "execution_count": 73,
     "metadata": {},
     "output_type": "execute_result"
    }
   ],
   "source": [
    "df.columns.values"
   ]
  },
  {
   "cell_type": "markdown",
   "metadata": {},
   "source": [
    "### Data Preprocessing"
   ]
  },
  {
   "cell_type": "markdown",
   "metadata": {},
   "source": [
    "Create a mask of NAN values (i.e. apply `.isnull` on the dataframe). Inspect the mask for 'True' values, they denote NANs.  \n",
    "*Hint: You will notice that the last 8 rows and the last column ('Other') have NAN values. You can also use df.tail() to see the last row.*\n",
    "\n",
    "Remove the bottom 8 rows from the dataframe because they contain NAN values. Also remove the column 'Other'."
   ]
  },
  {
   "cell_type": "code",
   "execution_count": 74,
   "metadata": {},
   "outputs": [],
   "source": [
    "df = df[:-8]\n",
    "df = df.drop(\"Md\", axis= 1)"
   ]
  },
  {
   "cell_type": "markdown",
   "metadata": {},
   "source": [
    "All the columns in our dataframe are not required for analysis. Drop these columns: `Area Id`, `Variable Id`, and `Symbol` and save the new dataframe as `df1`.  "
   ]
  },
  {
   "cell_type": "code",
   "execution_count": 75,
   "metadata": {},
   "outputs": [],
   "source": [
    "df1 = df.drop([\"Area Id\", \"Symbol\"], axis = 1)"
   ]
  },
  {
   "cell_type": "markdown",
   "metadata": {},
   "source": [
    "Display all the unique values in your new dataframe for these columns: `Area`, `Variable Name`, and `Year`.  \n",
    "\n",
    "Note the Countries and the Metrics (ie.recorded variables) represented in your dataset.\n",
    "*Hint: Use .unique( ) method.*"
   ]
  },
  {
   "cell_type": "code",
   "execution_count": 76,
   "metadata": {},
   "outputs": [
    {
     "name": "stdout",
     "output_type": "stream",
     "text": [
      "['Argentina' 'Australia' 'Germany' 'Iceland' 'Ireland' 'Sweden'\n",
      " 'United States of America']\n",
      "\n",
      "['Total area of the country' 'Total population' 'Population density'\n",
      " 'Gross Domestic Product (GDP)' 'National Rainfall Index (NRI)']\n",
      "\n",
      "[ 1962.  1967.  1972.  1977.  1982.  1987.  1992.  1997.  2002.  2007.\n",
      "  2012.  2014.  2015.  1963.  1970.  1974.  1978.  1984.  1990.  1964.\n",
      "  1981.  1985.  1996.  2001.  1969.  1973.  1979.  1993.  1971.  1975.\n",
      "  1986.  1991.  1998.  2000.  1965.  1983.  1988.  1995.]\n"
     ]
    }
   ],
   "source": [
    "print(pd.unique(df1[\"Area\"]))\n",
    "print(\"\")\n",
    "print(pd.unique(df1[\"Variable Name\"]))\n",
    "print(\"\")\n",
    "print(pd.unique(df1[\"Year\"]))"
   ]
  },
  {
   "cell_type": "markdown",
   "metadata": {},
   "source": [
    "Convert the `Year` column string values to pandas datetime objects, where only the year is specified.  \n",
    "*Hint: df1['Year'] = pd.to_datetime(pd.Series(df1['Year']).astype(int),format='%Y').dt.year*\n",
    "\n",
    "Run df1.tail() to see part of the result."
   ]
  },
  {
   "cell_type": "code",
   "execution_count": 77,
   "metadata": {
    "scrolled": true
   },
   "outputs": [
    {
     "data": {
      "text/html": [
       "<div>\n",
       "<style scoped>\n",
       "    .dataframe tbody tr th:only-of-type {\n",
       "        vertical-align: middle;\n",
       "    }\n",
       "\n",
       "    .dataframe tbody tr th {\n",
       "        vertical-align: top;\n",
       "    }\n",
       "\n",
       "    .dataframe thead th {\n",
       "        text-align: right;\n",
       "    }\n",
       "</style>\n",
       "<table border=\"1\" class=\"dataframe\">\n",
       "  <thead>\n",
       "    <tr style=\"text-align: right;\">\n",
       "      <th></th>\n",
       "      <th>Area</th>\n",
       "      <th>Variable Name</th>\n",
       "      <th>Variable Id</th>\n",
       "      <th>Year</th>\n",
       "      <th>Value</th>\n",
       "    </tr>\n",
       "  </thead>\n",
       "  <tbody>\n",
       "    <tr>\n",
       "      <th>385</th>\n",
       "      <td>United States of America</td>\n",
       "      <td>National Rainfall Index (NRI)</td>\n",
       "      <td>4472.0</td>\n",
       "      <td>1981</td>\n",
       "      <td>949.2</td>\n",
       "    </tr>\n",
       "    <tr>\n",
       "      <th>386</th>\n",
       "      <td>United States of America</td>\n",
       "      <td>National Rainfall Index (NRI)</td>\n",
       "      <td>4472.0</td>\n",
       "      <td>1984</td>\n",
       "      <td>974.6</td>\n",
       "    </tr>\n",
       "    <tr>\n",
       "      <th>387</th>\n",
       "      <td>United States of America</td>\n",
       "      <td>National Rainfall Index (NRI)</td>\n",
       "      <td>4472.0</td>\n",
       "      <td>1992</td>\n",
       "      <td>1020.0</td>\n",
       "    </tr>\n",
       "    <tr>\n",
       "      <th>388</th>\n",
       "      <td>United States of America</td>\n",
       "      <td>National Rainfall Index (NRI)</td>\n",
       "      <td>4472.0</td>\n",
       "      <td>1996</td>\n",
       "      <td>1005.0</td>\n",
       "    </tr>\n",
       "    <tr>\n",
       "      <th>389</th>\n",
       "      <td>United States of America</td>\n",
       "      <td>National Rainfall Index (NRI)</td>\n",
       "      <td>4472.0</td>\n",
       "      <td>2002</td>\n",
       "      <td>938.7</td>\n",
       "    </tr>\n",
       "  </tbody>\n",
       "</table>\n",
       "</div>"
      ],
      "text/plain": [
       "                         Area                  Variable Name  Variable Id  \\\n",
       "385  United States of America  National Rainfall Index (NRI)       4472.0   \n",
       "386  United States of America  National Rainfall Index (NRI)       4472.0   \n",
       "387  United States of America  National Rainfall Index (NRI)       4472.0   \n",
       "388  United States of America  National Rainfall Index (NRI)       4472.0   \n",
       "389  United States of America  National Rainfall Index (NRI)       4472.0   \n",
       "\n",
       "     Year   Value  \n",
       "385  1981   949.2  \n",
       "386  1984   974.6  \n",
       "387  1992  1020.0  \n",
       "388  1996  1005.0  \n",
       "389  2002   938.7  "
      ]
     },
     "execution_count": 77,
     "metadata": {},
     "output_type": "execute_result"
    }
   ],
   "source": [
    "df1[\"Year\"] = pd.to_datetime(pd.Series(df1[\"Year\"]).astype(int), format = \"%Y\").dt.year\n",
    "df1.tail()"
   ]
  },
  {
   "cell_type": "markdown",
   "metadata": {},
   "source": [
    "### Extracting Statistics"
   ]
  },
  {
   "cell_type": "markdown",
   "metadata": {},
   "source": [
    "Create a dataframe 'dftemp' to store rows where the `Area` is `Iceland`."
   ]
  },
  {
   "cell_type": "code",
   "execution_count": 78,
   "metadata": {},
   "outputs": [],
   "source": [
    "dftemp = df1.loc[df1[\"Area\"] == \"Iceland\"]"
   ]
  },
  {
   "cell_type": "markdown",
   "metadata": {},
   "source": [
    "Print the years when the National Rainfall Index (NRI) was `> 950` or `< 900` in Iceland using the dataframe you created in the previous question."
   ]
  },
  {
   "cell_type": "code",
   "execution_count": 79,
   "metadata": {},
   "outputs": [
    {
     "data": {
      "text/html": [
       "<div>\n",
       "<style scoped>\n",
       "    .dataframe tbody tr th:only-of-type {\n",
       "        vertical-align: middle;\n",
       "    }\n",
       "\n",
       "    .dataframe tbody tr th {\n",
       "        vertical-align: top;\n",
       "    }\n",
       "\n",
       "    .dataframe thead th {\n",
       "        text-align: right;\n",
       "    }\n",
       "</style>\n",
       "<table border=\"1\" class=\"dataframe\">\n",
       "  <thead>\n",
       "    <tr style=\"text-align: right;\">\n",
       "      <th></th>\n",
       "      <th>Area</th>\n",
       "      <th>Variable Name</th>\n",
       "      <th>Variable Id</th>\n",
       "      <th>Year</th>\n",
       "      <th>Value</th>\n",
       "    </tr>\n",
       "  </thead>\n",
       "  <tbody>\n",
       "    <tr>\n",
       "      <th>214</th>\n",
       "      <td>Iceland</td>\n",
       "      <td>National Rainfall Index (NRI)</td>\n",
       "      <td>4472.0</td>\n",
       "      <td>1967</td>\n",
       "      <td>816.0</td>\n",
       "    </tr>\n",
       "    <tr>\n",
       "      <th>215</th>\n",
       "      <td>Iceland</td>\n",
       "      <td>National Rainfall Index (NRI)</td>\n",
       "      <td>4472.0</td>\n",
       "      <td>1971</td>\n",
       "      <td>963.2</td>\n",
       "    </tr>\n",
       "    <tr>\n",
       "      <th>216</th>\n",
       "      <td>Iceland</td>\n",
       "      <td>National Rainfall Index (NRI)</td>\n",
       "      <td>4472.0</td>\n",
       "      <td>1975</td>\n",
       "      <td>1010.0</td>\n",
       "    </tr>\n",
       "    <tr>\n",
       "      <th>218</th>\n",
       "      <td>Iceland</td>\n",
       "      <td>National Rainfall Index (NRI)</td>\n",
       "      <td>4472.0</td>\n",
       "      <td>1986</td>\n",
       "      <td>968.5</td>\n",
       "    </tr>\n",
       "    <tr>\n",
       "      <th>219</th>\n",
       "      <td>Iceland</td>\n",
       "      <td>National Rainfall Index (NRI)</td>\n",
       "      <td>4472.0</td>\n",
       "      <td>1991</td>\n",
       "      <td>1095.0</td>\n",
       "    </tr>\n",
       "    <tr>\n",
       "      <th>220</th>\n",
       "      <td>Iceland</td>\n",
       "      <td>National Rainfall Index (NRI)</td>\n",
       "      <td>4472.0</td>\n",
       "      <td>1997</td>\n",
       "      <td>993.2</td>\n",
       "    </tr>\n",
       "  </tbody>\n",
       "</table>\n",
       "</div>"
      ],
      "text/plain": [
       "        Area                  Variable Name  Variable Id  Year   Value\n",
       "214  Iceland  National Rainfall Index (NRI)       4472.0  1967   816.0\n",
       "215  Iceland  National Rainfall Index (NRI)       4472.0  1971   963.2\n",
       "216  Iceland  National Rainfall Index (NRI)       4472.0  1975  1010.0\n",
       "218  Iceland  National Rainfall Index (NRI)       4472.0  1986   968.5\n",
       "219  Iceland  National Rainfall Index (NRI)       4472.0  1991  1095.0\n",
       "220  Iceland  National Rainfall Index (NRI)       4472.0  1997   993.2"
      ]
     },
     "metadata": {},
     "output_type": "display_data"
    }
   ],
   "source": [
    "dftemp1 = dftemp.loc[dftemp[\"Variable Name\"] == \"National Rainfall Index (NRI)\"]\n",
    "\n",
    "display(dftemp1.loc[(dftemp1[\"Value\"] > 950) | (dftemp1[\"Value\"] < 900)])\n",
    "# use | instead of or"
   ]
  },
  {
   "cell_type": "markdown",
   "metadata": {},
   "source": [
    "Get all the rows of df1 (from the preprocessed data section of this notebook) where the `Area` is `United States of America` and store that into a new dataframe called `df_usa`. Set the indices of the this dataframe to be the `Year` column.  \n",
    "*Hint: Use .set_index()*"
   ]
  },
  {
   "cell_type": "code",
   "execution_count": 80,
   "metadata": {},
   "outputs": [
    {
     "data": {
      "text/html": [
       "<div>\n",
       "<style scoped>\n",
       "    .dataframe tbody tr th:only-of-type {\n",
       "        vertical-align: middle;\n",
       "    }\n",
       "\n",
       "    .dataframe tbody tr th {\n",
       "        vertical-align: top;\n",
       "    }\n",
       "\n",
       "    .dataframe thead th {\n",
       "        text-align: right;\n",
       "    }\n",
       "</style>\n",
       "<table border=\"1\" class=\"dataframe\">\n",
       "  <thead>\n",
       "    <tr style=\"text-align: right;\">\n",
       "      <th></th>\n",
       "      <th>Area</th>\n",
       "      <th>Variable Name</th>\n",
       "      <th>Variable Id</th>\n",
       "      <th>Value</th>\n",
       "    </tr>\n",
       "    <tr>\n",
       "      <th>Year</th>\n",
       "      <th></th>\n",
       "      <th></th>\n",
       "      <th></th>\n",
       "      <th></th>\n",
       "    </tr>\n",
       "  </thead>\n",
       "  <tbody>\n",
       "    <tr>\n",
       "      <th>1962</th>\n",
       "      <td>United States of America</td>\n",
       "      <td>Total area of the country</td>\n",
       "      <td>4100.0</td>\n",
       "      <td>962909.0</td>\n",
       "    </tr>\n",
       "    <tr>\n",
       "      <th>1967</th>\n",
       "      <td>United States of America</td>\n",
       "      <td>Total area of the country</td>\n",
       "      <td>4100.0</td>\n",
       "      <td>962909.0</td>\n",
       "    </tr>\n",
       "    <tr>\n",
       "      <th>1972</th>\n",
       "      <td>United States of America</td>\n",
       "      <td>Total area of the country</td>\n",
       "      <td>4100.0</td>\n",
       "      <td>962909.0</td>\n",
       "    </tr>\n",
       "    <tr>\n",
       "      <th>1977</th>\n",
       "      <td>United States of America</td>\n",
       "      <td>Total area of the country</td>\n",
       "      <td>4100.0</td>\n",
       "      <td>962909.0</td>\n",
       "    </tr>\n",
       "    <tr>\n",
       "      <th>1982</th>\n",
       "      <td>United States of America</td>\n",
       "      <td>Total area of the country</td>\n",
       "      <td>4100.0</td>\n",
       "      <td>962909.0</td>\n",
       "    </tr>\n",
       "  </tbody>\n",
       "</table>\n",
       "</div>"
      ],
      "text/plain": [
       "                          Area              Variable Name  Variable Id  \\\n",
       "Year                                                                     \n",
       "1962  United States of America  Total area of the country       4100.0   \n",
       "1967  United States of America  Total area of the country       4100.0   \n",
       "1972  United States of America  Total area of the country       4100.0   \n",
       "1977  United States of America  Total area of the country       4100.0   \n",
       "1982  United States of America  Total area of the country       4100.0   \n",
       "\n",
       "         Value  \n",
       "Year            \n",
       "1962  962909.0  \n",
       "1967  962909.0  \n",
       "1972  962909.0  \n",
       "1977  962909.0  \n",
       "1982  962909.0  "
      ]
     },
     "execution_count": 80,
     "metadata": {},
     "output_type": "execute_result"
    }
   ],
   "source": [
    "\n",
    "df_usa = df1.loc[df1[\"Area\"] == \"United States of America\"]\n",
    "\n",
    "df_usa.set_index(\"Year\", inplace= True)\n",
    "df_usa.head()"
   ]
  },
  {
   "cell_type": "markdown",
   "metadata": {},
   "source": [
    "Pivot the dataframe so that the unique `Variable Name` entries become the column entries. The dataframe values should be the ones in the `Value` column. Do this by running the lines of code below."
   ]
  },
  {
   "cell_type": "code",
   "execution_count": 81,
   "metadata": {},
   "outputs": [
    {
     "data": {
      "text/html": [
       "<div>\n",
       "<style scoped>\n",
       "    .dataframe tbody tr th:only-of-type {\n",
       "        vertical-align: middle;\n",
       "    }\n",
       "\n",
       "    .dataframe tbody tr th {\n",
       "        vertical-align: top;\n",
       "    }\n",
       "\n",
       "    .dataframe thead th {\n",
       "        text-align: right;\n",
       "    }\n",
       "</style>\n",
       "<table border=\"1\" class=\"dataframe\">\n",
       "  <thead>\n",
       "    <tr style=\"text-align: right;\">\n",
       "      <th>Variable Name</th>\n",
       "      <th>Gross Domestic Product (GDP)</th>\n",
       "      <th>National Rainfall Index (NRI)</th>\n",
       "      <th>Population density</th>\n",
       "      <th>Total area of the country</th>\n",
       "      <th>Total population</th>\n",
       "      <th>Year</th>\n",
       "    </tr>\n",
       "    <tr>\n",
       "      <th>Year</th>\n",
       "      <th></th>\n",
       "      <th></th>\n",
       "      <th></th>\n",
       "      <th></th>\n",
       "      <th></th>\n",
       "      <th></th>\n",
       "    </tr>\n",
       "  </thead>\n",
       "  <tbody>\n",
       "    <tr>\n",
       "      <th>1962</th>\n",
       "      <td>6.050000e+11</td>\n",
       "      <td>NaN</td>\n",
       "      <td>19.93</td>\n",
       "      <td>962909.0</td>\n",
       "      <td>191861.0</td>\n",
       "      <td>1962</td>\n",
       "    </tr>\n",
       "    <tr>\n",
       "      <th>1965</th>\n",
       "      <td>NaN</td>\n",
       "      <td>928.5</td>\n",
       "      <td>NaN</td>\n",
       "      <td>NaN</td>\n",
       "      <td>NaN</td>\n",
       "      <td>1965</td>\n",
       "    </tr>\n",
       "    <tr>\n",
       "      <th>1967</th>\n",
       "      <td>8.620000e+11</td>\n",
       "      <td>NaN</td>\n",
       "      <td>21.16</td>\n",
       "      <td>962909.0</td>\n",
       "      <td>203713.0</td>\n",
       "      <td>1967</td>\n",
       "    </tr>\n",
       "    <tr>\n",
       "      <th>1969</th>\n",
       "      <td>NaN</td>\n",
       "      <td>952.2</td>\n",
       "      <td>NaN</td>\n",
       "      <td>NaN</td>\n",
       "      <td>NaN</td>\n",
       "      <td>1969</td>\n",
       "    </tr>\n",
       "    <tr>\n",
       "      <th>1972</th>\n",
       "      <td>1.280000e+12</td>\n",
       "      <td>NaN</td>\n",
       "      <td>22.14</td>\n",
       "      <td>962909.0</td>\n",
       "      <td>213220.0</td>\n",
       "      <td>1972</td>\n",
       "    </tr>\n",
       "  </tbody>\n",
       "</table>\n",
       "</div>"
      ],
      "text/plain": [
       "Variable Name  Gross Domestic Product (GDP)  National Rainfall Index (NRI)  \\\n",
       "Year                                                                         \n",
       "1962                           6.050000e+11                            NaN   \n",
       "1965                                    NaN                          928.5   \n",
       "1967                           8.620000e+11                            NaN   \n",
       "1969                                    NaN                          952.2   \n",
       "1972                           1.280000e+12                            NaN   \n",
       "\n",
       "Variable Name  Population density  Total area of the country  \\\n",
       "Year                                                           \n",
       "1962                        19.93                   962909.0   \n",
       "1965                          NaN                        NaN   \n",
       "1967                        21.16                   962909.0   \n",
       "1969                          NaN                        NaN   \n",
       "1972                        22.14                   962909.0   \n",
       "\n",
       "Variable Name  Total population  Year  \n",
       "Year                                   \n",
       "1962                   191861.0  1962  \n",
       "1965                        NaN  1965  \n",
       "1967                   203713.0  1967  \n",
       "1969                        NaN  1969  \n",
       "1972                   213220.0  1972  "
      ]
     },
     "execution_count": 81,
     "metadata": {},
     "output_type": "execute_result"
    }
   ],
   "source": [
    "\n",
    "df_usa = df_usa.pivot(columns='Variable Name',values='Value')\n",
    "# # use the Variable Name as the column entries, group by different entries\n",
    "df_usa[\"Year\"] = df_usa.index\n",
    "df_usa.head()"
   ]
  },
  {
   "cell_type": "markdown",
   "metadata": {},
   "source": [
    "Rename the corresponding columns to ['GDP','NRI','PD','Area','Population']."
   ]
  },
  {
   "cell_type": "code",
   "execution_count": 82,
   "metadata": {},
   "outputs": [
    {
     "data": {
      "text/html": [
       "<div>\n",
       "<style scoped>\n",
       "    .dataframe tbody tr th:only-of-type {\n",
       "        vertical-align: middle;\n",
       "    }\n",
       "\n",
       "    .dataframe tbody tr th {\n",
       "        vertical-align: top;\n",
       "    }\n",
       "\n",
       "    .dataframe thead th {\n",
       "        text-align: right;\n",
       "    }\n",
       "</style>\n",
       "<table border=\"1\" class=\"dataframe\">\n",
       "  <thead>\n",
       "    <tr style=\"text-align: right;\">\n",
       "      <th>Variable Name</th>\n",
       "      <th>GDP</th>\n",
       "      <th>NRI</th>\n",
       "      <th>PD</th>\n",
       "      <th>Area</th>\n",
       "      <th>Population</th>\n",
       "      <th>Year</th>\n",
       "    </tr>\n",
       "    <tr>\n",
       "      <th>Year</th>\n",
       "      <th></th>\n",
       "      <th></th>\n",
       "      <th></th>\n",
       "      <th></th>\n",
       "      <th></th>\n",
       "      <th></th>\n",
       "    </tr>\n",
       "  </thead>\n",
       "  <tbody>\n",
       "    <tr>\n",
       "      <th>1962</th>\n",
       "      <td>6.050000e+11</td>\n",
       "      <td>NaN</td>\n",
       "      <td>19.93</td>\n",
       "      <td>962909.0</td>\n",
       "      <td>191861.0</td>\n",
       "      <td>1962</td>\n",
       "    </tr>\n",
       "    <tr>\n",
       "      <th>1965</th>\n",
       "      <td>NaN</td>\n",
       "      <td>928.5</td>\n",
       "      <td>NaN</td>\n",
       "      <td>NaN</td>\n",
       "      <td>NaN</td>\n",
       "      <td>1965</td>\n",
       "    </tr>\n",
       "    <tr>\n",
       "      <th>1967</th>\n",
       "      <td>8.620000e+11</td>\n",
       "      <td>NaN</td>\n",
       "      <td>21.16</td>\n",
       "      <td>962909.0</td>\n",
       "      <td>203713.0</td>\n",
       "      <td>1967</td>\n",
       "    </tr>\n",
       "    <tr>\n",
       "      <th>1969</th>\n",
       "      <td>NaN</td>\n",
       "      <td>952.2</td>\n",
       "      <td>NaN</td>\n",
       "      <td>NaN</td>\n",
       "      <td>NaN</td>\n",
       "      <td>1969</td>\n",
       "    </tr>\n",
       "    <tr>\n",
       "      <th>1972</th>\n",
       "      <td>1.280000e+12</td>\n",
       "      <td>NaN</td>\n",
       "      <td>22.14</td>\n",
       "      <td>962909.0</td>\n",
       "      <td>213220.0</td>\n",
       "      <td>1972</td>\n",
       "    </tr>\n",
       "  </tbody>\n",
       "</table>\n",
       "</div>"
      ],
      "text/plain": [
       "Variable Name           GDP    NRI     PD      Area  Population  Year\n",
       "Year                                                                 \n",
       "1962           6.050000e+11    NaN  19.93  962909.0    191861.0  1962\n",
       "1965                    NaN  928.5    NaN       NaN         NaN  1965\n",
       "1967           8.620000e+11    NaN  21.16  962909.0    203713.0  1967\n",
       "1969                    NaN  952.2    NaN       NaN         NaN  1969\n",
       "1972           1.280000e+12    NaN  22.14  962909.0    213220.0  1972"
      ]
     },
     "execution_count": 82,
     "metadata": {},
     "output_type": "execute_result"
    }
   ],
   "source": [
    "\n",
    "df_usa.rename(columns= {\"Gross Domestic Product (GDP)\": \"GDP\", \"National Rainfall Index (NRI)\": \"NRI\", \"Population density\": \"PD\",\\\n",
    "              \"Total area of the country\": \"Area\", \"Total population\": \"Population\", \"Year\": \"Year\"}, inplace = True)\n",
    "\n",
    "\n",
    "df_usa.head()"
   ]
  },
  {
   "cell_type": "markdown",
   "metadata": {},
   "source": [
    "Print the output of `df_usa.isnull().sum()`. This gives us the number of NAN values in each column. Replace the NAN values by 0, using `df_usa=df_usa.fillna(0)`. Print the output of `df_usa.isnull().sum()` again."
   ]
  },
  {
   "cell_type": "code",
   "execution_count": 83,
   "metadata": {},
   "outputs": [
    {
     "data": {
      "text/plain": [
       "'Number of NAN values before: '"
      ]
     },
     "metadata": {},
     "output_type": "display_data"
    },
    {
     "data": {
      "text/plain": [
       "Variable Name\n",
       "GDP            7\n",
       "NRI           11\n",
       "PD             7\n",
       "Area           7\n",
       "Population     7\n",
       "Year           0\n",
       "dtype: int64"
      ]
     },
     "metadata": {},
     "output_type": "display_data"
    },
    {
     "data": {
      "text/plain": [
       "'Number of NAN values after: '"
      ]
     },
     "metadata": {},
     "output_type": "display_data"
    },
    {
     "data": {
      "text/plain": [
       "Variable Name\n",
       "GDP           0\n",
       "NRI           0\n",
       "PD            0\n",
       "Area          0\n",
       "Population    0\n",
       "Year          0\n",
       "dtype: int64"
      ]
     },
     "metadata": {},
     "output_type": "display_data"
    },
    {
     "data": {
      "text/html": [
       "<div>\n",
       "<style scoped>\n",
       "    .dataframe tbody tr th:only-of-type {\n",
       "        vertical-align: middle;\n",
       "    }\n",
       "\n",
       "    .dataframe tbody tr th {\n",
       "        vertical-align: top;\n",
       "    }\n",
       "\n",
       "    .dataframe thead th {\n",
       "        text-align: right;\n",
       "    }\n",
       "</style>\n",
       "<table border=\"1\" class=\"dataframe\">\n",
       "  <thead>\n",
       "    <tr style=\"text-align: right;\">\n",
       "      <th>Variable Name</th>\n",
       "      <th>GDP</th>\n",
       "      <th>NRI</th>\n",
       "      <th>PD</th>\n",
       "      <th>Area</th>\n",
       "      <th>Population</th>\n",
       "      <th>Year</th>\n",
       "    </tr>\n",
       "    <tr>\n",
       "      <th>Year</th>\n",
       "      <th></th>\n",
       "      <th></th>\n",
       "      <th></th>\n",
       "      <th></th>\n",
       "      <th></th>\n",
       "      <th></th>\n",
       "    </tr>\n",
       "  </thead>\n",
       "  <tbody>\n",
       "    <tr>\n",
       "      <th>1962</th>\n",
       "      <td>6.050000e+11</td>\n",
       "      <td>0.0</td>\n",
       "      <td>19.93</td>\n",
       "      <td>962909.0</td>\n",
       "      <td>191861.0</td>\n",
       "      <td>1962</td>\n",
       "    </tr>\n",
       "    <tr>\n",
       "      <th>1965</th>\n",
       "      <td>0.000000e+00</td>\n",
       "      <td>928.5</td>\n",
       "      <td>0.00</td>\n",
       "      <td>0.0</td>\n",
       "      <td>0.0</td>\n",
       "      <td>1965</td>\n",
       "    </tr>\n",
       "    <tr>\n",
       "      <th>1967</th>\n",
       "      <td>8.620000e+11</td>\n",
       "      <td>0.0</td>\n",
       "      <td>21.16</td>\n",
       "      <td>962909.0</td>\n",
       "      <td>203713.0</td>\n",
       "      <td>1967</td>\n",
       "    </tr>\n",
       "    <tr>\n",
       "      <th>1969</th>\n",
       "      <td>0.000000e+00</td>\n",
       "      <td>952.2</td>\n",
       "      <td>0.00</td>\n",
       "      <td>0.0</td>\n",
       "      <td>0.0</td>\n",
       "      <td>1969</td>\n",
       "    </tr>\n",
       "    <tr>\n",
       "      <th>1972</th>\n",
       "      <td>1.280000e+12</td>\n",
       "      <td>0.0</td>\n",
       "      <td>22.14</td>\n",
       "      <td>962909.0</td>\n",
       "      <td>213220.0</td>\n",
       "      <td>1972</td>\n",
       "    </tr>\n",
       "  </tbody>\n",
       "</table>\n",
       "</div>"
      ],
      "text/plain": [
       "Variable Name           GDP    NRI     PD      Area  Population  Year\n",
       "Year                                                                 \n",
       "1962           6.050000e+11    0.0  19.93  962909.0    191861.0  1962\n",
       "1965           0.000000e+00  928.5   0.00       0.0         0.0  1965\n",
       "1967           8.620000e+11    0.0  21.16  962909.0    203713.0  1967\n",
       "1969           0.000000e+00  952.2   0.00       0.0         0.0  1969\n",
       "1972           1.280000e+12    0.0  22.14  962909.0    213220.0  1972"
      ]
     },
     "execution_count": 83,
     "metadata": {},
     "output_type": "execute_result"
    }
   ],
   "source": [
    "display(\"Number of NAN values before: \", df_usa.isnull().sum())\n",
    "df_usa = df_usa.fillna(0)\n",
    "display(\"Number of NAN values after: \", df_usa.isnull().sum())\n",
    "df_usa.head()"
   ]
  },
  {
   "cell_type": "markdown",
   "metadata": {},
   "source": [
    "Calculate and print all the column averages and the column standard deviations."
   ]
  },
  {
   "cell_type": "code",
   "execution_count": 84,
   "metadata": {
    "scrolled": true
   },
   "outputs": [
    {
     "name": "stdout",
     "output_type": "stream",
     "text": [
      "Area: Mean: 610314.74, Standard deviation: 466173.92\n",
      "GDP: Mean: 4620894736842.11, Standard deviation: 5926262129793.53\n",
      "Area: Mean: 409.27, Standard deviation: 480.39\n",
      "Area: Mean: 16.70, Standard deviation: 13.19\n",
      "Area: Mean: 161513.42, Standard deviation: 127876.43\n"
     ]
    },
    {
     "data": {
      "text/html": [
       "<div>\n",
       "<style scoped>\n",
       "    .dataframe tbody tr th:only-of-type {\n",
       "        vertical-align: middle;\n",
       "    }\n",
       "\n",
       "    .dataframe tbody tr th {\n",
       "        vertical-align: top;\n",
       "    }\n",
       "\n",
       "    .dataframe thead th {\n",
       "        text-align: right;\n",
       "    }\n",
       "</style>\n",
       "<table border=\"1\" class=\"dataframe\">\n",
       "  <thead>\n",
       "    <tr style=\"text-align: right;\">\n",
       "      <th>Variable Name</th>\n",
       "      <th>GDP</th>\n",
       "      <th>NRI</th>\n",
       "      <th>PD</th>\n",
       "      <th>Area</th>\n",
       "      <th>Population</th>\n",
       "      <th>Year</th>\n",
       "    </tr>\n",
       "    <tr>\n",
       "      <th>Year</th>\n",
       "      <th></th>\n",
       "      <th></th>\n",
       "      <th></th>\n",
       "      <th></th>\n",
       "      <th></th>\n",
       "      <th></th>\n",
       "    </tr>\n",
       "  </thead>\n",
       "  <tbody>\n",
       "    <tr>\n",
       "      <th>1962</th>\n",
       "      <td>6.050000e+11</td>\n",
       "      <td>0.0</td>\n",
       "      <td>19.93</td>\n",
       "      <td>962909.0</td>\n",
       "      <td>191861.0</td>\n",
       "      <td>1962</td>\n",
       "    </tr>\n",
       "    <tr>\n",
       "      <th>1965</th>\n",
       "      <td>0.000000e+00</td>\n",
       "      <td>928.5</td>\n",
       "      <td>0.00</td>\n",
       "      <td>0.0</td>\n",
       "      <td>0.0</td>\n",
       "      <td>1965</td>\n",
       "    </tr>\n",
       "    <tr>\n",
       "      <th>1967</th>\n",
       "      <td>8.620000e+11</td>\n",
       "      <td>0.0</td>\n",
       "      <td>21.16</td>\n",
       "      <td>962909.0</td>\n",
       "      <td>203713.0</td>\n",
       "      <td>1967</td>\n",
       "    </tr>\n",
       "    <tr>\n",
       "      <th>1969</th>\n",
       "      <td>0.000000e+00</td>\n",
       "      <td>952.2</td>\n",
       "      <td>0.00</td>\n",
       "      <td>0.0</td>\n",
       "      <td>0.0</td>\n",
       "      <td>1969</td>\n",
       "    </tr>\n",
       "    <tr>\n",
       "      <th>1972</th>\n",
       "      <td>1.280000e+12</td>\n",
       "      <td>0.0</td>\n",
       "      <td>22.14</td>\n",
       "      <td>962909.0</td>\n",
       "      <td>213220.0</td>\n",
       "      <td>1972</td>\n",
       "    </tr>\n",
       "    <tr>\n",
       "      <th>1974</th>\n",
       "      <td>0.000000e+00</td>\n",
       "      <td>1008.0</td>\n",
       "      <td>0.00</td>\n",
       "      <td>0.0</td>\n",
       "      <td>0.0</td>\n",
       "      <td>1974</td>\n",
       "    </tr>\n",
       "    <tr>\n",
       "      <th>1977</th>\n",
       "      <td>2.090000e+12</td>\n",
       "      <td>0.0</td>\n",
       "      <td>23.17</td>\n",
       "      <td>962909.0</td>\n",
       "      <td>223091.0</td>\n",
       "      <td>1977</td>\n",
       "    </tr>\n",
       "    <tr>\n",
       "      <th>1981</th>\n",
       "      <td>0.000000e+00</td>\n",
       "      <td>949.2</td>\n",
       "      <td>0.00</td>\n",
       "      <td>0.0</td>\n",
       "      <td>0.0</td>\n",
       "      <td>1981</td>\n",
       "    </tr>\n",
       "    <tr>\n",
       "      <th>1982</th>\n",
       "      <td>3.340000e+12</td>\n",
       "      <td>0.0</td>\n",
       "      <td>24.30</td>\n",
       "      <td>962909.0</td>\n",
       "      <td>233954.0</td>\n",
       "      <td>1982</td>\n",
       "    </tr>\n",
       "    <tr>\n",
       "      <th>1984</th>\n",
       "      <td>0.000000e+00</td>\n",
       "      <td>974.6</td>\n",
       "      <td>0.00</td>\n",
       "      <td>0.0</td>\n",
       "      <td>0.0</td>\n",
       "      <td>1984</td>\n",
       "    </tr>\n",
       "    <tr>\n",
       "      <th>1987</th>\n",
       "      <td>4.870000e+12</td>\n",
       "      <td>0.0</td>\n",
       "      <td>25.49</td>\n",
       "      <td>962909.0</td>\n",
       "      <td>245425.0</td>\n",
       "      <td>1987</td>\n",
       "    </tr>\n",
       "    <tr>\n",
       "      <th>1992</th>\n",
       "      <td>6.540000e+12</td>\n",
       "      <td>1020.0</td>\n",
       "      <td>26.78</td>\n",
       "      <td>962909.0</td>\n",
       "      <td>257908.0</td>\n",
       "      <td>1992</td>\n",
       "    </tr>\n",
       "    <tr>\n",
       "      <th>1996</th>\n",
       "      <td>0.000000e+00</td>\n",
       "      <td>1005.0</td>\n",
       "      <td>0.00</td>\n",
       "      <td>0.0</td>\n",
       "      <td>0.0</td>\n",
       "      <td>1996</td>\n",
       "    </tr>\n",
       "    <tr>\n",
       "      <th>1997</th>\n",
       "      <td>8.610000e+12</td>\n",
       "      <td>0.0</td>\n",
       "      <td>28.34</td>\n",
       "      <td>962909.0</td>\n",
       "      <td>272883.0</td>\n",
       "      <td>1997</td>\n",
       "    </tr>\n",
       "    <tr>\n",
       "      <th>2002</th>\n",
       "      <td>1.100000e+13</td>\n",
       "      <td>938.7</td>\n",
       "      <td>29.95</td>\n",
       "      <td>963203.0</td>\n",
       "      <td>288471.0</td>\n",
       "      <td>2002</td>\n",
       "    </tr>\n",
       "    <tr>\n",
       "      <th>2007</th>\n",
       "      <td>1.450000e+13</td>\n",
       "      <td>0.0</td>\n",
       "      <td>31.32</td>\n",
       "      <td>963203.0</td>\n",
       "      <td>301656.0</td>\n",
       "      <td>2007</td>\n",
       "    </tr>\n",
       "    <tr>\n",
       "      <th>2012</th>\n",
       "      <td>1.620000e+13</td>\n",
       "      <td>0.0</td>\n",
       "      <td>32.02</td>\n",
       "      <td>983151.0</td>\n",
       "      <td>314799.0</td>\n",
       "      <td>2012</td>\n",
       "    </tr>\n",
       "    <tr>\n",
       "      <th>2014</th>\n",
       "      <td>0.000000e+00</td>\n",
       "      <td>0.0</td>\n",
       "      <td>0.00</td>\n",
       "      <td>983151.0</td>\n",
       "      <td>0.0</td>\n",
       "      <td>2014</td>\n",
       "    </tr>\n",
       "    <tr>\n",
       "      <th>2015</th>\n",
       "      <td>1.790000e+13</td>\n",
       "      <td>0.0</td>\n",
       "      <td>32.73</td>\n",
       "      <td>0.0</td>\n",
       "      <td>321774.0</td>\n",
       "      <td>2015</td>\n",
       "    </tr>\n",
       "  </tbody>\n",
       "</table>\n",
       "</div>"
      ],
      "text/plain": [
       "Variable Name           GDP     NRI     PD      Area  Population  Year\n",
       "Year                                                                  \n",
       "1962           6.050000e+11     0.0  19.93  962909.0    191861.0  1962\n",
       "1965           0.000000e+00   928.5   0.00       0.0         0.0  1965\n",
       "1967           8.620000e+11     0.0  21.16  962909.0    203713.0  1967\n",
       "1969           0.000000e+00   952.2   0.00       0.0         0.0  1969\n",
       "1972           1.280000e+12     0.0  22.14  962909.0    213220.0  1972\n",
       "1974           0.000000e+00  1008.0   0.00       0.0         0.0  1974\n",
       "1977           2.090000e+12     0.0  23.17  962909.0    223091.0  1977\n",
       "1981           0.000000e+00   949.2   0.00       0.0         0.0  1981\n",
       "1982           3.340000e+12     0.0  24.30  962909.0    233954.0  1982\n",
       "1984           0.000000e+00   974.6   0.00       0.0         0.0  1984\n",
       "1987           4.870000e+12     0.0  25.49  962909.0    245425.0  1987\n",
       "1992           6.540000e+12  1020.0  26.78  962909.0    257908.0  1992\n",
       "1996           0.000000e+00  1005.0   0.00       0.0         0.0  1996\n",
       "1997           8.610000e+12     0.0  28.34  962909.0    272883.0  1997\n",
       "2002           1.100000e+13   938.7  29.95  963203.0    288471.0  2002\n",
       "2007           1.450000e+13     0.0  31.32  963203.0    301656.0  2007\n",
       "2012           1.620000e+13     0.0  32.02  983151.0    314799.0  2012\n",
       "2014           0.000000e+00     0.0   0.00  983151.0         0.0  2014\n",
       "2015           1.790000e+13     0.0  32.73       0.0    321774.0  2015"
      ]
     },
     "execution_count": 84,
     "metadata": {},
     "output_type": "execute_result"
    }
   ],
   "source": [
    "# are you sure not to delete all the NAN values first?\n",
    "# get rid of the zero entries\n",
    "# GDP_c = df_usa[\"GDP\"].loc[df_usa[\"GDP\"] != 0].reset_index()[\"GDP\"]\n",
    "# NRI_c = df_usa[\"NRI\"].loc[df_usa[\"NRI\"] != 0].reset_index()[\"NRI\"]\n",
    "# PD_c = df_usa[\"PD\"].loc[df_usa[\"PD\"] != 0].reset_index()[\"PD\"]\n",
    "# Area_c = df_usa[\"Area\"].loc[df_usa[\"Area\"] != 0].reset_index()[\"Area\"]\n",
    "# Population_c = df_usa[\"Population\"].loc[df_usa[\"Population\"] != 0].reset_index()[\"Population\"]\n",
    "# df_usa = pd.DataFrame({\"GDP\": GDP_c, \"NRI\": NRI_c, \"PD\": PD_c, \"Area\": Area_c, \"Population\": Population_c})\n",
    "\n",
    "print(\"Area: Mean: %.2f, Standard deviation: %.2f\" % (np.mean(df_usa[\"Area\"]), np.std(df_usa[\"Area\"])))\n",
    "print(\"GDP: Mean: %.2f, Standard deviation: %.2f\" % (np.mean(df_usa[\"GDP\"]), np.std(df_usa[\"GDP\"])))\n",
    "print(\"Area: Mean: %.2f, Standard deviation: %.2f\" % (np.mean(df_usa[\"NRI\"]), np.std(df_usa[\"NRI\"])))\n",
    "print(\"Area: Mean: %.2f, Standard deviation: %.2f\" % (np.mean(df_usa[\"PD\"]), np.std(df_usa[\"PD\"])))\n",
    "print(\"Area: Mean: %.2f, Standard deviation: %.2f\" % (np.mean(df_usa[\"Population\"]), np.std(df_usa[\"Population\"])))\n",
    "\n",
    "df_usa"
   ]
  },
  {
   "cell_type": "markdown",
   "metadata": {},
   "source": [
    "Using the `df_usa` dataframe, multiply the `Area` by 10 (so instead of 1000 ha, the unit becomes 100 ha = 1km^2). Store the result in place."
   ]
  },
  {
   "cell_type": "code",
   "execution_count": 85,
   "metadata": {},
   "outputs": [],
   "source": [
    "df_usa[\"Area\"] = df_usa[\"Area\"]*10"
   ]
  },
  {
   "cell_type": "markdown",
   "metadata": {},
   "source": [
    "Create a new column in `df_usa` called `GDP/capita` and populate it with the calculated GDP per capita. Round the results to two decimal points. Store the result in place."
   ]
  },
  {
   "cell_type": "code",
   "execution_count": 86,
   "metadata": {},
   "outputs": [],
   "source": [
    "df_usa[\"GDP/capata\"] = df_usa[\"GDP\"]/df_usa[\"Population\"]\n",
    "df_usa[\"GDP/capata\"] = np.round(df_usa[\"GDP/capata\"], decimals=2)"
   ]
  },
  {
   "cell_type": "markdown",
   "metadata": {},
   "source": [
    "Create a new column in `df_usa` called `PD2` (i.e. population density 2). Calculate the population density. **Note: the units should be inhab/km^2**. Round the reults to two decimal point. Store the result in place."
   ]
  },
  {
   "cell_type": "code",
   "execution_count": 87,
   "metadata": {},
   "outputs": [
    {
     "data": {
      "text/html": [
       "<div>\n",
       "<style scoped>\n",
       "    .dataframe tbody tr th:only-of-type {\n",
       "        vertical-align: middle;\n",
       "    }\n",
       "\n",
       "    .dataframe tbody tr th {\n",
       "        vertical-align: top;\n",
       "    }\n",
       "\n",
       "    .dataframe thead th {\n",
       "        text-align: right;\n",
       "    }\n",
       "</style>\n",
       "<table border=\"1\" class=\"dataframe\">\n",
       "  <thead>\n",
       "    <tr style=\"text-align: right;\">\n",
       "      <th>Variable Name</th>\n",
       "      <th>GDP</th>\n",
       "      <th>NRI</th>\n",
       "      <th>PD</th>\n",
       "      <th>Area</th>\n",
       "      <th>Population</th>\n",
       "      <th>Year</th>\n",
       "      <th>GDP/capata</th>\n",
       "      <th>PD2</th>\n",
       "    </tr>\n",
       "    <tr>\n",
       "      <th>Year</th>\n",
       "      <th></th>\n",
       "      <th></th>\n",
       "      <th></th>\n",
       "      <th></th>\n",
       "      <th></th>\n",
       "      <th></th>\n",
       "      <th></th>\n",
       "      <th></th>\n",
       "    </tr>\n",
       "  </thead>\n",
       "  <tbody>\n",
       "    <tr>\n",
       "      <th>1962</th>\n",
       "      <td>6.050000e+11</td>\n",
       "      <td>0.0</td>\n",
       "      <td>19.93</td>\n",
       "      <td>9629090.0</td>\n",
       "      <td>191861.0</td>\n",
       "      <td>1962</td>\n",
       "      <td>3153324.54</td>\n",
       "      <td>0.019925</td>\n",
       "    </tr>\n",
       "    <tr>\n",
       "      <th>1965</th>\n",
       "      <td>0.000000e+00</td>\n",
       "      <td>928.5</td>\n",
       "      <td>0.00</td>\n",
       "      <td>0.0</td>\n",
       "      <td>0.0</td>\n",
       "      <td>1965</td>\n",
       "      <td>0.00</td>\n",
       "      <td>0.000000</td>\n",
       "    </tr>\n",
       "    <tr>\n",
       "      <th>1967</th>\n",
       "      <td>8.620000e+11</td>\n",
       "      <td>0.0</td>\n",
       "      <td>21.16</td>\n",
       "      <td>9629090.0</td>\n",
       "      <td>203713.0</td>\n",
       "      <td>1967</td>\n",
       "      <td>4231443.26</td>\n",
       "      <td>0.021156</td>\n",
       "    </tr>\n",
       "    <tr>\n",
       "      <th>1969</th>\n",
       "      <td>0.000000e+00</td>\n",
       "      <td>952.2</td>\n",
       "      <td>0.00</td>\n",
       "      <td>0.0</td>\n",
       "      <td>0.0</td>\n",
       "      <td>1969</td>\n",
       "      <td>0.00</td>\n",
       "      <td>0.000000</td>\n",
       "    </tr>\n",
       "    <tr>\n",
       "      <th>1972</th>\n",
       "      <td>1.280000e+12</td>\n",
       "      <td>0.0</td>\n",
       "      <td>22.14</td>\n",
       "      <td>9629090.0</td>\n",
       "      <td>213220.0</td>\n",
       "      <td>1972</td>\n",
       "      <td>6003189.19</td>\n",
       "      <td>0.022143</td>\n",
       "    </tr>\n",
       "  </tbody>\n",
       "</table>\n",
       "</div>"
      ],
      "text/plain": [
       "Variable Name           GDP    NRI     PD       Area  Population  Year  \\\n",
       "Year                                                                     \n",
       "1962           6.050000e+11    0.0  19.93  9629090.0    191861.0  1962   \n",
       "1965           0.000000e+00  928.5   0.00        0.0         0.0  1965   \n",
       "1967           8.620000e+11    0.0  21.16  9629090.0    203713.0  1967   \n",
       "1969           0.000000e+00  952.2   0.00        0.0         0.0  1969   \n",
       "1972           1.280000e+12    0.0  22.14  9629090.0    213220.0  1972   \n",
       "\n",
       "Variable Name  GDP/capata       PD2  \n",
       "Year                                 \n",
       "1962           3153324.54  0.019925  \n",
       "1965                 0.00  0.000000  \n",
       "1967           4231443.26  0.021156  \n",
       "1969                 0.00  0.000000  \n",
       "1972           6003189.19  0.022143  "
      ]
     },
     "execution_count": 87,
     "metadata": {},
     "output_type": "execute_result"
    }
   ],
   "source": [
    "df_usa[\"PD2\"] = df_usa[\"Population\"]/df_usa[\"Area\"]\n",
    "df_usa = df_usa.fillna(0)\n",
    "df_usa.head()"
   ]
  },
  {
   "cell_type": "markdown",
   "metadata": {},
   "source": [
    "Find the maximum value and minimum value of the 'NRI' column in the USA (using pandas methods). What years do the min and max values occur in?"
   ]
  },
  {
   "cell_type": "code",
   "execution_count": 88,
   "metadata": {},
   "outputs": [
    {
     "name": "stdout",
     "output_type": "stream",
     "text": [
      "Max: 1020.000000, Min: 0.000000\n",
      "Max occuried in 1992, Min occuried in 1962\n"
     ]
    }
   ],
   "source": [
    "Max = np.max(df_usa[\"NRI\"])\n",
    "Min = np.min(df_usa[\"NRI\"])\n",
    "print(\"Max: %f, Min: %f\" % (Max, Min))\n",
    "# df2 = df1.loc[df1[\"Area\"] == \"United States of America\"]\n",
    "# df2.set_index(\"Year\")\n",
    "# print(df2)\n",
    "max_year = df_usa[df_usa[\"NRI\"] == Max].index.tolist()\n",
    "\n",
    "min_year = df_usa[df_usa[\"NRI\"] == Min].index.tolist()\n",
    "\n",
    "\n",
    "\n",
    "print(\"Max occuried in %d, Min occuried in %d\" % (max_year[0], min_year[0]))"
   ]
  },
  {
   "cell_type": "markdown",
   "metadata": {},
   "source": [
    "## Matplotlib"
   ]
  },
  {
   "cell_type": "markdown",
   "metadata": {},
   "source": [
    "Create a dataframe called `icecream` that has column `Flavor` with entries `Strawberry`, `Vanilla`, and `Chocolate` and another column with `Price` with entries `3.50`, `3.00`, and `4.25`. "
   ]
  },
  {
   "cell_type": "code",
   "execution_count": 89,
   "metadata": {},
   "outputs": [],
   "source": [
    "icecream = pd.DataFrame({\"Flavor\": [\"Strawberry\", \"Vanilla\", \"Chocolate\"], \"Price\": [3.50, 3.00, 4.25]})"
   ]
  },
  {
   "cell_type": "markdown",
   "metadata": {},
   "source": [
    "Create a bar chart representing the three flavors and their associated prices."
   ]
  },
  {
   "cell_type": "code",
   "execution_count": 90,
   "metadata": {},
   "outputs": [
    {
     "data": {
      "text/plain": [
       "<Container object of 3 artists>"
      ]
     },
     "execution_count": 90,
     "metadata": {},
     "output_type": "execute_result"
    },
    {
     "data": {
      "image/png": "[encoded data removed]",
      "text/plain": [
       "<matplotlib.figure.Figure at 0x22e3aa8a208>"
      ]
     },
     "metadata": {},
     "output_type": "display_data"
    }
   ],
   "source": [
    "f, ax = plt.subplots()\n",
    "x1 = icecream[\"Flavor\"]\n",
    "y1 = icecream[\"Price\"]\n",
    "ax.set_xlabel(\"Flavor\")\n",
    "ax.set_ylabel(\"Price\")\n",
    "ax.bar(x1,y1)\n"
   ]
  },
  {
   "cell_type": "markdown",
   "metadata": {},
   "source": [
    "Create 9 random plots. The top three should be scatter plots (one with green dots, one with purple crosses, and one with blue triangles. The middle three graphs should be a line graph, a horizontal bar chart, and a histogram. The bottom three graphs should be trignometric functions (one sin, one cosine, one tangent)."
   ]
  },
  {
   "cell_type": "code",
   "execution_count": 91,
   "metadata": {},
   "outputs": [
    {
     "data": {
      "text/plain": [
       "Text(0,0.5,'tan(x)')"
      ]
     },
     "execution_count": 91,
     "metadata": {},
     "output_type": "execute_result"
    },
    {
     "data": {
      "image/png": "[encoded data removed]",
      "text/plain": [
       "<matplotlib.figure.Figure at 0x22e3af3b4e0>"
      ]
     },
     "metadata": {},
     "output_type": "display_data"
    }
   ],
   "source": [
    "f = plt.subplots(figsize=(20, 10))\n",
    "ax1 = plt.subplot(3,3,1)\n",
    "ax1.scatter(x, y, color = \"green\")\n",
    "ax1.set_xlabel(\"number of miles\")\n",
    "ax1.set_ylabel(\"money in dollars\")\n",
    "\n",
    "ax2 = plt.subplot(3,3,2)\n",
    "ax2.scatter(x, y, marker=\"+\", color = \"purple\")\n",
    "ax2.set_xlabel(\"number of miles\")\n",
    "ax2.set_ylabel(\"money in dollars\")\n",
    "\n",
    "ax3 = plt.subplot(3,3,3)\n",
    "ax3.scatter(x, y, marker=\"^\", color = \"blue\")\n",
    "ax3.set_xlabel(\"number of miles\")\n",
    "ax3.set_ylabel(\"money in dollars\")\n",
    "\n",
    "ax4 = plt.subplot(3,3,4)\n",
    "ax4.plot(x,y)\n",
    "ax4.set_xlabel(\"number of miles\")\n",
    "ax4.set_ylabel(\"money in dollars\")\n",
    "\n",
    "ax5 = plt.subplot(3,3,5)\n",
    "ax5.barh(x,y,edgecolor = \"red\")\n",
    "ax5.set_xlabel(\"number of miles\")\n",
    "ax5.set_ylabel(\"money in dollars\")\n",
    "\n",
    "ax6 = plt.subplot(3,3,6)\n",
    "ax6.hist(y, edgecolor = \"red\", linewidth= 1.0)\n",
    "ax6.set_xlabel(\"money in dollars\")\n",
    "\n",
    "ax7 = plt.subplot(3,3,7)\n",
    "ax7.plot(x,np.sin(x))\n",
    "ax7.set_xlabel(\"x\")\n",
    "ax7.set_ylabel(\"sin(x)\")\n",
    "\n",
    "ax8 = plt.subplot(3,3,8)\n",
    "ax8.plot(x,np.cos(x))\n",
    "ax8.set_xlabel(\"x\")\n",
    "ax8.set_ylabel(\"cos(x)\")\n",
    "\n",
    "ax9 = plt.subplot(3,3,9)\n",
    "ax9.plot(x,np.tan(x))\n",
    "ax9.set_xlabel(\"x\")\n",
    "ax9.set_ylabel(\"tan(x)\")"
   ]
  },
  {
   "cell_type": "markdown",
   "metadata": {
    "collapsed": true
   },
   "source": [
    "## Extra Credit"
   ]
  },
  {
   "cell_type": "markdown",
   "metadata": {},
   "source": [
    "Run the cell below to read in the data. See: https://www.quantshare.com/sa-43-10-ways-to-download-historical-stock-quotes-data-for-free"
   ]
  },
  {
   "cell_type": "code",
   "execution_count": 92,
   "metadata": {},
   "outputs": [
    {
     "data": {
      "text/html": [
       "<div>\n",
       "<style scoped>\n",
       "    .dataframe tbody tr th:only-of-type {\n",
       "        vertical-align: middle;\n",
       "    }\n",
       "\n",
       "    .dataframe tbody tr th {\n",
       "        vertical-align: top;\n",
       "    }\n",
       "\n",
       "    .dataframe thead th {\n",
       "        text-align: right;\n",
       "    }\n",
       "</style>\n",
       "<table border=\"1\" class=\"dataframe\">\n",
       "  <thead>\n",
       "    <tr style=\"text-align: right;\">\n",
       "      <th></th>\n",
       "      <th>Date</th>\n",
       "      <th>Open</th>\n",
       "      <th>High</th>\n",
       "      <th>Low</th>\n",
       "      <th>Close</th>\n",
       "      <th>Volume</th>\n",
       "    </tr>\n",
       "  </thead>\n",
       "  <tbody>\n",
       "    <tr>\n",
       "      <th>0</th>\n",
       "      <td>8-Feb-18</td>\n",
       "      <td>160.29</td>\n",
       "      <td>161.00</td>\n",
       "      <td>155.03</td>\n",
       "      <td>155.15</td>\n",
       "      <td>54390516</td>\n",
       "    </tr>\n",
       "    <tr>\n",
       "      <th>1</th>\n",
       "      <td>7-Feb-18</td>\n",
       "      <td>163.08</td>\n",
       "      <td>163.40</td>\n",
       "      <td>159.07</td>\n",
       "      <td>159.54</td>\n",
       "      <td>51608580</td>\n",
       "    </tr>\n",
       "    <tr>\n",
       "      <th>2</th>\n",
       "      <td>6-Feb-18</td>\n",
       "      <td>154.83</td>\n",
       "      <td>163.72</td>\n",
       "      <td>154.00</td>\n",
       "      <td>163.03</td>\n",
       "      <td>68243838</td>\n",
       "    </tr>\n",
       "    <tr>\n",
       "      <th>3</th>\n",
       "      <td>5-Feb-18</td>\n",
       "      <td>159.10</td>\n",
       "      <td>163.88</td>\n",
       "      <td>156.00</td>\n",
       "      <td>156.49</td>\n",
       "      <td>72738522</td>\n",
       "    </tr>\n",
       "    <tr>\n",
       "      <th>4</th>\n",
       "      <td>2-Feb-18</td>\n",
       "      <td>166.00</td>\n",
       "      <td>166.80</td>\n",
       "      <td>160.10</td>\n",
       "      <td>160.50</td>\n",
       "      <td>86593825</td>\n",
       "    </tr>\n",
       "  </tbody>\n",
       "</table>\n",
       "</div>"
      ],
      "text/plain": [
       "       Date    Open    High     Low   Close    Volume\n",
       "0  8-Feb-18  160.29  161.00  155.03  155.15  54390516\n",
       "1  7-Feb-18  163.08  163.40  159.07  159.54  51608580\n",
       "2  6-Feb-18  154.83  163.72  154.00  163.03  68243838\n",
       "3  5-Feb-18  159.10  163.88  156.00  156.49  72738522\n",
       "4  2-Feb-18  166.00  166.80  160.10  160.50  86593825"
      ]
     },
     "execution_count": 92,
     "metadata": {},
     "output_type": "execute_result"
    }
   ],
   "source": [
    "df_google = pd.read_csv('https://finance.google.com/finance/historical?output=csv&q=goog')\n",
    "df_apple = pd.read_csv('https://finance.google.com/finance/historical?output=csv&q=aapl')\n",
    "\n",
    "df_disney = pd.read_csv('https://finance.google.com/finance/historical?output=csv&q=dis')\n",
    "df_nike= pd.read_csv('https://finance.google.com/finance/historical?output=csv&q=nke')\n",
    "\n",
    "df_apple.head()"
   ]
  },
  {
   "cell_type": "markdown",
   "metadata": {},
   "source": [
    "Show a 3 x 3 correlation matrix for Nike, Apple, and Disney stock prices for the month of July, 2017.  \n",
    "\n",
    "Hint: Convert `Date` to a pandas datetime object. \n",
    "Change the indices of all the dataframes to `Date`. Use `Date` indices to filter rows.\n",
    "Create a new dataframe that stores values of the `Close` column from each dataframe.\n",
    "Use the `Close` column of each company's stock data to find the correlation using df.corr()."
   ]
  },
  {
   "cell_type": "code",
   "execution_count": 93,
   "metadata": {},
   "outputs": [
    {
     "data": {
      "text/html": [
       "<div>\n",
       "<style scoped>\n",
       "    .dataframe tbody tr th:only-of-type {\n",
       "        vertical-align: middle;\n",
       "    }\n",
       "\n",
       "    .dataframe tbody tr th {\n",
       "        vertical-align: top;\n",
       "    }\n",
       "\n",
       "    .dataframe thead th {\n",
       "        text-align: right;\n",
       "    }\n",
       "</style>\n",
       "<table border=\"1\" class=\"dataframe\">\n",
       "  <thead>\n",
       "    <tr style=\"text-align: right;\">\n",
       "      <th></th>\n",
       "      <th>Open</th>\n",
       "      <th>High</th>\n",
       "      <th>Low</th>\n",
       "      <th>Close</th>\n",
       "      <th>Volume</th>\n",
       "    </tr>\n",
       "    <tr>\n",
       "      <th>Date</th>\n",
       "      <th></th>\n",
       "      <th></th>\n",
       "      <th></th>\n",
       "      <th></th>\n",
       "      <th></th>\n",
       "    </tr>\n",
       "  </thead>\n",
       "  <tbody>\n",
       "    <tr>\n",
       "      <th>2017-02-10</th>\n",
       "      <td>811.70</td>\n",
       "      <td>815.25</td>\n",
       "      <td>809.78</td>\n",
       "      <td>813.67</td>\n",
       "      <td>1134976</td>\n",
       "    </tr>\n",
       "    <tr>\n",
       "      <th>2017-02-13</th>\n",
       "      <td>816.00</td>\n",
       "      <td>820.96</td>\n",
       "      <td>815.49</td>\n",
       "      <td>819.24</td>\n",
       "      <td>1213324</td>\n",
       "    </tr>\n",
       "    <tr>\n",
       "      <th>2017-02-14</th>\n",
       "      <td>819.00</td>\n",
       "      <td>823.00</td>\n",
       "      <td>816.00</td>\n",
       "      <td>820.45</td>\n",
       "      <td>1054732</td>\n",
       "    </tr>\n",
       "    <tr>\n",
       "      <th>2017-02-15</th>\n",
       "      <td>819.36</td>\n",
       "      <td>823.00</td>\n",
       "      <td>818.47</td>\n",
       "      <td>818.98</td>\n",
       "      <td>1313617</td>\n",
       "    </tr>\n",
       "    <tr>\n",
       "      <th>2017-02-16</th>\n",
       "      <td>819.93</td>\n",
       "      <td>824.40</td>\n",
       "      <td>818.98</td>\n",
       "      <td>824.16</td>\n",
       "      <td>1287626</td>\n",
       "    </tr>\n",
       "  </tbody>\n",
       "</table>\n",
       "</div>"
      ],
      "text/plain": [
       "              Open    High     Low   Close   Volume\n",
       "Date                                               \n",
       "2017-02-10  811.70  815.25  809.78  813.67  1134976\n",
       "2017-02-13  816.00  820.96  815.49  819.24  1213324\n",
       "2017-02-14  819.00  823.00  816.00  820.45  1054732\n",
       "2017-02-15  819.36  823.00  818.47  818.98  1313617\n",
       "2017-02-16  819.93  824.40  818.98  824.16  1287626"
      ]
     },
     "metadata": {},
     "output_type": "display_data"
    },
    {
     "data": {
      "text/html": [
       "<div>\n",
       "<style scoped>\n",
       "    .dataframe tbody tr th:only-of-type {\n",
       "        vertical-align: middle;\n",
       "    }\n",
       "\n",
       "    .dataframe tbody tr th {\n",
       "        vertical-align: top;\n",
       "    }\n",
       "\n",
       "    .dataframe thead th {\n",
       "        text-align: right;\n",
       "    }\n",
       "</style>\n",
       "<table border=\"1\" class=\"dataframe\">\n",
       "  <thead>\n",
       "    <tr style=\"text-align: right;\">\n",
       "      <th></th>\n",
       "      <th>Open</th>\n",
       "      <th>High</th>\n",
       "      <th>Low</th>\n",
       "      <th>Close</th>\n",
       "      <th>Volume</th>\n",
       "    </tr>\n",
       "    <tr>\n",
       "      <th>Date</th>\n",
       "      <th></th>\n",
       "      <th></th>\n",
       "      <th></th>\n",
       "      <th></th>\n",
       "      <th></th>\n",
       "    </tr>\n",
       "  </thead>\n",
       "  <tbody>\n",
       "    <tr>\n",
       "      <th>2017-02-10</th>\n",
       "      <td>132.46</td>\n",
       "      <td>132.94</td>\n",
       "      <td>132.05</td>\n",
       "      <td>132.12</td>\n",
       "      <td>20065458</td>\n",
       "    </tr>\n",
       "    <tr>\n",
       "      <th>2017-02-13</th>\n",
       "      <td>133.08</td>\n",
       "      <td>133.82</td>\n",
       "      <td>132.75</td>\n",
       "      <td>133.29</td>\n",
       "      <td>23035421</td>\n",
       "    </tr>\n",
       "    <tr>\n",
       "      <th>2017-02-14</th>\n",
       "      <td>133.47</td>\n",
       "      <td>135.09</td>\n",
       "      <td>133.25</td>\n",
       "      <td>135.02</td>\n",
       "      <td>33226223</td>\n",
       "    </tr>\n",
       "    <tr>\n",
       "      <th>2017-02-15</th>\n",
       "      <td>135.52</td>\n",
       "      <td>136.27</td>\n",
       "      <td>134.62</td>\n",
       "      <td>135.51</td>\n",
       "      <td>35623100</td>\n",
       "    </tr>\n",
       "    <tr>\n",
       "      <th>2017-02-16</th>\n",
       "      <td>135.67</td>\n",
       "      <td>135.90</td>\n",
       "      <td>134.84</td>\n",
       "      <td>135.34</td>\n",
       "      <td>22584555</td>\n",
       "    </tr>\n",
       "  </tbody>\n",
       "</table>\n",
       "</div>"
      ],
      "text/plain": [
       "              Open    High     Low   Close    Volume\n",
       "Date                                                \n",
       "2017-02-10  132.46  132.94  132.05  132.12  20065458\n",
       "2017-02-13  133.08  133.82  132.75  133.29  23035421\n",
       "2017-02-14  133.47  135.09  133.25  135.02  33226223\n",
       "2017-02-15  135.52  136.27  134.62  135.51  35623100\n",
       "2017-02-16  135.67  135.90  134.84  135.34  22584555"
      ]
     },
     "metadata": {},
     "output_type": "display_data"
    }
   ],
   "source": [
    "# df1[\"Year\"] = pd.to_datetime(pd.Series(df1[\"Year\"]).astype(int), format = \"%Y\").dt.year\n",
    "\n",
    "df_google[\"Date\"] = pd.to_datetime(pd.Series(df_google[\"Date\"]))\n",
    "df_google.set_index(\"Date\", inplace= True)\n",
    "df_google.sort_index(inplace= True)\n",
    "\n",
    "df_apple[\"Date\"] = pd.to_datetime(pd.Series(df_apple[\"Date\"]))\n",
    "df_apple.set_index(\"Date\", inplace= True)\n",
    "df_apple.sort_index(inplace= True)\n",
    "\n",
    "df_disney[\"Date\"] = pd.to_datetime(pd.Series(df_disney[\"Date\"]))\n",
    "df_disney.set_index(\"Date\", inplace= True)\n",
    "df_disney.sort_index(inplace= True)\n",
    "\n",
    "df_nike[\"Date\"] = pd.to_datetime(pd.Series(df_nike[\"Date\"]))\n",
    "df_nike.set_index(\"Date\", inplace= True)\n",
    "df_nike.sort_index(inplace= True)\n",
    "\n",
    "display(df_google.head(), df_apple.head())\n",
    "\n",
    "\n"
   ]
  },
  {
   "cell_type": "code",
   "execution_count": 94,
   "metadata": {},
   "outputs": [
    {
     "data": {
      "text/html": [
       "<div>\n",
       "<style scoped>\n",
       "    .dataframe tbody tr th:only-of-type {\n",
       "        vertical-align: middle;\n",
       "    }\n",
       "\n",
       "    .dataframe tbody tr th {\n",
       "        vertical-align: top;\n",
       "    }\n",
       "\n",
       "    .dataframe thead th {\n",
       "        text-align: right;\n",
       "    }\n",
       "</style>\n",
       "<table border=\"1\" class=\"dataframe\">\n",
       "  <thead>\n",
       "    <tr style=\"text-align: right;\">\n",
       "      <th></th>\n",
       "      <th>apple</th>\n",
       "      <th>disney</th>\n",
       "      <th>google</th>\n",
       "      <th>nike</th>\n",
       "    </tr>\n",
       "  </thead>\n",
       "  <tbody>\n",
       "    <tr>\n",
       "      <th>apple</th>\n",
       "      <td>1.000000</td>\n",
       "      <td>0.524912</td>\n",
       "      <td>0.805168</td>\n",
       "      <td>0.417947</td>\n",
       "    </tr>\n",
       "    <tr>\n",
       "      <th>disney</th>\n",
       "      <td>0.524912</td>\n",
       "      <td>1.000000</td>\n",
       "      <td>0.188795</td>\n",
       "      <td>0.459045</td>\n",
       "    </tr>\n",
       "    <tr>\n",
       "      <th>google</th>\n",
       "      <td>0.805168</td>\n",
       "      <td>0.188795</td>\n",
       "      <td>1.000000</td>\n",
       "      <td>0.351716</td>\n",
       "    </tr>\n",
       "    <tr>\n",
       "      <th>nike</th>\n",
       "      <td>0.417947</td>\n",
       "      <td>0.459045</td>\n",
       "      <td>0.351716</td>\n",
       "      <td>1.000000</td>\n",
       "    </tr>\n",
       "  </tbody>\n",
       "</table>\n",
       "</div>"
      ],
      "text/plain": [
       "           apple    disney    google      nike\n",
       "apple   1.000000  0.524912  0.805168  0.417947\n",
       "disney  0.524912  1.000000  0.188795  0.459045\n",
       "google  0.805168  0.188795  1.000000  0.351716\n",
       "nike    0.417947  0.459045  0.351716  1.000000"
      ]
     },
     "execution_count": 94,
     "metadata": {},
     "output_type": "execute_result"
    }
   ],
   "source": [
    "df_new_july = pd.DataFrame({\"google\": df_google.loc[(df_google.index.year == 2017) & (df_google.index.month == 7)][\"Close\"], \\\n",
    "                            \"apple\": df_apple.loc[(df_apple.index.year == 2017) & (df_apple.index.month == 7)][\"Close\"], \\\n",
    "                            \"disney\": df_disney.loc[(df_disney.index.year == 2017) & (df_disney.index.month == 7)][\"Close\"],\\\n",
    "                       \"nike\": df_nike.loc[(df_nike.index.year == 2017) & (df_nike.index.month == 7)][\"Close\"]})\n",
    "df_new_july.corr()"
   ]
  },
  {
   "cell_type": "markdown",
   "metadata": {},
   "source": [
    "Show the same correlation matrix but over different time periods.\n",
    "1. the last 20 days  \n",
    "2. the last 80 days"
   ]
  },
  {
   "cell_type": "code",
   "execution_count": 95,
   "metadata": {},
   "outputs": [
    {
     "data": {
      "text/plain": [
       "'Correlation for the first 20 days:'"
      ]
     },
     "metadata": {},
     "output_type": "display_data"
    },
    {
     "data": {
      "text/html": [
       "<div>\n",
       "<style scoped>\n",
       "    .dataframe tbody tr th:only-of-type {\n",
       "        vertical-align: middle;\n",
       "    }\n",
       "\n",
       "    .dataframe tbody tr th {\n",
       "        vertical-align: top;\n",
       "    }\n",
       "\n",
       "    .dataframe thead th {\n",
       "        text-align: right;\n",
       "    }\n",
       "</style>\n",
       "<table border=\"1\" class=\"dataframe\">\n",
       "  <thead>\n",
       "    <tr style=\"text-align: right;\">\n",
       "      <th></th>\n",
       "      <th>apple</th>\n",
       "      <th>disney</th>\n",
       "      <th>google</th>\n",
       "      <th>nike</th>\n",
       "    </tr>\n",
       "  </thead>\n",
       "  <tbody>\n",
       "    <tr>\n",
       "      <th>apple</th>\n",
       "      <td>1.000000</td>\n",
       "      <td>0.849213</td>\n",
       "      <td>0.798739</td>\n",
       "      <td>0.302779</td>\n",
       "    </tr>\n",
       "    <tr>\n",
       "      <th>disney</th>\n",
       "      <td>0.849213</td>\n",
       "      <td>1.000000</td>\n",
       "      <td>0.658487</td>\n",
       "      <td>-0.016865</td>\n",
       "    </tr>\n",
       "    <tr>\n",
       "      <th>google</th>\n",
       "      <td>0.798739</td>\n",
       "      <td>0.658487</td>\n",
       "      <td>1.000000</td>\n",
       "      <td>0.270564</td>\n",
       "    </tr>\n",
       "    <tr>\n",
       "      <th>nike</th>\n",
       "      <td>0.302779</td>\n",
       "      <td>-0.016865</td>\n",
       "      <td>0.270564</td>\n",
       "      <td>1.000000</td>\n",
       "    </tr>\n",
       "  </tbody>\n",
       "</table>\n",
       "</div>"
      ],
      "text/plain": [
       "           apple    disney    google      nike\n",
       "apple   1.000000  0.849213  0.798739  0.302779\n",
       "disney  0.849213  1.000000  0.658487 -0.016865\n",
       "google  0.798739  0.658487  1.000000  0.270564\n",
       "nike    0.302779 -0.016865  0.270564  1.000000"
      ]
     },
     "metadata": {},
     "output_type": "display_data"
    },
    {
     "name": "stdout",
     "output_type": "stream",
     "text": [
      "\n"
     ]
    },
    {
     "data": {
      "text/plain": [
       "'Correlation for the last 80 days:'"
      ]
     },
     "metadata": {},
     "output_type": "display_data"
    },
    {
     "data": {
      "text/html": [
       "<div>\n",
       "<style scoped>\n",
       "    .dataframe tbody tr th:only-of-type {\n",
       "        vertical-align: middle;\n",
       "    }\n",
       "\n",
       "    .dataframe tbody tr th {\n",
       "        vertical-align: top;\n",
       "    }\n",
       "\n",
       "    .dataframe thead th {\n",
       "        text-align: right;\n",
       "    }\n",
       "</style>\n",
       "<table border=\"1\" class=\"dataframe\">\n",
       "  <thead>\n",
       "    <tr style=\"text-align: right;\">\n",
       "      <th></th>\n",
       "      <th>apple</th>\n",
       "      <th>disney</th>\n",
       "      <th>google</th>\n",
       "      <th>nike</th>\n",
       "    </tr>\n",
       "  </thead>\n",
       "  <tbody>\n",
       "    <tr>\n",
       "      <th>apple</th>\n",
       "      <td>1.000000</td>\n",
       "      <td>0.588532</td>\n",
       "      <td>0.493026</td>\n",
       "      <td>0.401821</td>\n",
       "    </tr>\n",
       "    <tr>\n",
       "      <th>disney</th>\n",
       "      <td>0.588532</td>\n",
       "      <td>1.000000</td>\n",
       "      <td>0.778008</td>\n",
       "      <td>0.885038</td>\n",
       "    </tr>\n",
       "    <tr>\n",
       "      <th>google</th>\n",
       "      <td>0.493026</td>\n",
       "      <td>0.778008</td>\n",
       "      <td>1.000000</td>\n",
       "      <td>0.839613</td>\n",
       "    </tr>\n",
       "    <tr>\n",
       "      <th>nike</th>\n",
       "      <td>0.401821</td>\n",
       "      <td>0.885038</td>\n",
       "      <td>0.839613</td>\n",
       "      <td>1.000000</td>\n",
       "    </tr>\n",
       "  </tbody>\n",
       "</table>\n",
       "</div>"
      ],
      "text/plain": [
       "           apple    disney    google      nike\n",
       "apple   1.000000  0.588532  0.493026  0.401821\n",
       "disney  0.588532  1.000000  0.778008  0.885038\n",
       "google  0.493026  0.778008  1.000000  0.839613\n",
       "nike    0.401821  0.885038  0.839613  1.000000"
      ]
     },
     "metadata": {},
     "output_type": "display_data"
    }
   ],
   "source": [
    "# store the whole period\n",
    "df_new = pd.DataFrame({\"google\": df_google[\"Close\"], \"apple\": df_apple[\"Close\"], \"disney\": df_disney[\"Close\"],\\\n",
    "                       \"nike\": df_nike[\"Close\"]})\n",
    "\n",
    "corr_20 = df_new[:20].corr()\n",
    "corr_80 = df_new[-80:].corr()\n",
    "display(\"Correlation for the first 20 days:\", corr_20)\n",
    "print(\"\")\n",
    "display(\"Correlation for the last 80 days:\", corr_80)"
   ]
  },
  {
   "cell_type": "markdown",
   "metadata": {},
   "source": [
    "Change the code so that it accepts a list of any stock symbols (i.e. ['NKE', 'APPL', 'DIS', ... ]) and creates a correlation matrix for the past 100 days."
   ]
  },
  {
   "cell_type": "code",
   "execution_count": 96,
   "metadata": {},
   "outputs": [],
   "source": [
    "def get_corr(l):\n",
    "    df_new = pd.DataFrame()\n",
    "    for i in l:\n",
    "        link = r\"https://finance.google.com/finance/historical?output=csv&q={}\".format(i)\n",
    "        exec('df_{} = pd.read_csv(\"{}\")'.format(str(i),link))\n",
    "        exec('df_{}[\"Date\"] = pd.to_datetime(pd.Series(df_{}[\"Date\"]))'.format(str(i),str(i)))\n",
    "        exec('df_{}.set_index(\"Date\", inplace= True)'.format(str(i)))\n",
    "        exec('df_{}.sort_index(inplace= True)'.format(str(i)))\n",
    "    \n",
    "    for i in l:\n",
    "        exec('df_new[\"{}\"] = df_{}[\"Close\"]'.format(str(i),str(i)))\n",
    "\n",
    "    \n",
    "    return df_new[l][-100:].corr()"
   ]
  },
  {
   "cell_type": "code",
   "execution_count": 97,
   "metadata": {},
   "outputs": [
    {
     "data": {
      "text/html": [
       "<div>\n",
       "<style scoped>\n",
       "    .dataframe tbody tr th:only-of-type {\n",
       "        vertical-align: middle;\n",
       "    }\n",
       "\n",
       "    .dataframe tbody tr th {\n",
       "        vertical-align: top;\n",
       "    }\n",
       "\n",
       "    .dataframe thead th {\n",
       "        text-align: right;\n",
       "    }\n",
       "</style>\n",
       "<table border=\"1\" class=\"dataframe\">\n",
       "  <thead>\n",
       "    <tr style=\"text-align: right;\">\n",
       "      <th></th>\n",
       "      <th>goog</th>\n",
       "      <th>aapl</th>\n",
       "      <th>dis</th>\n",
       "      <th>nke</th>\n",
       "    </tr>\n",
       "  </thead>\n",
       "  <tbody>\n",
       "    <tr>\n",
       "      <th>goog</th>\n",
       "      <td>1.000000</td>\n",
       "      <td>0.720482</td>\n",
       "      <td>0.832780</td>\n",
       "      <td>0.879636</td>\n",
       "    </tr>\n",
       "    <tr>\n",
       "      <th>aapl</th>\n",
       "      <td>0.720482</td>\n",
       "      <td>1.000000</td>\n",
       "      <td>0.721132</td>\n",
       "      <td>0.669868</td>\n",
       "    </tr>\n",
       "    <tr>\n",
       "      <th>dis</th>\n",
       "      <td>0.832780</td>\n",
       "      <td>0.721132</td>\n",
       "      <td>1.000000</td>\n",
       "      <td>0.911462</td>\n",
       "    </tr>\n",
       "    <tr>\n",
       "      <th>nke</th>\n",
       "      <td>0.879636</td>\n",
       "      <td>0.669868</td>\n",
       "      <td>0.911462</td>\n",
       "      <td>1.000000</td>\n",
       "    </tr>\n",
       "  </tbody>\n",
       "</table>\n",
       "</div>"
      ],
      "text/plain": [
       "          goog      aapl       dis       nke\n",
       "goog  1.000000  0.720482  0.832780  0.879636\n",
       "aapl  0.720482  1.000000  0.721132  0.669868\n",
       "dis   0.832780  0.721132  1.000000  0.911462\n",
       "nke   0.879636  0.669868  0.911462  1.000000"
      ]
     },
     "metadata": {},
     "output_type": "display_data"
    }
   ],
   "source": [
    "List = ['goog', 'aapl', 'dis', 'nke']\n",
    "corr_100 = get_corr(List)\n",
    "display(corr_100)"
   ]
  },
  {
   "cell_type": "code",
   "execution_count": null,
   "metadata": {},
   "outputs": [],
   "source": []
  }
 ],
 "metadata": {
  "anaconda-cloud": {},
  "kernelspec": {
   "display_name": "Python 3",
   "language": "python",
   "name": "python3"
  },
  "language_info": {
   "codemirror_mode": {
    "name": "ipython",
    "version": 3
   },
   "file_extension": ".py",
   "mimetype": "text/x-python",
   "name": "python",
   "nbconvert_exporter": "python",
   "pygments_lexer": "ipython3",
   "version": "3.6.3"
  }
 },
 "nbformat": 4,
 "nbformat_minor": 1
}
