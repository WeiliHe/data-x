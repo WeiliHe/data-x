{
 "cells": [
  {
   "cell_type": "markdown",
   "metadata": {},
   "source": [
    "# Data-X Spring 2018: Homework 02\n",
    "\n",
    "### Regression, Classification, Webscraping\n",
    "\n",
    "**Authors:** Sana Iqbal (Part 1, 2, 3), Alexander Fred-Ojala (Extra Credit)\n",
    "\n",
    "\n",
    "In this homework, you will do some exercises with prediction-classification, regression and web-scraping.\n"
   ]
  },
  {
   "cell_type": "markdown",
   "metadata": {},
   "source": [
    "## Part 1"
   ]
  },
  {
   "cell_type": "markdown",
   "metadata": {},
   "source": [
    "\n",
    "### Data:\n",
    "__Data Source__:\n",
    "Data file is uploaded to bCourses and is named: __Energy.csv__\n",
    "\n",
    "The dataset was created by Angeliki Xifara ( Civil/Structural Engineer) and was processed by Athanasios Tsanas, Oxford Centre for Industrial and Applied Mathematics, University of Oxford, UK).\n",
    "\n",
    "__Data Description__:\n",
    "\n",
    "The dataset contains eight attributes of a building (or features, denoted by X1...X8) and response being the heating load on the building, y1. \n",
    "\n",
    "* X1\tRelative Compactness \n",
    "* X2\tSurface Area \n",
    "* X3\tWall Area \n",
    "*  X4\tRoof Area \n",
    "*  X5\tOverall Height \n",
    "* X6\tOrientation \n",
    "*  X7\tGlazing Area \n",
    "*  X8\tGlazing Area Distribution \n",
    "*  y1\tHeating Load \n"
   ]
  },
  {
   "cell_type": "markdown",
   "metadata": {},
   "source": [
    "#### Q1:Read the data file in python. Describe data features in terms of type, distribution range and mean values. Plot feature distributions.This step should give you clues about data sufficiency."
   ]
  },
  {
   "cell_type": "code",
   "execution_count": 181,
   "metadata": {},
   "outputs": [],
   "source": [
    "# No warnings\n",
    "import warnings\n",
    "warnings.filterwarnings('ignore') # Filter out warnings\n",
    "\n",
    "# data analysis and wrangling\n",
    "import pandas as pd\n",
    "import numpy as np\n",
    "import random as rnd\n",
    "import math\n",
    "# visualization\n",
    "import seaborn as sns\n",
    "import matplotlib.pyplot as plt\n",
    "%matplotlib inline\n",
    "\n",
    "# machine learning\n",
    "from sklearn.linear_model import LogisticRegression\n",
    "from sklearn.svm import SVC, LinearSVC\n",
    "from sklearn.ensemble import RandomForestClassifier\n",
    "from sklearn.neighbors import KNeighborsClassifier\n",
    "from sklearn.naive_bayes import GaussianNB # Gaussian Naive Bays\n",
    "from sklearn.linear_model import Perceptron\n",
    "from sklearn.linear_model import SGDClassifier #stochastic gradient descent\n",
    "from sklearn.tree import DecisionTreeClassifier\n",
    "\n",
    "# play styling\n",
    "sns.set(style='white', context='notebook', palette='deep')\n",
    "plt.rcParams[ 'figure.figsize' ] = 9 , 5"
   ]
  },
  {
   "cell_type": "code",
   "execution_count": 182,
   "metadata": {
    "scrolled": true
   },
   "outputs": [],
   "source": [
    "energy_df = pd.read_csv('Energy.csv')"
   ]
  },
  {
   "cell_type": "code",
   "execution_count": 183,
   "metadata": {
    "scrolled": true
   },
   "outputs": [
    {
     "data": {
      "text/html": [
       "<div>\n",
       "<style scoped>\n",
       "    .dataframe tbody tr th:only-of-type {\n",
       "        vertical-align: middle;\n",
       "    }\n",
       "\n",
       "    .dataframe tbody tr th {\n",
       "        vertical-align: top;\n",
       "    }\n",
       "\n",
       "    .dataframe thead th {\n",
       "        text-align: right;\n",
       "    }\n",
       "</style>\n",
       "<table border=\"1\" class=\"dataframe\">\n",
       "  <thead>\n",
       "    <tr style=\"text-align: right;\">\n",
       "      <th></th>\n",
       "      <th>X1</th>\n",
       "      <th>X2</th>\n",
       "      <th>X3</th>\n",
       "      <th>X4</th>\n",
       "      <th>X5</th>\n",
       "      <th>X6</th>\n",
       "      <th>X7</th>\n",
       "      <th>X8</th>\n",
       "      <th>Y1</th>\n",
       "    </tr>\n",
       "  </thead>\n",
       "  <tbody>\n",
       "    <tr>\n",
       "      <th>count</th>\n",
       "      <td>768.000000</td>\n",
       "      <td>768.000000</td>\n",
       "      <td>768.000000</td>\n",
       "      <td>768.000000</td>\n",
       "      <td>768.00000</td>\n",
       "      <td>768.000000</td>\n",
       "      <td>768.000000</td>\n",
       "      <td>768.00000</td>\n",
       "      <td>768.000000</td>\n",
       "    </tr>\n",
       "    <tr>\n",
       "      <th>mean</th>\n",
       "      <td>0.764167</td>\n",
       "      <td>671.708333</td>\n",
       "      <td>318.500000</td>\n",
       "      <td>176.604167</td>\n",
       "      <td>5.25000</td>\n",
       "      <td>3.500000</td>\n",
       "      <td>0.234375</td>\n",
       "      <td>2.81250</td>\n",
       "      <td>22.307201</td>\n",
       "    </tr>\n",
       "    <tr>\n",
       "      <th>std</th>\n",
       "      <td>0.105777</td>\n",
       "      <td>88.086116</td>\n",
       "      <td>43.626481</td>\n",
       "      <td>45.165950</td>\n",
       "      <td>1.75114</td>\n",
       "      <td>1.118763</td>\n",
       "      <td>0.133221</td>\n",
       "      <td>1.55096</td>\n",
       "      <td>10.090196</td>\n",
       "    </tr>\n",
       "    <tr>\n",
       "      <th>min</th>\n",
       "      <td>0.620000</td>\n",
       "      <td>514.500000</td>\n",
       "      <td>245.000000</td>\n",
       "      <td>110.250000</td>\n",
       "      <td>3.50000</td>\n",
       "      <td>2.000000</td>\n",
       "      <td>0.000000</td>\n",
       "      <td>0.00000</td>\n",
       "      <td>6.010000</td>\n",
       "    </tr>\n",
       "    <tr>\n",
       "      <th>25%</th>\n",
       "      <td>0.682500</td>\n",
       "      <td>606.375000</td>\n",
       "      <td>294.000000</td>\n",
       "      <td>140.875000</td>\n",
       "      <td>3.50000</td>\n",
       "      <td>2.750000</td>\n",
       "      <td>0.100000</td>\n",
       "      <td>1.75000</td>\n",
       "      <td>12.992500</td>\n",
       "    </tr>\n",
       "    <tr>\n",
       "      <th>50%</th>\n",
       "      <td>0.750000</td>\n",
       "      <td>673.750000</td>\n",
       "      <td>318.500000</td>\n",
       "      <td>183.750000</td>\n",
       "      <td>5.25000</td>\n",
       "      <td>3.500000</td>\n",
       "      <td>0.250000</td>\n",
       "      <td>3.00000</td>\n",
       "      <td>18.950000</td>\n",
       "    </tr>\n",
       "    <tr>\n",
       "      <th>75%</th>\n",
       "      <td>0.830000</td>\n",
       "      <td>741.125000</td>\n",
       "      <td>343.000000</td>\n",
       "      <td>220.500000</td>\n",
       "      <td>7.00000</td>\n",
       "      <td>4.250000</td>\n",
       "      <td>0.400000</td>\n",
       "      <td>4.00000</td>\n",
       "      <td>31.667500</td>\n",
       "    </tr>\n",
       "    <tr>\n",
       "      <th>max</th>\n",
       "      <td>0.980000</td>\n",
       "      <td>808.500000</td>\n",
       "      <td>416.500000</td>\n",
       "      <td>220.500000</td>\n",
       "      <td>7.00000</td>\n",
       "      <td>5.000000</td>\n",
       "      <td>0.400000</td>\n",
       "      <td>5.00000</td>\n",
       "      <td>43.100000</td>\n",
       "    </tr>\n",
       "  </tbody>\n",
       "</table>\n",
       "</div>"
      ],
      "text/plain": [
       "               X1          X2          X3          X4         X5          X6  \\\n",
       "count  768.000000  768.000000  768.000000  768.000000  768.00000  768.000000   \n",
       "mean     0.764167  671.708333  318.500000  176.604167    5.25000    3.500000   \n",
       "std      0.105777   88.086116   43.626481   45.165950    1.75114    1.118763   \n",
       "min      0.620000  514.500000  245.000000  110.250000    3.50000    2.000000   \n",
       "25%      0.682500  606.375000  294.000000  140.875000    3.50000    2.750000   \n",
       "50%      0.750000  673.750000  318.500000  183.750000    5.25000    3.500000   \n",
       "75%      0.830000  741.125000  343.000000  220.500000    7.00000    4.250000   \n",
       "max      0.980000  808.500000  416.500000  220.500000    7.00000    5.000000   \n",
       "\n",
       "               X7         X8          Y1  \n",
       "count  768.000000  768.00000  768.000000  \n",
       "mean     0.234375    2.81250   22.307201  \n",
       "std      0.133221    1.55096   10.090196  \n",
       "min      0.000000    0.00000    6.010000  \n",
       "25%      0.100000    1.75000   12.992500  \n",
       "50%      0.250000    3.00000   18.950000  \n",
       "75%      0.400000    4.00000   31.667500  \n",
       "max      0.400000    5.00000   43.100000  "
      ]
     },
     "execution_count": 183,
     "metadata": {},
     "output_type": "execute_result"
    }
   ],
   "source": [
    "energy_df.describe()"
   ]
  },
  {
   "cell_type": "code",
   "execution_count": 184,
   "metadata": {},
   "outputs": [
    {
     "data": {
      "text/plain": [
       "Text(0.5,0,'Heating Load')"
      ]
     },
     "execution_count": 184,
     "metadata": {},
     "output_type": "execute_result"
    },
    {
     "data": {
      "image/png": "[encoded data removed]",
      "text/plain": [
       "<matplotlib.figure.Figure at 0x2b3beb63160>"
      ]
     },
     "metadata": {},
     "output_type": "display_data"
    }
   ],
   "source": [
    "f, ax = plt.subplots(3,3,figsize = (20,10))\n",
    "\n",
    "ax1 = plt.subplot(3,3,1)\n",
    "ax1.hist(energy_df[\"X1\"])\n",
    "ax1.set_xlabel(\"Relative Compactness\")\n",
    "\n",
    "ax2 = plt.subplot(3,3,2)\n",
    "ax2.hist(energy_df[\"X2\"])\n",
    "ax2.set_xlabel(\"Surface Area\")\n",
    "\n",
    "ax3 = plt.subplot(3,3,3)\n",
    "ax3.hist(energy_df[\"X3\"])\n",
    "ax3.set_xlabel(\"Wall Area\")\n",
    "\n",
    "ax4 = plt.subplot(3,3,4)\n",
    "ax4.hist(energy_df[\"X4\"])\n",
    "ax4.set_xlabel(\"Roof Area\")\n",
    "\n",
    "ax5 = plt.subplot(3,3,5)\n",
    "ax5.hist(energy_df[\"X5\"])\n",
    "ax5.set_xlabel(\"Overall Height\")\n",
    "\n",
    "ax6 = plt.subplot(3,3,6)\n",
    "ax6.hist(energy_df[\"X6\"])\n",
    "ax6.set_xlabel(\"Orientation\")\n",
    "\n",
    "ax7 = plt.subplot(3,3,7)\n",
    "ax7.hist(energy_df[\"X7\"])\n",
    "ax7.set_xlabel(\"Glazing Area\")\n",
    "\n",
    "ax8 = plt.subplot(3,3,8)\n",
    "ax8.hist(energy_df[\"X8\"])\n",
    "ax8.set_xlabel(\"Glazing Area Distribution\")\n",
    "\n",
    "ax9 = plt.subplot(3,3,9)\n",
    "ax9.hist(energy_df[\"Y1\"])\n",
    "ax9.set_xlabel(\"Heating Load\")"
   ]
  },
  {
   "cell_type": "markdown",
   "metadata": {},
   "source": [
    " __REGRESSION__:\n",
    "LABELS ARE CONTINUOUS VALUES.\n",
    "Here the model is trained to predict a continuous value for each instance.\n",
    "On inputting a feature vector into the model, the trained model is able to predict a continuous value  for  that instance.  \n",
    "\n",
    "__Q2.1: Train a linear regression model on 85 percent of the given dataset, what is the intercept value and coefficient values.__\n",
    "\n"
   ]
  },
  {
   "cell_type": "code",
   "execution_count": 185,
   "metadata": {},
   "outputs": [
    {
     "data": {
      "text/plain": [
       "X1    0\n",
       "X2    0\n",
       "X3    0\n",
       "X4    0\n",
       "X5    0\n",
       "X6    0\n",
       "X7    0\n",
       "X8    0\n",
       "Y1    0\n",
       "dtype: int64"
      ]
     },
     "execution_count": 185,
     "metadata": {},
     "output_type": "execute_result"
    }
   ],
   "source": [
    "# check the number of NaN value in the dataframe\n",
    "energy_df.isnull().sum()"
   ]
  },
  {
   "cell_type": "code",
   "execution_count": 186,
   "metadata": {},
   "outputs": [],
   "source": [
    "EX = energy_df.drop(\"Y1\", axis = 1)\n",
    "EY = energy_df[\"Y1\"]"
   ]
  },
  {
   "cell_type": "code",
   "execution_count": 187,
   "metadata": {},
   "outputs": [
    {
     "name": "stdout",
     "output_type": "stream",
     "text": [
      "Number of samples in training data: 652\n",
      "Number of samples in validation data: 116\n"
     ]
    }
   ],
   "source": [
    "from sklearn.model_selection import train_test_split\n",
    "ex_train, ex_test, ey_train, ey_test = train_test_split(EX, EY, test_size = 0.15, random_state = 100)\n",
    "print ('Number of samples in training data:',len(ex_train))\n",
    "print ('Number of samples in validation data:',len(ex_test))\n"
   ]
  },
  {
   "cell_type": "code",
   "execution_count": 262,
   "metadata": {},
   "outputs": [
    {
     "name": "stdout",
     "output_type": "stream",
     "text": [
      "Training a Linear Regression Model..\n",
      "Intercept: 75.0961109706\n",
      "\n",
      "Coeffiecients for X1 to X8:\n",
      "Relative Compactness :  -60.5426731955\n",
      "Surface Area :  248898603421.0\n",
      "Wall Area :  -248898603421.0\n",
      "Roof Area :  -497797206842.0\n",
      "Overall Height :  4.33485674858\n",
      "Orientation :  0.0185587629676\n",
      "Glazing Area :  20.0668307384\n",
      "Glazing Area Distribution :  0.235076511279\n"
     ]
    }
   ],
   "source": [
    "from sklearn import linear_model\n",
    "\n",
    "ene_lireg = linear_model.LinearRegression()\n",
    "\n",
    "print(\"Training a Linear Regression Model..\")\n",
    "ene_lireg.fit(ex_train,ey_train)\n",
    "\n",
    "# print the intercept and the coefficients\n",
    "\n",
    "coeff_list = [\"Relative Compactness\", \"Surface Area\", \"Wall Area\", \"Roof Area\", \"Overall Height\", \"Orientation\", \\\n",
    "              \"Glazing Area\", \"Glazing Area Distribution\"]\n",
    "print(\"Intercept:\", ene_lireg.intercept_)\n",
    "print()\n",
    "print(\"Coeffiecients for X1 to X8:\")\n",
    "for i,coeff in enumerate(ene_lireg.coef_):\n",
    "    print(coeff_list[i], \": \", coeff)"
   ]
  },
  {
   "cell_type": "markdown",
   "metadata": {
    "collapsed": true
   },
   "source": [
    "\n",
    "#### Q.2.2: Report model performance using 'ROOT MEAN SQUARE' error metric on:  \n",
    "__1. Data that was used for training(Training error)__   \n",
    "__2. On the 15 percent of unseen data (test error) __ \n",
    "\n"
   ]
  },
  {
   "cell_type": "code",
   "execution_count": 263,
   "metadata": {},
   "outputs": [
    {
     "name": "stdout",
     "output_type": "stream",
     "text": [
      "Tranning error (Root Mean Square):  2.92794825404\n",
      "Test error (Root Mean Square):  2.87513191559\n"
     ]
    }
   ],
   "source": [
    "# training error\n",
    "Tr_pred = ene_lireg.predict(ex_train)\n",
    "print(\"Tranning error (Root Mean Square): \", np.sqrt(np.mean((Tr_pred-ey_train)**2)))\n",
    "\n",
    "Te_pred = ene_lireg.predict(ex_test)\n",
    "print(\"Test error (Root Mean Square): \", np.sqrt(np.mean((Te_pred-ey_test)**2)))\n"
   ]
  },
  {
   "cell_type": "markdown",
   "metadata": {},
   "source": [
    "\n",
    "__ Q2.3: Lets us see the effect of amount of data on the performance of prediction model.Use varying amounts of  Training data (100,200,300,400,500,all) to train regression models and report  training error and validation error in each case. Validation data/Test data   is the same as above for  all  these cases.__  \n",
    "\n",
    "Plot error rates vs number of training examples.Comment on the relationshipyou observe in the plot, between the amount of data used to train the model and the validation accuracy of the model.\n",
    "\n",
    "__Hint:__ Use array indexing to choose varying data amounts"
   ]
  },
  {
   "cell_type": "code",
   "execution_count": 264,
   "metadata": {},
   "outputs": [],
   "source": [
    "# There are some requirements when choosing the data? like the 200 data are\n",
    "# based on the first 100 and add 100 more random data?\n",
    "len_train = 652\n",
    "Tr_err = []\n",
    "Te_err = []\n",
    "# used to  store the train data 100, 200 ...\n",
    "X_train_store = [] \n",
    "Y_train_store = []\n",
    "ex_train, ex_test, ey_train, ey_test = train_test_split(EX, EY, test_size = 0.15, random_state = 100)\n",
    "\n",
    "Ex_train = ex_train.copy()\n",
    "Ey_train = ey_train.copy()\n",
    "# print(type(Ex_train), type(Ey_train))\n",
    "for i in np.arange(1,7,1):\n",
    "    if i < 6:\n",
    "        x_train, x_test, y_train, y_test = train_test_split(Ex_train, Ey_train, test_size = (len_train-i*100)/len_train,random_state = 100)\n",
    "#    concatenate the train data \n",
    "        if len(X_train_store) > 0:\n",
    "            X_train_store.append(x_train)\n",
    "            Y_train_store.append(y_train)\n",
    "            x_train = pd.concat(x_train)\n",
    "            y_train = pd.concat(y_train)\n",
    "    else:\n",
    "        x_train, x_test, y_train, y_test = train_test_split(EX, EY,test_size = 0.15, random_state = 100)\n",
    "\n",
    "    ene_lireg.fit(x_train,y_train)\n",
    "    tr_pred = ene_lireg.predict(x_train)\n",
    "    te_pred = ene_lireg.predict(x_test)\n",
    "#     append each Training error and testing error\n",
    "    Tr_err.append(np.sqrt(np.mean((tr_pred-y_train)**2)))\n",
    "    Te_err.append(np.sqrt(np.mean((te_pred-y_test)**2)))\n",
    "    \n",
    "#   store the train data\n",
    "#     X_train_store.append(x_train)\n",
    "#     Y_train_store.append(y_train)\n",
    "#     update the train data, \n",
    "#     print(list(Ex_train.index))\n",
    "    if i < 6:\n",
    "        Ex_train.drop(index = x_train.index, inplace = True)\n",
    "#     print(type(Ex_train), type(Ey_train))\n",
    "        Ey_train.drop(index = y_train.index, inplace = True)\n",
    "\n",
    "\n",
    "# ex_train, ex_test, ey_train, ey_test = train_test_split(EX, EY, test_size = 0.15, random_state = 100)\n",
    "\n"
   ]
  },
  {
   "cell_type": "code",
   "execution_count": 265,
   "metadata": {
    "scrolled": true
   },
   "outputs": [
    {
     "data": {
      "text/plain": [
       "<matplotlib.legend.Legend at 0x2b3beeb1e48>"
      ]
     },
     "execution_count": 265,
     "metadata": {},
     "output_type": "execute_result"
    },
    {
     "data": {
      "image/png": "[encoded data removed]",
      "text/plain": [
       "<matplotlib.figure.Figure at 0x2b3bee2ce48>"
      ]
     },
     "metadata": {},
     "output_type": "display_data"
    }
   ],
   "source": [
    "f = plt.plot(figsize=(10,8))\n",
    "plt.plot(np.arange(1,7,1),Tr_err, label = \"Train error\")\n",
    "plt.plot(np.arange(1,7,1), Te_err, label = \"Test error\")\n",
    "\n",
    "# labels = [item.get_text() for item in f.get_xticklabels()]\n",
    "labels = [100,200,300,400,500,\"all\"]\n",
    "plt.xticks(np.arange(1,7,1),labels)\n",
    "plt.legend()"
   ]
  },
  {
   "cell_type": "markdown",
   "metadata": {},
   "source": [
    "The relation between the size of training data and the train error is not clear, since the train error fluctuates with size.\n",
    "\n",
    "But the test error increased first then dropped rapidly after the number of 400. It means the more training data was used to calibrate, the more accurate model could be obtained, as long as the number of test data is fixed."
   ]
  },
  {
   "cell_type": "markdown",
   "metadata": {},
   "source": [
    "\n",
    "__CLASSIFICATION__:\n",
    "LABELS ARE DISCRETE VALUES.\n",
    "Here the model is trained to classify each instance into a set of predefined  discrete classes.\n",
    "On inputting a feature vector into the model, the trained model is able to predict a  class of that instance. You can also output the probabilities of an instance belnging to a class.  \n",
    "\n",
    "__ Q 3.1:  Bucket values of 'y1' i.e 'Heating Load'  from the original dataset into 3 classes:__ \n",
    "\n",
    "0: 'Low' ( < 15),   \n",
    "1: 'Medium'  (15-30),   \n",
    "2: 'High'  (>30)\n",
    "\n",
    "This converts the given dataset  into a classification problem, classes being, Heating load is: *low, medium or high*. Use this datset with transformed 'heating load' for creating a  logistic regression classifiction model that predicts heating load type of a building. Use test-train split ratio of 0.15.  \n",
    "\n",
    "*Report training and test accuracies and  confusion matrices.*\n",
    "\n",
    "\n",
    "**HINT:** Use pandas.cut"
   ]
  },
  {
   "cell_type": "code",
   "execution_count": 266,
   "metadata": {},
   "outputs": [],
   "source": [
    "bins = [-math.inf, 15, 30, math.inf]\n",
    "labels = [0, 1, 2]\n",
    "energy_df[\"label\"] = pd.cut(energy_df[\"Y1\"], bins, labels = labels)"
   ]
  },
  {
   "cell_type": "code",
   "execution_count": 267,
   "metadata": {},
   "outputs": [],
   "source": [
    "X2 = energy_df.drop([\"Y1\",\"label\"], axis = 1)\n",
    "Y2 = energy_df[\"label\"]"
   ]
  },
  {
   "cell_type": "code",
   "execution_count": 268,
   "metadata": {},
   "outputs": [
    {
     "name": "stdout",
     "output_type": "stream",
     "text": [
      "Number of samples in training data: 652\n",
      "Number of samples in validation data: 116\n"
     ]
    }
   ],
   "source": [
    "x_train, x_test, y_train, y_test = train_test_split(X2, Y2, test_size=0.15, random_state=100)\n",
    "print ('Number of samples in training data:',len(x_train))\n",
    "print ('Number of samples in validation data:',len(x_test))\n"
   ]
  },
  {
   "cell_type": "code",
   "execution_count": 272,
   "metadata": {},
   "outputs": [
    {
     "name": "stdout",
     "output_type": "stream",
     "text": [
      "Training a logistic Regression Model...\n"
     ]
    },
    {
     "data": {
      "text/plain": [
       "LogisticRegression(C=100000.0, class_weight=None, dual=False,\n",
       "          fit_intercept=True, intercept_scaling=1, max_iter=100,\n",
       "          multi_class='ovr', n_jobs=1, penalty='l2', random_state=None,\n",
       "          solver='liblinear', tol=0.0001, verbose=0, warm_start=False)"
      ]
     },
     "execution_count": 272,
     "metadata": {},
     "output_type": "execute_result"
    }
   ],
   "source": [
    "ene_logreg = linear_model.LogisticRegression(C=1e5)\n",
    "\n",
    "\n",
    "print(\"Training a logistic Regression Model...\")\n",
    "ene_logreg.fit(x_train, y_train)"
   ]
  },
  {
   "cell_type": "code",
   "execution_count": 273,
   "metadata": {},
   "outputs": [
    {
     "name": "stdout",
     "output_type": "stream",
     "text": [
      "Training Accuracy: 0.829754601227\n",
      "Validation Accuracy: 0.827586206897\n"
     ]
    }
   ],
   "source": [
    "# how to define the accuracy?\n",
    "training_accuracy = ene_logreg.score(x_train, y_train)\n",
    "print(\"Training Accuracy:\", training_accuracy)\n",
    "\n",
    "validation_accuracy = ene_logreg.score(x_test,y_test)\n",
    "print(\"Validation Accuracy:\", validation_accuracy)"
   ]
  },
  {
   "cell_type": "code",
   "execution_count": 274,
   "metadata": {},
   "outputs": [
    {
     "name": "stdout",
     "output_type": "stream",
     "text": [
      "Confusion matrix of test data is:\n"
     ]
    },
    {
     "data": {
      "text/html": [
       "<div>\n",
       "<style scoped>\n",
       "    .dataframe tbody tr th:only-of-type {\n",
       "        vertical-align: middle;\n",
       "    }\n",
       "\n",
       "    .dataframe tbody tr th {\n",
       "        vertical-align: top;\n",
       "    }\n",
       "\n",
       "    .dataframe thead th {\n",
       "        text-align: right;\n",
       "    }\n",
       "</style>\n",
       "<table border=\"1\" class=\"dataframe\">\n",
       "  <thead>\n",
       "    <tr style=\"text-align: right;\">\n",
       "      <th></th>\n",
       "      <th>Pred 0</th>\n",
       "      <th>1</th>\n",
       "      <th>2</th>\n",
       "    </tr>\n",
       "  </thead>\n",
       "  <tbody>\n",
       "    <tr>\n",
       "      <th>Act 0</th>\n",
       "      <td>38</td>\n",
       "      <td>2</td>\n",
       "      <td>0</td>\n",
       "    </tr>\n",
       "    <tr>\n",
       "      <th>1</th>\n",
       "      <td>9</td>\n",
       "      <td>35</td>\n",
       "      <td>6</td>\n",
       "    </tr>\n",
       "    <tr>\n",
       "      <th>2</th>\n",
       "      <td>0</td>\n",
       "      <td>3</td>\n",
       "      <td>23</td>\n",
       "    </tr>\n",
       "  </tbody>\n",
       "</table>\n",
       "</div>"
      ],
      "text/plain": [
       "       Pred 0   1   2\n",
       "Act 0      38   2   0\n",
       "1           9  35   6\n",
       "2           0   3  23"
      ]
     },
     "metadata": {},
     "output_type": "display_data"
    }
   ],
   "source": [
    "# confusion matrix\n",
    "from sklearn.metrics import confusion_matrix\n",
    "y_true = y_test\n",
    "y_pred = ene_logreg.predict(x_test)\n",
    "cf = pd.DataFrame(confusion_matrix(y_true, y_pred), columns=['Pred 0',1,2],\n",
    "                  index=['Act 0',1,2])\n",
    "print ('Confusion matrix of test data is:')\n",
    "display(cf)\n"
   ]
  },
  {
   "cell_type": "markdown",
   "metadata": {},
   "source": [
    "__ Q3.2: One of the preprocessing steps in Data science is Feature Scaling i.e getting all our data on the same scale by setting same  Min-Max of feature values. This makes training less sensitive to the scale of features . Scaling is important in algorithms that use distance based classification, SVM or K means or involve gradient descent optimization.If we  Scale features in the range [0,1] it is called unity based normalization.__\n",
    "\n",
    "__Perform unity based normalization on the above dataset and train the model again, compare model performance in training and validation with your previous model.__  \n",
    "\n",
    "refer:http://scikit-learn.org/stable/modules/preprocessing.html#preprocessing-scaler  \n",
    "more at: https://en.wikipedia.org/wiki/Feature_scaling"
   ]
  },
  {
   "cell_type": "code",
   "execution_count": 275,
   "metadata": {},
   "outputs": [
    {
     "name": "stdout",
     "output_type": "stream",
     "text": [
      "Transforming the train data and the test data\n"
     ]
    }
   ],
   "source": [
    "# when you scale the train data, you need to perform the same scaling to the\n",
    "# test data\n",
    "from sklearn import preprocessing\n",
    "\n",
    "X2 = energy_df.drop([\"Y1\",\"label\"], axis = 1)\n",
    "Y2 = energy_df[\"label\"]\n",
    "x_train, x_test, y_train, y_test = train_test_split(X2, Y2, test_size=0.15, random_state=100)\n",
    "\n",
    "# seperate the train data and test data first?\n",
    "min_max_scaler = preprocessing.MinMaxScaler()\n",
    "print(\"Transforming the train data and the test data\")\n",
    "X_train_minmax = min_max_scaler.fit_transform(x_train)\n",
    "X_test_minmax = min_max_scaler.transform(x_test)"
   ]
  },
  {
   "cell_type": "code",
   "execution_count": 276,
   "metadata": {},
   "outputs": [
    {
     "name": "stdout",
     "output_type": "stream",
     "text": [
      "Training a logistic Regression Model...\n"
     ]
    },
    {
     "data": {
      "text/plain": [
       "LogisticRegression(C=100000.0, class_weight=None, dual=False,\n",
       "          fit_intercept=True, intercept_scaling=1, max_iter=100,\n",
       "          multi_class='ovr', n_jobs=1, penalty='l2', random_state=None,\n",
       "          solver='liblinear', tol=0.0001, verbose=0, warm_start=False)"
      ]
     },
     "execution_count": 276,
     "metadata": {},
     "output_type": "execute_result"
    }
   ],
   "source": [
    "ene_logreg2 = linear_model.LogisticRegression(C=1e5)\n",
    "\n",
    "\n",
    "print(\"Training a logistic Regression Model...\")\n",
    "ene_logreg2.fit(X_train_minmax, y_train)"
   ]
  },
  {
   "cell_type": "code",
   "execution_count": 277,
   "metadata": {},
   "outputs": [
    {
     "name": "stdout",
     "output_type": "stream",
     "text": [
      "Training Accuracy: 0.820552147239\n",
      "Validation Accuracy: 0.827586206897\n"
     ]
    }
   ],
   "source": [
    "training_accuracy = ene_logreg2.score(X_train_minmax, y_train)\n",
    "print(\"Training Accuracy:\", training_accuracy)\n",
    "\n",
    "validation_accuracy = ene_logreg2.score(X_test_minmax, y_test)\n",
    "print(\"Validation Accuracy:\", validation_accuracy)"
   ]
  },
  {
   "cell_type": "code",
   "execution_count": 278,
   "metadata": {},
   "outputs": [
    {
     "name": "stdout",
     "output_type": "stream",
     "text": [
      "Confusion matrix of test data is:\n"
     ]
    },
    {
     "data": {
      "text/html": [
       "<div>\n",
       "<style scoped>\n",
       "    .dataframe tbody tr th:only-of-type {\n",
       "        vertical-align: middle;\n",
       "    }\n",
       "\n",
       "    .dataframe tbody tr th {\n",
       "        vertical-align: top;\n",
       "    }\n",
       "\n",
       "    .dataframe thead th {\n",
       "        text-align: right;\n",
       "    }\n",
       "</style>\n",
       "<table border=\"1\" class=\"dataframe\">\n",
       "  <thead>\n",
       "    <tr style=\"text-align: right;\">\n",
       "      <th></th>\n",
       "      <th>Pred 0</th>\n",
       "      <th>1</th>\n",
       "      <th>2</th>\n",
       "    </tr>\n",
       "  </thead>\n",
       "  <tbody>\n",
       "    <tr>\n",
       "      <th>Act 0</th>\n",
       "      <td>35</td>\n",
       "      <td>5</td>\n",
       "      <td>0</td>\n",
       "    </tr>\n",
       "    <tr>\n",
       "      <th>1</th>\n",
       "      <td>6</td>\n",
       "      <td>39</td>\n",
       "      <td>5</td>\n",
       "    </tr>\n",
       "    <tr>\n",
       "      <th>2</th>\n",
       "      <td>0</td>\n",
       "      <td>4</td>\n",
       "      <td>22</td>\n",
       "    </tr>\n",
       "  </tbody>\n",
       "</table>\n",
       "</div>"
      ],
      "text/plain": [
       "       Pred 0   1   2\n",
       "Act 0      35   5   0\n",
       "1           6  39   5\n",
       "2           0   4  22"
      ]
     },
     "metadata": {},
     "output_type": "display_data"
    }
   ],
   "source": [
    "# confusion matrix\n",
    "\n",
    "y_true = y_test\n",
    "y_pred = ene_logreg2.predict(X_test_minmax)\n",
    "cf2 = pd.DataFrame(confusion_matrix(y_true, y_pred), columns=['Pred 0',1,2],\n",
    "                  index=['Act 0',1,2])\n",
    "print ('Confusion matrix of test data is:')\n",
    "display(cf2)"
   ]
  },
  {
   "cell_type": "markdown",
   "metadata": {},
   "source": [
    "After the min max scale, the accuracy is nearly the same with before, slightly worse.\n",
    "\n",
    "And from the confusion matrix we can see the model after scaling did better in predicting the 0(low heating load), but worse in predicting the other 2."
   ]
  },
  {
   "cell_type": "markdown",
   "metadata": {
    "collapsed": true
   },
   "source": [
    "## Part 2"
   ]
  },
  {
   "cell_type": "markdown",
   "metadata": {},
   "source": [
    "\n",
    "\n",
    "__ 1. Read __`diabetesdata.csv`__ file into a pandas dataframe. Analyze the data features, check for NaN values. \n",
    "About the data: __\n",
    "\n",
    "1. __TimesPregnant__: Number of times pregnant \n",
    "2. __glucoseLevel__: Plasma glucose concentration a 2 hours in an oral glucose tolerance test \n",
    "3. __BP__: Diastolic blood pressure (mm Hg)  \n",
    "5. __insulin__: 2-Hour serum insulin (mu U/ml) \n",
    "6. __BMI__: Body mass index (weight in kg/(height in m)^2) \n",
    "7. __pedigree__: Diabetes pedigree function \n",
    "8. __Age__: Age (years) \n",
    "9. __IsDiabetic__: 0 if not diabetic or 1 if diabetic) \n",
    "\n",
    "__ 2. Preprocess data to replace NaN values in a feature(if any) using mean of the feature.  \n",
    "Train  logistic regression, SVM, perceptron, kNN, xgboost and random forest models using this preprocessed data with 20% test split.Report training and test accuracies.__\n",
    "\n",
    "\n",
    "\n",
    "\n",
    "\n"
   ]
  },
  {
   "cell_type": "code",
   "execution_count": 279,
   "metadata": {},
   "outputs": [
    {
     "data": {
      "text/html": [
       "<div>\n",
       "<style scoped>\n",
       "    .dataframe tbody tr th:only-of-type {\n",
       "        vertical-align: middle;\n",
       "    }\n",
       "\n",
       "    .dataframe tbody tr th {\n",
       "        vertical-align: top;\n",
       "    }\n",
       "\n",
       "    .dataframe thead th {\n",
       "        text-align: right;\n",
       "    }\n",
       "</style>\n",
       "<table border=\"1\" class=\"dataframe\">\n",
       "  <thead>\n",
       "    <tr style=\"text-align: right;\">\n",
       "      <th></th>\n",
       "      <th>TimesPregnant</th>\n",
       "      <th>glucoseLevel</th>\n",
       "      <th>BP</th>\n",
       "      <th>insulin</th>\n",
       "      <th>BMI</th>\n",
       "      <th>Pedigree</th>\n",
       "      <th>Age</th>\n",
       "      <th>IsDiabetic</th>\n",
       "    </tr>\n",
       "  </thead>\n",
       "  <tbody>\n",
       "    <tr>\n",
       "      <th>0</th>\n",
       "      <td>6</td>\n",
       "      <td>148.0</td>\n",
       "      <td>72</td>\n",
       "      <td>0</td>\n",
       "      <td>33.6</td>\n",
       "      <td>0.627</td>\n",
       "      <td>50.0</td>\n",
       "      <td>1</td>\n",
       "    </tr>\n",
       "    <tr>\n",
       "      <th>1</th>\n",
       "      <td>1</td>\n",
       "      <td>NaN</td>\n",
       "      <td>66</td>\n",
       "      <td>0</td>\n",
       "      <td>26.6</td>\n",
       "      <td>0.351</td>\n",
       "      <td>31.0</td>\n",
       "      <td>0</td>\n",
       "    </tr>\n",
       "    <tr>\n",
       "      <th>2</th>\n",
       "      <td>8</td>\n",
       "      <td>183.0</td>\n",
       "      <td>64</td>\n",
       "      <td>0</td>\n",
       "      <td>23.3</td>\n",
       "      <td>0.672</td>\n",
       "      <td>NaN</td>\n",
       "      <td>1</td>\n",
       "    </tr>\n",
       "    <tr>\n",
       "      <th>3</th>\n",
       "      <td>1</td>\n",
       "      <td>NaN</td>\n",
       "      <td>66</td>\n",
       "      <td>94</td>\n",
       "      <td>28.1</td>\n",
       "      <td>0.167</td>\n",
       "      <td>21.0</td>\n",
       "      <td>0</td>\n",
       "    </tr>\n",
       "    <tr>\n",
       "      <th>4</th>\n",
       "      <td>0</td>\n",
       "      <td>137.0</td>\n",
       "      <td>40</td>\n",
       "      <td>168</td>\n",
       "      <td>43.1</td>\n",
       "      <td>2.288</td>\n",
       "      <td>33.0</td>\n",
       "      <td>1</td>\n",
       "    </tr>\n",
       "  </tbody>\n",
       "</table>\n",
       "</div>"
      ],
      "text/plain": [
       "   TimesPregnant  glucoseLevel  BP  insulin   BMI  Pedigree   Age  IsDiabetic\n",
       "0              6         148.0  72        0  33.6     0.627  50.0           1\n",
       "1              1           NaN  66        0  26.6     0.351  31.0           0\n",
       "2              8         183.0  64        0  23.3     0.672   NaN           1\n",
       "3              1           NaN  66       94  28.1     0.167  21.0           0\n",
       "4              0         137.0  40      168  43.1     2.288  33.0           1"
      ]
     },
     "execution_count": 279,
     "metadata": {},
     "output_type": "execute_result"
    }
   ],
   "source": [
    "diabetes_df = pd.read_csv(\"diabetesdata.csv\")\n",
    "diabetes_df.head()"
   ]
  },
  {
   "cell_type": "code",
   "execution_count": 280,
   "metadata": {},
   "outputs": [
    {
     "data": {
      "text/plain": [
       "TimesPregnant     0\n",
       "glucoseLevel     34\n",
       "BP                0\n",
       "insulin           0\n",
       "BMI               0\n",
       "Pedigree          0\n",
       "Age              33\n",
       "IsDiabetic        0\n",
       "dtype: int64"
      ]
     },
     "execution_count": 280,
     "metadata": {},
     "output_type": "execute_result"
    }
   ],
   "source": [
    "diabetes_df.isnull().sum()"
   ]
  },
  {
   "cell_type": "code",
   "execution_count": 281,
   "metadata": {},
   "outputs": [
    {
     "data": {
      "text/html": [
       "<div>\n",
       "<style scoped>\n",
       "    .dataframe tbody tr th:only-of-type {\n",
       "        vertical-align: middle;\n",
       "    }\n",
       "\n",
       "    .dataframe tbody tr th {\n",
       "        vertical-align: top;\n",
       "    }\n",
       "\n",
       "    .dataframe thead th {\n",
       "        text-align: right;\n",
       "    }\n",
       "</style>\n",
       "<table border=\"1\" class=\"dataframe\">\n",
       "  <thead>\n",
       "    <tr style=\"text-align: right;\">\n",
       "      <th></th>\n",
       "      <th>TimesPregnant</th>\n",
       "      <th>glucoseLevel</th>\n",
       "      <th>BP</th>\n",
       "      <th>insulin</th>\n",
       "      <th>BMI</th>\n",
       "      <th>Pedigree</th>\n",
       "      <th>Age</th>\n",
       "      <th>IsDiabetic</th>\n",
       "    </tr>\n",
       "  </thead>\n",
       "  <tbody>\n",
       "    <tr>\n",
       "      <th>0</th>\n",
       "      <td>6</td>\n",
       "      <td>148.000000</td>\n",
       "      <td>72</td>\n",
       "      <td>0</td>\n",
       "      <td>33.6</td>\n",
       "      <td>0.627</td>\n",
       "      <td>50.000000</td>\n",
       "      <td>1</td>\n",
       "    </tr>\n",
       "    <tr>\n",
       "      <th>1</th>\n",
       "      <td>1</td>\n",
       "      <td>121.016349</td>\n",
       "      <td>66</td>\n",
       "      <td>0</td>\n",
       "      <td>26.6</td>\n",
       "      <td>0.351</td>\n",
       "      <td>31.000000</td>\n",
       "      <td>0</td>\n",
       "    </tr>\n",
       "    <tr>\n",
       "      <th>2</th>\n",
       "      <td>8</td>\n",
       "      <td>183.000000</td>\n",
       "      <td>64</td>\n",
       "      <td>0</td>\n",
       "      <td>23.3</td>\n",
       "      <td>0.672</td>\n",
       "      <td>33.353741</td>\n",
       "      <td>1</td>\n",
       "    </tr>\n",
       "    <tr>\n",
       "      <th>3</th>\n",
       "      <td>1</td>\n",
       "      <td>121.016349</td>\n",
       "      <td>66</td>\n",
       "      <td>94</td>\n",
       "      <td>28.1</td>\n",
       "      <td>0.167</td>\n",
       "      <td>21.000000</td>\n",
       "      <td>0</td>\n",
       "    </tr>\n",
       "    <tr>\n",
       "      <th>4</th>\n",
       "      <td>0</td>\n",
       "      <td>137.000000</td>\n",
       "      <td>40</td>\n",
       "      <td>168</td>\n",
       "      <td>43.1</td>\n",
       "      <td>2.288</td>\n",
       "      <td>33.000000</td>\n",
       "      <td>1</td>\n",
       "    </tr>\n",
       "  </tbody>\n",
       "</table>\n",
       "</div>"
      ],
      "text/plain": [
       "   TimesPregnant  glucoseLevel  BP  insulin   BMI  Pedigree        Age  \\\n",
       "0              6    148.000000  72        0  33.6     0.627  50.000000   \n",
       "1              1    121.016349  66        0  26.6     0.351  31.000000   \n",
       "2              8    183.000000  64        0  23.3     0.672  33.353741   \n",
       "3              1    121.016349  66       94  28.1     0.167  21.000000   \n",
       "4              0    137.000000  40      168  43.1     2.288  33.000000   \n",
       "\n",
       "   IsDiabetic  \n",
       "0           1  \n",
       "1           0  \n",
       "2           1  \n",
       "3           0  \n",
       "4           1  "
      ]
     },
     "execution_count": 281,
     "metadata": {},
     "output_type": "execute_result"
    }
   ],
   "source": [
    "diabetes_df[\"glucoseLevel\"].fillna(diabetes_df[\"glucoseLevel\"].dropna().mean(),inplace = True)\n",
    "diabetes_df[\"Age\"].fillna(diabetes_df[\"Age\"].dropna().mean(),inplace = True)\n",
    "diabetes_df.head()"
   ]
  },
  {
   "cell_type": "code",
   "execution_count": 282,
   "metadata": {},
   "outputs": [],
   "source": [
    "X3 = diabetes_df.drop(\"IsDiabetic\", axis = 1)\n",
    "Y3 = diabetes_df[\"IsDiabetic\"]\n",
    "x_train, x_test, y_train, y_test = train_test_split(X3, Y3, test_size=0.2, random_state=100)\n"
   ]
  },
  {
   "cell_type": "code",
   "execution_count": 206,
   "metadata": {},
   "outputs": [
    {
     "name": "stdout",
     "output_type": "stream",
     "text": [
      "Train Accuracy: 78.34\n",
      "Test Accuracy: 73.38\n"
     ]
    }
   ],
   "source": [
    "# logistic regression\n",
    "logreg = LogisticRegression()\n",
    "logreg.fit(x_train, y_train)\n",
    "y_pred = logreg.predict(x_test)\n",
    "acc_tr_log = round(logreg.score(x_train, y_train)*100,2)\n",
    "acc_te_log = round(logreg.score(x_test, y_test)*100, 2)\n",
    "print(\"Train Accuracy:\", acc_tr_log)\n",
    "print(\"Test Accuracy:\", acc_te_log)"
   ]
  },
  {
   "cell_type": "code",
   "execution_count": 207,
   "metadata": {},
   "outputs": [
    {
     "name": "stdout",
     "output_type": "stream",
     "text": [
      "Train Accuracy: 100.0\n",
      "Test Accuracy: 65.58\n"
     ]
    }
   ],
   "source": [
    "# support vector machines\n",
    "# how to score the support vector machines\n",
    "svc = SVC()\n",
    "svc.fit(x_train, y_train)\n",
    "y_pred = svc.predict(x_test)\n",
    "acc_tr_svc = round(svc.score(x_train, y_train)*100, 2)\n",
    "acc_te_svc = round(svc.score(x_test, y_test)*100, 2)\n",
    "print(\"Train Accuracy:\", acc_tr_svc)\n",
    "print(\"Test Accuracy:\", acc_te_svc)"
   ]
  },
  {
   "cell_type": "code",
   "execution_count": 208,
   "metadata": {},
   "outputs": [
    {
     "name": "stdout",
     "output_type": "stream",
     "text": [
      "Train Accuracy: 64.17\n",
      "Test Accuracy: 64.29\n"
     ]
    }
   ],
   "source": [
    "# Perceptron\n",
    "\n",
    "perceptron = Perceptron()\n",
    "perceptron.fit(x_train, y_train)\n",
    "y_pred = perceptron.predict(x_test)\n",
    "\n",
    "acc_tr_per = round(perceptron.score(x_train, y_train)*100, 2)\n",
    "acc_te_per = round(perceptron.score(x_test, y_test)*100, 2)\n",
    "print(\"Train Accuracy:\", acc_tr_per)\n",
    "print(\"Test Accuracy:\", acc_te_per)\n"
   ]
  },
  {
   "cell_type": "code",
   "execution_count": 209,
   "metadata": {},
   "outputs": [
    {
     "name": "stdout",
     "output_type": "stream",
     "text": [
      "Train Accuracy: 85.34\n",
      "Test Accuracy: 67.53\n"
     ]
    }
   ],
   "source": [
    "#  kNN\n",
    "knn = KNeighborsClassifier(n_neighbors = 3)\n",
    "knn.fit(x_train, y_train)\n",
    "y_pred = knn.predict(x_test)\n",
    "\n",
    "acc_tr_knn = round(knn.score(x_train, y_train)*100, 2)\n",
    "acc_te_knn = round(knn.score(x_test, y_test)*100, 2)\n",
    "print(\"Train Accuracy:\", acc_tr_knn)\n",
    "print(\"Test Accuracy:\", acc_te_knn)\n"
   ]
  },
  {
   "cell_type": "code",
   "execution_count": 283,
   "metadata": {},
   "outputs": [
    {
     "ename": "ModuleNotFoundError",
     "evalue": "No module named 'xgboost'",
     "output_type": "error",
     "traceback": [
      "\u001b[1;31m---------------------------------------------------------------------------\u001b[0m",
      "\u001b[1;31mModuleNotFoundError\u001b[0m                       Traceback (most recent call last)",
      "\u001b[1;32m<ipython-input-283-0f350e6c8bfe>\u001b[0m in \u001b[0;36m<module>\u001b[1;34m()\u001b[0m\n\u001b[0;32m      1\u001b[0m \u001b[1;31m# XGBoost\u001b[0m\u001b[1;33m\u001b[0m\u001b[1;33m\u001b[0m\u001b[0m\n\u001b[1;32m----> 2\u001b[1;33m \u001b[1;32mimport\u001b[0m \u001b[0mxgboost\u001b[0m \u001b[1;32mas\u001b[0m \u001b[0mxgb\u001b[0m\u001b[1;33m\u001b[0m\u001b[0m\n\u001b[0m\u001b[0;32m      3\u001b[0m \u001b[0mgradboost\u001b[0m \u001b[1;33m=\u001b[0m \u001b[0mxgb\u001b[0m\u001b[1;33m.\u001b[0m\u001b[0mXGBClassifier\u001b[0m\u001b[1;33m(\u001b[0m\u001b[0mn_estimators\u001b[0m\u001b[1;33m=\u001b[0m\u001b[1;36m1000\u001b[0m\u001b[1;33m)\u001b[0m\u001b[1;33m\u001b[0m\u001b[0m\n\u001b[0;32m      4\u001b[0m \u001b[0mgradboost\u001b[0m\u001b[1;33m.\u001b[0m\u001b[0mfit\u001b[0m\u001b[1;33m(\u001b[0m\u001b[0mx_train\u001b[0m\u001b[1;33m,\u001b[0m \u001b[0my_train\u001b[0m\u001b[1;33m)\u001b[0m\u001b[1;33m\u001b[0m\u001b[0m\n\u001b[0;32m      5\u001b[0m \u001b[0my_pred\u001b[0m \u001b[1;33m=\u001b[0m \u001b[0mgradboost\u001b[0m\u001b[1;33m.\u001b[0m\u001b[0mpredict\u001b[0m\u001b[1;33m(\u001b[0m\u001b[0mx_test\u001b[0m\u001b[1;33m)\u001b[0m\u001b[1;33m\u001b[0m\u001b[0m\n",
      "\u001b[1;31mModuleNotFoundError\u001b[0m: No module named 'xgboost'"
     ]
    }
   ],
   "source": [
    "# XGBoost\n",
    "import xgboost as xgb\n",
    "gradboost = xgb.XGBClassifier(n_estimators=1000)\n",
    "gradboost.fit(x_train, y_train)\n",
    "y_pred = gradboost.predict(x_test)\n",
    "\n",
    "acc_tr_xgb = round(gradboost.score(x_train, y_train)*100, 2)\n",
    "acc_te_xgb = round(gradboost.score(x_test, y_test)*100, 2)\n",
    "print(\"Train Accuracy:\", acc_tr_xgb)\n",
    "print(\"Test Accuracy:\", acc_te_xgb)\n"
   ]
  },
  {
   "cell_type": "code",
   "execution_count": 284,
   "metadata": {},
   "outputs": [
    {
     "name": "stdout",
     "output_type": "stream",
     "text": [
      "Train Accuracy: 100.0\n",
      "Test Accuracy: 72.08\n"
     ]
    }
   ],
   "source": [
    "# Random Forest\n",
    "random_forest = RandomForestClassifier(n_estimators=1000)\n",
    "random_forest.fit(x_train, y_train)\n",
    "y_pred = random_forest.predict(x_test)\n",
    "\n",
    "acc_tr_rnd = round(random_forest.score(x_train, y_train) * 100, 2)\n",
    "acc_te_rnd = round(random_forest.score(x_test, y_test) * 100, 2)\n",
    "print(\"Train Accuracy:\", acc_tr_rnd)\n",
    "print(\"Test Accuracy:\", acc_te_rnd)"
   ]
  },
  {
   "cell_type": "markdown",
   "metadata": {},
   "source": [
    "\n",
    "\n",
    "__3. What is the  ratio of diabetic persons in 3 equirange bands of 'BMI' and 'Pedigree' in the provided dataset.__\n",
    "\n",
    " __Convert these features - 'BP','insulin','BMI' and 'Pedigree'   into categorical values by mapping different bands of values of these features to integers 0,1,2.__  \n",
    " \n",
    "HINT: USE pd.cut with bin=3 to create 3 bins\n",
    "\n",
    "\n",
    "\n",
    "\n"
   ]
  },
  {
   "cell_type": "code",
   "execution_count": 285,
   "metadata": {},
   "outputs": [],
   "source": [
    "diabetes_df[\"BPBand\"] = pd.cut(diabetes_df[\"BP\"], 3, labels = [0, 1, 2])\n",
    "diabetes_df[\"BMIBand\"] = pd.cut(diabetes_df[\"BMI\"], 3, labels = [0, 1, 2])\n",
    "diabetes_df[\"PedigreeBand\"] = pd.cut(diabetes_df[\"Pedigree\"], 3, labels = [0, 1, 2])"
   ]
  },
  {
   "cell_type": "code",
   "execution_count": 286,
   "metadata": {
    "scrolled": true
   },
   "outputs": [
    {
     "data": {
      "text/html": [
       "<div>\n",
       "<style scoped>\n",
       "    .dataframe tbody tr th:only-of-type {\n",
       "        vertical-align: middle;\n",
       "    }\n",
       "\n",
       "    .dataframe tbody tr th {\n",
       "        vertical-align: top;\n",
       "    }\n",
       "\n",
       "    .dataframe thead th {\n",
       "        text-align: right;\n",
       "    }\n",
       "</style>\n",
       "<table border=\"1\" class=\"dataframe\">\n",
       "  <thead>\n",
       "    <tr style=\"text-align: right;\">\n",
       "      <th></th>\n",
       "      <th>BPBand</th>\n",
       "      <th>IsDiabetic</th>\n",
       "    </tr>\n",
       "  </thead>\n",
       "  <tbody>\n",
       "    <tr>\n",
       "      <th>0</th>\n",
       "      <td>0</td>\n",
       "      <td>0.450000</td>\n",
       "    </tr>\n",
       "    <tr>\n",
       "      <th>1</th>\n",
       "      <td>1</td>\n",
       "      <td>0.307282</td>\n",
       "    </tr>\n",
       "    <tr>\n",
       "      <th>2</th>\n",
       "      <td>2</td>\n",
       "      <td>0.466667</td>\n",
       "    </tr>\n",
       "  </tbody>\n",
       "</table>\n",
       "</div>"
      ],
      "text/plain": [
       "  BPBand  IsDiabetic\n",
       "0      0    0.450000\n",
       "1      1    0.307282\n",
       "2      2    0.466667"
      ]
     },
     "metadata": {},
     "output_type": "display_data"
    },
    {
     "data": {
      "text/html": [
       "<div>\n",
       "<style scoped>\n",
       "    .dataframe tbody tr th:only-of-type {\n",
       "        vertical-align: middle;\n",
       "    }\n",
       "\n",
       "    .dataframe tbody tr th {\n",
       "        vertical-align: top;\n",
       "    }\n",
       "\n",
       "    .dataframe thead th {\n",
       "        text-align: right;\n",
       "    }\n",
       "</style>\n",
       "<table border=\"1\" class=\"dataframe\">\n",
       "  <thead>\n",
       "    <tr style=\"text-align: right;\">\n",
       "      <th></th>\n",
       "      <th>BMIBand</th>\n",
       "      <th>IsDiabetic</th>\n",
       "    </tr>\n",
       "  </thead>\n",
       "  <tbody>\n",
       "    <tr>\n",
       "      <th>0</th>\n",
       "      <td>0</td>\n",
       "      <td>0.039216</td>\n",
       "    </tr>\n",
       "    <tr>\n",
       "      <th>1</th>\n",
       "      <td>1</td>\n",
       "      <td>0.358297</td>\n",
       "    </tr>\n",
       "    <tr>\n",
       "      <th>2</th>\n",
       "      <td>2</td>\n",
       "      <td>0.611111</td>\n",
       "    </tr>\n",
       "  </tbody>\n",
       "</table>\n",
       "</div>"
      ],
      "text/plain": [
       "  BMIBand  IsDiabetic\n",
       "0       0    0.039216\n",
       "1       1    0.358297\n",
       "2       2    0.611111"
      ]
     },
     "metadata": {},
     "output_type": "display_data"
    },
    {
     "data": {
      "text/html": [
       "<div>\n",
       "<style scoped>\n",
       "    .dataframe tbody tr th:only-of-type {\n",
       "        vertical-align: middle;\n",
       "    }\n",
       "\n",
       "    .dataframe tbody tr th {\n",
       "        vertical-align: top;\n",
       "    }\n",
       "\n",
       "    .dataframe thead th {\n",
       "        text-align: right;\n",
       "    }\n",
       "</style>\n",
       "<table border=\"1\" class=\"dataframe\">\n",
       "  <thead>\n",
       "    <tr style=\"text-align: right;\">\n",
       "      <th></th>\n",
       "      <th>PedigreeBand</th>\n",
       "      <th>IsDiabetic</th>\n",
       "    </tr>\n",
       "  </thead>\n",
       "  <tbody>\n",
       "    <tr>\n",
       "      <th>0</th>\n",
       "      <td>0</td>\n",
       "      <td>0.327007</td>\n",
       "    </tr>\n",
       "    <tr>\n",
       "      <th>1</th>\n",
       "      <td>1</td>\n",
       "      <td>0.540541</td>\n",
       "    </tr>\n",
       "    <tr>\n",
       "      <th>2</th>\n",
       "      <td>2</td>\n",
       "      <td>0.444444</td>\n",
       "    </tr>\n",
       "  </tbody>\n",
       "</table>\n",
       "</div>"
      ],
      "text/plain": [
       "  PedigreeBand  IsDiabetic\n",
       "0            0    0.327007\n",
       "1            1    0.540541\n",
       "2            2    0.444444"
      ]
     },
     "metadata": {},
     "output_type": "display_data"
    }
   ],
   "source": [
    "display(diabetes_df[[\"BPBand\",\"IsDiabetic\"]].groupby([\"BPBand\"], as_index = False).mean().sort_values(by = \"BPBand\", ascending = True))\n",
    "display(diabetes_df[[\"BMIBand\", \"IsDiabetic\"]].groupby([\"BMIBand\"], as_index = False).mean().sort_values(by = \"BMIBand\", ascending = True))\n",
    "display(diabetes_df[[\"PedigreeBand\", \"IsDiabetic\"]].groupby([\"PedigreeBand\"], as_index = False).mean().sort_values(by = \"PedigreeBand\", ascending = True))"
   ]
  },
  {
   "cell_type": "markdown",
   "metadata": {},
   "source": [
    "People with normal blood pressure tends to have less risk of getting diabetes. People who are obese are more likely to get diabetes. It seems there is no direct relation between diabetes between pedigree."
   ]
  },
  {
   "cell_type": "markdown",
   "metadata": {},
   "source": [
    "\n",
    "__4. Now consider the original dataset again, instead of generalizing the NAN values with the mean of the feature we will try assigning values to NANs based on some hypothesis. For example for age we assume that the relation between BMI and BP of people is a reflection of the age group.We can have 9 types of BMI and BP relations and our aim is to find the median age of each of that group:__\n",
    "\n",
    "Your Age guess matrix will look like this:  \n",
    "\n",
    "| BMI | 0       | 1      | 2  |\n",
    "|-----|-------------|------------- |----- |\n",
    "| BP  |             |              |      |\n",
    "| 0   | a00         | a01          | a02  |\n",
    "| 1   | a10         | a11          | a12  |\n",
    "| 2   | a20         | a21          |  a22 |\n",
    "\n",
    "\n",
    "__Create a guess_matrix  for NaN values of *'Age'* ( using 'BMI' and 'BP')  and  *'glucoseLevel'*  (using 'BP' and 'Pedigree') for the given dataset and assign values accordingly to the NaNs in 'Age' or *'glucoseLevel'* .__\n",
    "\n",
    "\n",
    "Refer to how we guessed age in the titanic notebook in the class.\n",
    "\n"
   ]
  },
  {
   "cell_type": "code",
   "execution_count": 214,
   "metadata": {},
   "outputs": [
    {
     "data": {
      "text/plain": [
       "((614, 10), (154, 10))"
      ]
     },
     "execution_count": 214,
     "metadata": {},
     "output_type": "execute_result"
    }
   ],
   "source": [
    "diabetes_df2 = pd.read_csv(\"diabetesdata.csv\")\n",
    "\n",
    "\n",
    "diabetes_df2[\"BPBand\"] = pd.cut(diabetes_df[\"BP\"], 3, labels = [0, 1, 2])\n",
    "diabetes_df2[\"BMIBand\"] = pd.cut(diabetes_df[\"BMI\"], 3, labels = [0, 1, 2])\n",
    "diabetes_df2[\"PedigreeBand\"] = pd.cut(diabetes_df[\"Pedigree\"], 3, labels = [0, 1, 2])\n",
    "\n",
    "X4 = diabetes_df2.drop(\"IsDiabetic\", axis = 1)\n",
    "Y4 = diabetes_df2[\"IsDiabetic\"]\n",
    "\n",
    "x_train, x_test, y_train, y_test = train_test_split(X4, Y4, test_size=0.2, random_state=100)\n",
    "combine = [x_train, x_test]\n",
    "x_train.shape, x_test.shape"
   ]
  },
  {
   "cell_type": "code",
   "execution_count": 215,
   "metadata": {},
   "outputs": [],
   "source": [
    "guess_ages = np.zeros((3,3), dtype = int)\n",
    "guess_glucoseLevel = np.zeros((3,3), dtype = float)"
   ]
  },
  {
   "cell_type": "code",
   "execution_count": 287,
   "metadata": {
    "scrolled": false
   },
   "outputs": [
    {
     "name": "stdout",
     "output_type": "stream",
     "text": [
      "Working on Training Data set\n",
      "\n",
      "Guess values of age and glucoseLevel based on BMI and BP...\n",
      "Guess_Age table:\n",
      " [[24 25 55]\n",
      " [29 29 37]\n",
      " [40 32 31]]\n",
      "Guess_glucoseLevel table:\n",
      " [[ 114.5  127.5  137. ]\n",
      " [ 112.   118.   149. ]\n",
      " [ 136.   125.5  159.5]]\n",
      "\n",
      "Assigning age values to NAN age values in the dataset...\n",
      "\n",
      "-----------------------------------\n",
      "Working on Test Data set\n",
      "\n",
      "Guess values of age and glucoseLevel based on BMI and BP...\n",
      "Guess_Age table:\n",
      " [[25 24  0]\n",
      " [37 26 37]\n",
      " [26 27 23]]\n",
      "Guess_glucoseLevel table:\n",
      " [[ 115.     0.     0. ]\n",
      " [ 112.   111.     0. ]\n",
      " [ 126.   145.5    0. ]]\n",
      "\n",
      "Assigning age values to NAN age values in the dataset...\n",
      "\n",
      "Done\n"
     ]
    }
   ],
   "source": [
    "#  store the new dataframe after filling the NaN value\n",
    "combine2 = []\n",
    "for idx, dataset in enumerate(combine.copy()):\n",
    "    if idx == 0:\n",
    "        print(\"Working on Training Data set\\n\")\n",
    "    else:\n",
    "        print(\"-\"*35)\n",
    "        print(\"Working on Test Data set\\n\")\n",
    "        \n",
    "    print(\"Guess values of age and glucoseLevel based on BMI and BP...\")\n",
    "    for i in range(0,3):\n",
    "        for j in range(0,3):\n",
    "            guess_df1 = dataset[(dataset[\"BMIBand\"] == i)&(dataset[\"BPBand\"] == j)][\"Age\"].dropna()\n",
    "            guess_df2 = dataset[(dataset[\"BPBand\"] == i)&(dataset[\"PedigreeBand\"] == j)][\"glucoseLevel\"].dropna()\n",
    "\n",
    "#           get the median age and glucoseLevel of the group\n",
    "#           in case no return in the guess dataframe\n",
    "            if not len(guess_df1) == 0:\n",
    "                age_guess  = guess_df1.median()\n",
    "            else:\n",
    "                age_guess = 0\n",
    "            \n",
    "            if not len(guess_df2) == 0:\n",
    "                glu_guess = guess_df2.median()\n",
    "            else:\n",
    "                glu_guess = 0\n",
    "                \n",
    "                \n",
    "            guess_ages[i,j] = int(age_guess)\n",
    "            guess_glucoseLevel[i,j] = glu_guess\n",
    "    \n",
    "    print('Guess_Age table:\\n',guess_ages)\n",
    "    print('Guess_glucoseLevel table:\\n',guess_glucoseLevel)    \n",
    "    print ('\\nAssigning age values to NAN age values in the dataset...')\n",
    "    \n",
    "    for i in range(0,3):\n",
    "        for j in range(0,3):\n",
    "            Series1 = dataset.loc[(dataset.Age.isnull()) & (dataset.BMIBand == i) & (dataset.BPBand == j),\\\n",
    "                       ][\"Age\"]\n",
    "            if not len(Series1) == None:\n",
    "#                 you need to put the \"age\" inside, or what you replace is not in the dataframe\n",
    "                dataset.loc[(dataset.Age.isnull()) & (dataset.BMIBand == i) & (dataset.BPBand == j)\\\n",
    "                       ,\"Age\"] = guess_ages[i,j]\n",
    "            \n",
    "            Series2 = dataset.loc[(dataset.glucoseLevel.isnull()) & (dataset.BPBand == i) & (dataset.PedigreeBand == j),\\\n",
    "                       ][\"glucoseLevel\"]\n",
    "            if not len(Series2) == None:\n",
    "                dataset.loc[(dataset.glucoseLevel.isnull()) & (dataset.BPBand == i) & (dataset.PedigreeBand == j)\\\n",
    "                       ,\"glucoseLevel\"] = guess_glucoseLevel[i,j]\n",
    "            \n",
    "#     dataset[\"Age\"] = dataset[\"Age\"].astype(int)\n",
    "    print()\n",
    "print(\"Done\")\n"
   ]
  },
  {
   "cell_type": "markdown",
   "metadata": {},
   "source": [
    "\n",
    "\n",
    "__5. Now, convert 'glucoseLevel' and 'Age' features also to categorical variables of 5 categories each.__\n",
    "\n",
    "__Use this dataset (with all features in categorical form) to train perceptron, logistic regression and random forest models using 20% test split. Report training and test accuracies.__\n",
    "\n",
    "\n",
    "\n",
    "\n",
    "\n"
   ]
  },
  {
   "cell_type": "code",
   "execution_count": 288,
   "metadata": {},
   "outputs": [],
   "source": [
    "# change the glucoseLevel and age to categorical variables\n",
    "for dataset in combine:\n",
    "    dataset[\"AgeBand\"] = pd.cut(dataset[\"Age\"], 5, labels = [0,1,2,3,4])\n",
    "    dataset[\"GluBand\"] = pd.cut(dataset[\"glucoseLevel\"], 5, labels = [0,1,2,3,4])\n",
    "\n",
    "x_train_re = combine[0].drop([\"glucoseLevel\", \"BP\", \"BMI\", \"Pedigree\", \"Age\"], axis = 1)\n",
    "x_test_re = combine[1].drop([\"glucoseLevel\", \"BP\", \"BMI\", \"Pedigree\", \"Age\"], axis = 1)\n"
   ]
  },
  {
   "cell_type": "code",
   "execution_count": 240,
   "metadata": {},
   "outputs": [
    {
     "name": "stdout",
     "output_type": "stream",
     "text": [
      "Train Accuracy: 37.95\n",
      "Test Accuracy: 42.21\n"
     ]
    }
   ],
   "source": [
    "# percetron\n",
    "perceptron2 = Perceptron()\n",
    "perceptron2.fit(x_train_re, y_train)\n",
    "y_pred = perceptron2.predict(x_test_re)\n",
    "\n",
    "acc_tr_per2 = round(perceptron.score(x_train_re, y_train)*100, 2)\n",
    "acc_te_per2 = round(perceptron.score(x_test_re, y_test)*100, 2)\n",
    "print(\"Train Accuracy:\", acc_tr_per2)\n",
    "print(\"Test Accuracy:\", acc_te_per2)\n"
   ]
  },
  {
   "cell_type": "code",
   "execution_count": 241,
   "metadata": {},
   "outputs": [
    {
     "name": "stdout",
     "output_type": "stream",
     "text": [
      "Train Accuracy: 68.08\n",
      "Test Accuracy: 65.58\n"
     ]
    }
   ],
   "source": [
    "# logistic regression\n",
    "logreg2 = LogisticRegression()\n",
    "logreg2.fit(x_train_re, y_train)\n",
    "y_pred = logreg.predict(x_test_re)\n",
    "\n",
    "acc_tr_log2 = round(logreg.score(x_train_re, y_train)*100,2)\n",
    "acc_te_log2 = round(logreg.score(x_test_re, y_test)*100, 2)\n",
    "print(\"Train Accuracy:\", acc_tr_log2)\n",
    "print(\"Test Accuracy:\", acc_te_log2)"
   ]
  },
  {
   "cell_type": "code",
   "execution_count": 242,
   "metadata": {},
   "outputs": [
    {
     "name": "stdout",
     "output_type": "stream",
     "text": [
      "Train Accuracy: 67.92\n",
      "Test Accuracy: 68.18\n"
     ]
    }
   ],
   "source": [
    "# Random Forest\n",
    "random_forest2 = RandomForestClassifier(n_estimators=1000)\n",
    "random_forest2.fit(x_train_re, y_train)\n",
    "y_pred = random_forest.predict(x_test_re)\n",
    "\n",
    "acc_tr_rnd2 = round(random_forest.score(x_train_re, y_train) * 100, 2)\n",
    "acc_te_rnd2 = round(random_forest.score(x_test_re, y_test) * 100, 2)\n",
    "print(\"Train Accuracy:\", acc_tr_rnd2)\n",
    "print(\"Test Accuracy:\", acc_te_rnd2)"
   ]
  },
  {
   "cell_type": "markdown",
   "metadata": {},
   "source": [
    "__ Conclusion: __Apparently, the Random Forest and Logistic Regression perform better than the perceptron method.\n",
    "\n",
    "However, after the variables were transfromed to categorical variables, the accuracies are worse than before."
   ]
  },
  {
   "cell_type": "markdown",
   "metadata": {},
   "source": []
  },
  {
   "cell_type": "markdown",
   "metadata": {},
   "source": [
    "### Part 3\n",
    "\n",
    "1. __Derive the expression for the optimal parameters in the linear regression equation, i.e. solve the normal equation for Ordinary Least Squares for the case of Simple Linear Regression, when we only have one input and one output__\n",
    "\n",
    "Given a set of _n_ points $(X_i,Y_i)$ where $Yi$ is dependent on $Xi$ by a linear relation,  find the best-fit line,$$Z_i = {aX_i + b}$$  that minimizes the __sum of squared errors in Y__,i.e: $$minimize \\sum_{i}{(Y_i- Z_i)^2}$$\n",
    "__i. __ Show that $$ intercept \\quad b = \\overline{Y}-  a.\\overline{X}\\quad  and   \\quad slope \\quad a= \\frac{\\sum_{i}(X_i- \\overline{X})\u0001(Y_i- \\overline{Y})}{ \\sum_{i}(X_i- \\overline{X})^2}$$\n",
    "\n",
    "\n",
    " where $\\overline{X}$ and  $\\overline{Y}$ are the averages of the X values and the Y values, respectively.\n",
    " \n",
    "__ ii. __Show that slope _a_ can be written as $ a = r.(S_y /S_x)$ where $S_y$  = the standard deviation of the Y values and $S_x$= the standard deviation of the X values and _r_ is the correlation coefficient.\n",
    "\n",
    "##### Please try to write a nice LateXed version of your answer, and do the derivations of the expressions as nicely as possible\n",
    "\n",
    "\n",
    "_____"
   ]
  },
  {
   "cell_type": "markdown",
   "metadata": {
    "collapsed": true
   },
   "source": [
    "# Proof\n",
    "__i. __ The error can be express as\n",
    "$$ Q(a,b) = \\sum_{i=1}^{n}(y_i-(a+bx_i))^2 $$\n",
    "To get the minimize the error $ Q(a,b)$, we need to take the derivative:\n",
    "$$\\frac{\\partial Q}{\\partial b} = -2 \\sum_{i=1}^{n}(y_i - b - ax_i) = 0\\\\\n",
    "\\frac{\\partial Q}{\\partial a} = -2 \\sum_{i=1}^{n}(y_i - b - ax_i)x_i = 0\n",
    "$$\n",
    "Then we have\n",
    "$$\n",
    "nb + n\\bar{x}a = n\\bar{y}\\\\\n",
    "n\\bar{x}b + (\\sum_{i=1}^{n}x_i^{2})a = \\sum_{i=1}^{n}x_iy_i\n",
    "$$\n",
    "Solve the equations above, then we get:\n",
    "$$\n",
    "\\hat{b} = \\bar{y} - \\hat{a}\\bar{x}\\\\\n",
    "\\hat{a} = \\frac{\\sum_{i=1}^{n}(x_i-\\bar{x})(y_i - \\bar{y})}{\\sum_{i=1}^{n}(x_i - \\bar{x})^2}\n",
    "$$\n"
   ]
  },
  {
   "cell_type": "code",
   "execution_count": null,
   "metadata": {},
   "outputs": [],
   "source": []
  },
  {
   "cell_type": "markdown",
   "metadata": {},
   "source": [
    "__ ii. __\n",
    "$$\n",
    "\\hat{a} = \\frac{\\sum_{i=1}^{n}(x_i-\\bar{x})(y_i - \\bar{y})}{\\sum_{i=1}^{n}(x_i - \\bar{x})^2} = \\frac{\\sum_{i=1}^{n}(x_i-\\bar{x})(y_i - \\bar{y})}{S_x^2} = \\frac{S_y}{S_x} \\times \\frac{\\sum_{i=1}^{n}(x_i-\\bar{x})(y_i - \\bar{y})}{S_x S_y}\n",
    "$$\n",
    "\n",
    "Take $\\frac{\\sum_{i=1}^{n}(x_i-\\bar{x})(y_i - \\bar{y})}{S_x S_y}$ as the correlation coefficient $r$\n",
    "\n",
    "Therefore, $\\hat{a}$ can be expressed by:\n",
    "$$\n",
    "\\hat{a} = r(\\frac{S_y}{S_x})\n",
    "$$"
   ]
  },
  {
   "cell_type": "markdown",
   "metadata": {},
   "source": [
    "# Two Extra Credit Points: Fun with Webscraping & Text manipulation\n",
    "### (Mandatory for Grad students!)"
   ]
  },
  {
   "cell_type": "markdown",
   "metadata": {},
   "source": [
    "<div class='alert alert-info'> `NOTE:` **If you are a Graduate Section student (enrolled in 290), the Extra Credit Questions are mandatory.**</div>"
   ]
  },
  {
   "cell_type": "markdown",
   "metadata": {
    "collapsed": true
   },
   "source": [
    "## 1. Statistics in Presidential Debates\n",
    "\n",
    "Your first task is to scrape Presidential Debates from the Commission of Presidential Debates website: http://www.debates.org/index.php?page=debate-transcripts.\n",
    "\n",
    "To do this, you are not allowed to manually look up the URLs that you need, instead you have to scrape them. The root url to be scraped is the one listed above, namely: http://www.debates.org/index.php?page=debate-transcripts\n",
    "\n",
    "\n",
    "1. By using `requests` and `BeautifulSoup` find all the links / URLs on the website that links to transcriptions of **First Presidential Debates** from the years [2012, 2008, 2004, 2000, 1996, 1988, 1984, 1976, 1960]. In total you should find 9 links / URLs tat fulfill this criteria.\n",
    "2. When you have a list of the URLs your task is to create a Data Frame with some statistics (see example of output below):\n",
    "    1. Scrape the title of each link and use that as the column name in your Data Frame. \n",
    "    2. Count how long the transcript of the debate is (as in the number of characters in transcription string). Feel free to include `\\` characters in your count, but remove any breakline characters, i.e. `\\n`. You will get credit if your count is +/- 10% from our result.\n",
    "    3. Count how many times the word **war** was used in the different debates. Note that you have to convert the text in a smart way (to not count the word **warranty** for example, but counting **war.**, **war!**, **war,** or **War** etc.\n",
    "    4. Also scrape the most common used word in the debate, and write how many times it was used. Note that you have to use the same strategy as in 3 in order to do this.\n",
    "    \n",
    "**Tips:**\n",
    "\n",
    "___\n",
    "\n",
    "In order to solve question 3 and 4 above it can be useful to work with Regular Expressions and explore methods on strings like `.strip(), .replace(), .find(), .count(), .lower()` etc. Both are very powerful tools to do string processing in Python. To count common words for example I used a `Counter` object and a Regular expression pattern for only words, see example:\n",
    "\n",
    "```python\n",
    "    from collections import Counter\n",
    "    import re\n",
    "\n",
    "    counts = Counter(re.findall(r\"[\\w']+\", text.lower()))\n",
    "```\n",
    "\n",
    "Read more about Regular Expressions here: https://docs.python.org/3/howto/regex.html\n",
    "    \n",
    "    \n",
    "**Example output of all of the answers to EC Question 1:**\n",
    "\n",
    "\n",
    "![pres_stats](https://github.com/ikhlaqsidhu/data-x/raw/master/x-archive/misc/hw2_imgs_spring2018/president_stats.png)\n",
    "\n",
    "\n",
    "\n",
    "\n",
    "----\n",
    "\n",
    ".\n",
    "\n",
    "\n"
   ]
  },
  {
   "cell_type": "code",
   "execution_count": 85,
   "metadata": {},
   "outputs": [],
   "source": [
    "import requests\n",
    "import bs4 as bs\n",
    "from collections import Counter\n",
    "import re\n",
    "import operator"
   ]
  },
  {
   "cell_type": "code",
   "execution_count": 86,
   "metadata": {},
   "outputs": [],
   "source": [
    "source = requests.get(\"http://www.debates.org/index.php?page=debate-transcripts\")\n",
    "soup = bs.BeautifulSoup(source.content, features = \"html.parser\")"
   ]
  },
  {
   "cell_type": "code",
   "execution_count": 87,
   "metadata": {},
   "outputs": [
    {
     "name": "stdout",
     "output_type": "stream",
     "text": [
      "Info about October 3, 2012: The First Obama-Romney Presidential Debate: \n",
      "http://www.debates.org/index.php?page=october-3-2012-debate-transcript\n",
      "Info about September 26, 2008: The First McCain-Obama Presidential Debate: \n",
      "http://www.debates.org/index.php?page=2008-debate-transcript\n",
      "Info about September 30, 2004: The First Bush-Kerry Presidential Debate: \n",
      "http://www.debates.org/index.php?page=september-30-2004-debate-transcript\n",
      "Info about October 3, 2000: The First Gore-Bush Presidential Debate: \n",
      "http://www.debates.org/index.php?page=october-3-2000-transcript\n",
      "Info about October 6, 1996: The First Clinton-Dole Presidential Debate: \n",
      "http://www.debates.org/index.php?page=october-6-1996-debate-transcript\n",
      "Info about September 25, 1988: The First Bush-Dukakis Presidential Debate: \n",
      "http://www.debates.org/index.php?page=september-25-1988-debate-transcript\n",
      "Info about October 7, 1984: The First Reagan-Mondale Presidential Debate: \n",
      "http://www.debates.org/index.php?page=october-7-1984-debate-transcript\n",
      "Info about September 23, 1976: The First Carter-Ford Presidential Debate: \n",
      "http://www.debates.org/index.php?page=september-23-1976-debate-transcript\n",
      "Info about September 26, 1960: The First Kennedy-Nixon Presidential Debate: \n",
      "http://www.debates.org/index.php?page=september-26-1960-debate-transcript\n"
     ]
    }
   ],
   "source": [
    "#  1. get the links we want\n",
    "\n",
    "links = soup.find_all(\"a\")\n",
    "link_dict = {}\n",
    "for l in links:\n",
    "\n",
    "    if (\"First\" in l.text) & (\"Presidential\" in l.text) & (\"Debate\" in l.text):\n",
    "        print(\"Info about {}: \".format(l.text))\n",
    "        print(l.get(\"href\"))\n",
    "        link_dict[l.text] = l.get(\"href\")"
   ]
  },
  {
   "cell_type": "code",
   "execution_count": 291,
   "metadata": {},
   "outputs": [],
   "source": [
    "# 2. Get the information inside\n",
    "debate_df = pd.DataFrame(columns = [\"Debate Name\", \"text_length\", \"war_count\", \"most_common_w\", \"most_common_w_count\"])\n",
    "\n",
    "name = []\n",
    "text_length = []\n",
    "count = []\n",
    "words = []\n",
    "words_count = []\n",
    "for i,l in enumerate(link_dict):\n",
    "    \n",
    "#     get the href\n",
    "    url = link_dict[l]\n",
    "#     print(url)\n",
    "    debate_source = requests.get(url)\n",
    "    debate_soup = bs.BeautifulSoup(debate_source.content, features = \"html.parser\")\n",
    "#     replace the whitespace, not included \n",
    "    pro_text = debate_soup.text.strip().replace(r'\\s', \" \")\n",
    "\n",
    "#     what is wrong with the regular expression here? Can only use re.findall?\n",
    "    war_count = len(re.findall(r\"war[^\\w]?[s ]\", pro_text.lower()))\n",
    "\n",
    "\n",
    "#     return a dictionary of the count of each word\n",
    "    counts = Counter(re.findall(r\"[\\w']+\", pro_text.lower()))\n",
    "#   sort the counts of the words and return a list of tuple\n",
    "    sort_counts = sorted(counts.items(), key = operator.itemgetter(1), reverse = True)\n",
    "    most_commom_w = sort_counts[0][0]\n",
    "    most_common_w_count = sort_counts[0][1]\n",
    "\n",
    "#   store the value in the list\n",
    "    name.append(l)\n",
    "    words.append(most_commom_w)\n",
    "    words_count.append(most_common_w_count)\n",
    "    text_length.append(len(pro_text))\n",
    "    count.append(war_count)\n",
    "    \n",
    "# put it in the dataframe\n",
    "debate_df[\"Debate Name\"] = name\n",
    "debate_df[\"text_length\"] = text_length\n",
    "debate_df[\"war_count\"] = count\n",
    "debate_df[\"most_common_w_count\"] = words_count\n",
    "debate_df[\"most_common_w\"] = words\n",
    "# why there are 2 columns of mos_common_words?                 \n",
    "    "
   ]
  },
  {
   "cell_type": "code",
   "execution_count": 292,
   "metadata": {},
   "outputs": [
    {
     "data": {
      "text/html": [
       "<div>\n",
       "<style scoped>\n",
       "    .dataframe tbody tr th:only-of-type {\n",
       "        vertical-align: middle;\n",
       "    }\n",
       "\n",
       "    .dataframe tbody tr th {\n",
       "        vertical-align: top;\n",
       "    }\n",
       "\n",
       "    .dataframe thead th {\n",
       "        text-align: right;\n",
       "    }\n",
       "</style>\n",
       "<table border=\"1\" class=\"dataframe\">\n",
       "  <thead>\n",
       "    <tr style=\"text-align: right;\">\n",
       "      <th></th>\n",
       "      <th>0</th>\n",
       "      <th>1</th>\n",
       "      <th>2</th>\n",
       "      <th>3</th>\n",
       "      <th>4</th>\n",
       "      <th>5</th>\n",
       "      <th>6</th>\n",
       "      <th>7</th>\n",
       "      <th>8</th>\n",
       "    </tr>\n",
       "  </thead>\n",
       "  <tbody>\n",
       "    <tr>\n",
       "      <th>Debate Name</th>\n",
       "      <td>October 3, 2012: The First Obama-Romney Presid...</td>\n",
       "      <td>September 26, 2008: The First McCain-Obama Pre...</td>\n",
       "      <td>September 30, 2004: The First Bush-Kerry Presi...</td>\n",
       "      <td>October 3, 2000: The First Gore-Bush President...</td>\n",
       "      <td>October 6, 1996: The First Clinton-Dole Presid...</td>\n",
       "      <td>September 25, 1988: The First Bush-Dukakis Pre...</td>\n",
       "      <td>October 7, 1984: The First Reagan-Mondale Pres...</td>\n",
       "      <td>September 23, 1976: The First Carter-Ford Pres...</td>\n",
       "      <td>September 26, 1960: The First Kennedy-Nixon Pr...</td>\n",
       "    </tr>\n",
       "    <tr>\n",
       "      <th>text_length</th>\n",
       "      <td>97939</td>\n",
       "      <td>185262</td>\n",
       "      <td>85560</td>\n",
       "      <td>93895</td>\n",
       "      <td>95926</td>\n",
       "      <td>90570</td>\n",
       "      <td>89831</td>\n",
       "      <td>83671</td>\n",
       "      <td>63847</td>\n",
       "    </tr>\n",
       "    <tr>\n",
       "      <th>war_count</th>\n",
       "      <td>5</td>\n",
       "      <td>44</td>\n",
       "      <td>61</td>\n",
       "      <td>11</td>\n",
       "      <td>15</td>\n",
       "      <td>14</td>\n",
       "      <td>3</td>\n",
       "      <td>5</td>\n",
       "      <td>3</td>\n",
       "    </tr>\n",
       "    <tr>\n",
       "      <th>most_common_w</th>\n",
       "      <td>the</td>\n",
       "      <td>the</td>\n",
       "      <td>the</td>\n",
       "      <td>the</td>\n",
       "      <td>the</td>\n",
       "      <td>the</td>\n",
       "      <td>the</td>\n",
       "      <td>the</td>\n",
       "      <td>the</td>\n",
       "    </tr>\n",
       "    <tr>\n",
       "      <th>most_common_w_count</th>\n",
       "      <td>758</td>\n",
       "      <td>1471</td>\n",
       "      <td>858</td>\n",
       "      <td>920</td>\n",
       "      <td>877</td>\n",
       "      <td>805</td>\n",
       "      <td>868</td>\n",
       "      <td>858</td>\n",
       "      <td>780</td>\n",
       "    </tr>\n",
       "  </tbody>\n",
       "</table>\n",
       "</div>"
      ],
      "text/plain": [
       "                                                                     0  \\\n",
       "Debate Name          October 3, 2012: The First Obama-Romney Presid...   \n",
       "text_length                                                      97939   \n",
       "war_count                                                            5   \n",
       "most_common_w                                                      the   \n",
       "most_common_w_count                                                758   \n",
       "\n",
       "                                                                     1  \\\n",
       "Debate Name          September 26, 2008: The First McCain-Obama Pre...   \n",
       "text_length                                                     185262   \n",
       "war_count                                                           44   \n",
       "most_common_w                                                      the   \n",
       "most_common_w_count                                               1471   \n",
       "\n",
       "                                                                     2  \\\n",
       "Debate Name          September 30, 2004: The First Bush-Kerry Presi...   \n",
       "text_length                                                      85560   \n",
       "war_count                                                           61   \n",
       "most_common_w                                                      the   \n",
       "most_common_w_count                                                858   \n",
       "\n",
       "                                                                     3  \\\n",
       "Debate Name          October 3, 2000: The First Gore-Bush President...   \n",
       "text_length                                                      93895   \n",
       "war_count                                                           11   \n",
       "most_common_w                                                      the   \n",
       "most_common_w_count                                                920   \n",
       "\n",
       "                                                                     4  \\\n",
       "Debate Name          October 6, 1996: The First Clinton-Dole Presid...   \n",
       "text_length                                                      95926   \n",
       "war_count                                                           15   \n",
       "most_common_w                                                      the   \n",
       "most_common_w_count                                                877   \n",
       "\n",
       "                                                                     5  \\\n",
       "Debate Name          September 25, 1988: The First Bush-Dukakis Pre...   \n",
       "text_length                                                      90570   \n",
       "war_count                                                           14   \n",
       "most_common_w                                                      the   \n",
       "most_common_w_count                                                805   \n",
       "\n",
       "                                                                     6  \\\n",
       "Debate Name          October 7, 1984: The First Reagan-Mondale Pres...   \n",
       "text_length                                                      89831   \n",
       "war_count                                                            3   \n",
       "most_common_w                                                      the   \n",
       "most_common_w_count                                                868   \n",
       "\n",
       "                                                                     7  \\\n",
       "Debate Name          September 23, 1976: The First Carter-Ford Pres...   \n",
       "text_length                                                      83671   \n",
       "war_count                                                            5   \n",
       "most_common_w                                                      the   \n",
       "most_common_w_count                                                858   \n",
       "\n",
       "                                                                     8  \n",
       "Debate Name          September 26, 1960: The First Kennedy-Nixon Pr...  \n",
       "text_length                                                      63847  \n",
       "war_count                                                            3  \n",
       "most_common_w                                                      the  \n",
       "most_common_w_count                                                780  "
      ]
     },
     "metadata": {},
     "output_type": "display_data"
    }
   ],
   "source": [
    "debate_tf_T = debate_df.T\n",
    "display(debate_tf_T)"
   ]
  },
  {
   "cell_type": "markdown",
   "metadata": {},
   "source": [
    "    \n",
    "## 2. Download and read in specific line from many data sets\n",
    "\n",
    "Scrape the first 27 data sets from this URL http://people.sc.fsu.edu/~jburkardt/datasets/regression/ (i.e.`x01.txt` - `x27.txt`). Then, save the 5th line in each data set, this should be the name of the data set author (get rid of the `#` symbol, the white spaces and the comma at the end). \n",
    "\n",
    "Count how many times (with a Python function) each author is the reference for one of the 27 data sets. Showcase your results, sorted, with the most common author name first and how many times he appeared in data sets. Use a Pandas DataFrame to show your results, see example.\n",
    "\n",
    "**Example output of the answer EC Question 2:**\n",
    "\n",
    "![author_stats](https://github.com/ikhlaqsidhu/data-x/raw/master/x-archive/misc/hw2_imgs_spring2018/data_authors.png)\n"
   ]
  },
  {
   "cell_type": "code",
   "execution_count": 100,
   "metadata": {},
   "outputs": [],
   "source": [
    "people_source = requests.get(\"http://people.sc.fsu.edu/~jburkardt/datasets/regression/\").content\n",
    "people_soup = bs.BeautifulSoup(people_source, \"html.parser\")"
   ]
  },
  {
   "cell_type": "code",
   "execution_count": 130,
   "metadata": {
    "collapsed": true
   },
   "outputs": [
    {
     "data": {
      "text/plain": [
       "[b'#    Helmut Spaeth,',\n",
       " b'#    Helmut Spaeth,',\n",
       " b'#    Helmut Spaeth,',\n",
       " b'#    Helmut Spaeth,',\n",
       " b'#    Helmut Spaeth,',\n",
       " b'#    R J Freund and P D Minton,',\n",
       " b'#    D G Kleinbaum and L L Kupper,',\n",
       " b'#    Helmut Spaeth,',\n",
       " b'#    D G Kleinbaum and L L Kupper,',\n",
       " b'#    K A Brownlee,',\n",
       " b'#    Helmut Spaeth,',\n",
       " b'#    Helmut Spaeth,',\n",
       " b'#    S Chatterjee and B Price,',\n",
       " b'#    Helmut Spaeth,',\n",
       " b'#    Helmut Spaeth,',\n",
       " b'#    Helmut Spaeth,',\n",
       " b'#    Helmut Spaeth,',\n",
       " b'#    Helmut Spaeth,',\n",
       " b'#    R J Freund and P D Minton,',\n",
       " b'#    Helmut Spaeth,',\n",
       " b'#    Helmut Spaeth,',\n",
       " b'#    Helmut Spaeth,',\n",
       " b'#    S Chatterjee, B Price,',\n",
       " b'#    S Chatterjee, B Price,',\n",
       " b'#    S Chatterjee, B Price,',\n",
       " b'#    S C Narula, J F Wellington,',\n",
       " b'#    S C Narula, J F Wellington,']"
      ]
     },
     "execution_count": 130,
     "metadata": {},
     "output_type": "execute_result"
    }
   ],
   "source": [
    "links = people_soup.find_all(\"a\")\n",
    "\n",
    "# get the position of the x01.txt\n",
    "for i,l in enumerate(links):\n",
    "    if l.text == \"x01.txt\":\n",
    "        start = i\n",
    "        break\n",
    "\n",
    "author = []\n",
    "for i in range(start,start+27,1):\n",
    "    href = links[i].get(\"href\")\n",
    "    text = requests.get(\"http://people.sc.fsu.edu/~jburkardt/datasets/regression/{}\"\\\n",
    "                       .format(href)).content\n",
    "    author.append(text.splitlines()[4])\n"
   ]
  },
  {
   "cell_type": "code",
   "execution_count": 178,
   "metadata": {},
   "outputs": [],
   "source": [
    "# get the clean format of the name\n",
    "author_str = []\n",
    "for name in author:\n",
    "    name_clean = re.sub(r'[^\\w ]', \"\", name.decode(\"utf-8\").strip())[4:]\n",
    "    author_str.append(name_clean)\n"
   ]
  },
  {
   "cell_type": "code",
   "execution_count": 167,
   "metadata": {},
   "outputs": [
    {
     "data": {
      "text/html": [
       "<div>\n",
       "<style scoped>\n",
       "    .dataframe tbody tr th:only-of-type {\n",
       "        vertical-align: middle;\n",
       "    }\n",
       "\n",
       "    .dataframe tbody tr th {\n",
       "        vertical-align: top;\n",
       "    }\n",
       "\n",
       "    .dataframe thead th {\n",
       "        text-align: right;\n",
       "    }\n",
       "</style>\n",
       "<table border=\"1\" class=\"dataframe\">\n",
       "  <thead>\n",
       "    <tr style=\"text-align: right;\">\n",
       "      <th></th>\n",
       "      <th>Counts</th>\n",
       "    </tr>\n",
       "    <tr>\n",
       "      <th>Authors</th>\n",
       "      <th></th>\n",
       "    </tr>\n",
       "  </thead>\n",
       "  <tbody>\n",
       "    <tr>\n",
       "      <th>Helmut Spaeth</th>\n",
       "      <td>16</td>\n",
       "    </tr>\n",
       "    <tr>\n",
       "      <th>S Chatterjee B Price</th>\n",
       "      <td>3</td>\n",
       "    </tr>\n",
       "    <tr>\n",
       "      <th>R J Freund and P D Minton</th>\n",
       "      <td>2</td>\n",
       "    </tr>\n",
       "    <tr>\n",
       "      <th>D G Kleinbaum and L L Kupper</th>\n",
       "      <td>2</td>\n",
       "    </tr>\n",
       "    <tr>\n",
       "      <th>S C Narula J F Wellington</th>\n",
       "      <td>2</td>\n",
       "    </tr>\n",
       "    <tr>\n",
       "      <th>K A Brownlee</th>\n",
       "      <td>1</td>\n",
       "    </tr>\n",
       "    <tr>\n",
       "      <th>S Chatterjee and B Price</th>\n",
       "      <td>1</td>\n",
       "    </tr>\n",
       "  </tbody>\n",
       "</table>\n",
       "</div>"
      ],
      "text/plain": [
       "                              Counts\n",
       "Authors                             \n",
       "Helmut Spaeth                     16\n",
       "S Chatterjee B Price               3\n",
       "R J Freund and P D Minton          2\n",
       "D G Kleinbaum and L L Kupper       2\n",
       "S C Narula J F Wellington          2\n",
       "K A Brownlee                       1\n",
       "S Chatterjee and B Price           1"
      ]
     },
     "metadata": {},
     "output_type": "display_data"
    }
   ],
   "source": [
    "# count the occurences of the name\n",
    "\n",
    "count_ref = Counter(author_str)\n",
    "count_dict = dict(count_ref)\n",
    "\n",
    "# create the dataframe using the dictionary got above and sort the values\n",
    "count_df = pd.DataFrame(columns = [\"Authors\", \"Counts\"])\n",
    "count_df[\"Authors\"] = count_dict.keys()\n",
    "count_df[\"Counts\"] = count_dict.values()\n",
    "count_df.set_index(\"Authors\", inplace = True)\n",
    "count_df.sort_values(\"Counts\", inplace = True, ascending = False)\n",
    "\n",
    "display(count_df)"
   ]
  }
 ],
 "metadata": {
  "kernel_info": {
   "name": "data-x"
  },
  "kernelspec": {
   "display_name": "Python 3",
   "language": "python",
   "name": "python3"
  },
  "language_info": {
   "codemirror_mode": {
    "name": "ipython",
    "version": 3
   },
   "file_extension": ".py",
   "mimetype": "text/x-python",
   "name": "python",
   "nbconvert_exporter": "python",
   "pygments_lexer": "ipython3",
   "version": "3.6.3"
  },
  "nteract": {
   "version": "0.7.1"
  }
 },
 "nbformat": 4,
 "nbformat_minor": 2
}
